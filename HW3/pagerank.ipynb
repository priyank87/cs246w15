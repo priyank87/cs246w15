{
 "metadata": {
  "name": "",
  "signature": "sha256:0c8df5fdd258f84d3e9778e267b740a01de3b1eec38aab0fcfec7d85eec96f3e"
 },
 "nbformat": 3,
 "nbformat_minor": 0,
 "worksheets": [
  {
   "cells": [
    {
     "cell_type": "code",
     "collapsed": false,
     "input": [
      "import numpy as np\n",
      "import math"
     ],
     "language": "python",
     "metadata": {},
     "outputs": [],
     "prompt_number": 1
    },
    {
     "cell_type": "code",
     "collapsed": false,
     "input": [
      "beta = 0.8"
     ],
     "language": "python",
     "metadata": {},
     "outputs": [],
     "prompt_number": 37
    },
    {
     "cell_type": "code",
     "collapsed": false,
     "input": [
      "path = 'graph.txt'"
     ],
     "language": "python",
     "metadata": {},
     "outputs": [],
     "prompt_number": 38
    },
    {
     "cell_type": "code",
     "collapsed": false,
     "input": [
      "graph = {}\n",
      "for l in open(path).readlines():\n",
      "    src = int(l.split()[0])-1\n",
      "    dst = int(l.split()[1])-1\n",
      "    \n",
      "    if src in graph:\n",
      "        graph[src].append(dst)\n",
      "    else:\n",
      "        graph[src] = [dst]"
     ],
     "language": "python",
     "metadata": {},
     "outputs": [],
     "prompt_number": 39
    },
    {
     "cell_type": "code",
     "collapsed": false,
     "input": [],
     "language": "python",
     "metadata": {},
     "outputs": [],
     "prompt_number": 39
    },
    {
     "cell_type": "code",
     "collapsed": false,
     "input": [
      "def calcR(M, r, n, beta):\n",
      "    for i in range(40):\n",
      "        r = (beta * M.dot(r)) + ((1-beta) * n)\n",
      "        \n",
      "    return r[:,0]"
     ],
     "language": "python",
     "metadata": {},
     "outputs": [],
     "prompt_number": 40
    },
    {
     "cell_type": "code",
     "collapsed": false,
     "input": [
      "M = np.ndarray((len(graph.keys()), len(graph.keys())))\n",
      "\n",
      "for it in graph.iteritems():\n",
      "    key = it[0]\n",
      "    val = it[1]\n",
      "    outlinks = len(val)\n",
      "    \n",
      "    #print  key, outlinks\n",
      "    \n",
      "    for n in set(val):\n",
      "        cnt = val.count(n)\n",
      "        #print n, cnt, cnt*1.0/outlinks\n",
      "        M[n, key] = cnt*1.0/outlinks\n",
      "\n",
      "r = np.ones((100,1)) * 1.0/100\n",
      "n = np.ones_like(r) * 1.0/100"
     ],
     "language": "python",
     "metadata": {},
     "outputs": [],
     "prompt_number": 99
    },
    {
     "cell_type": "code",
     "collapsed": false,
     "input": [
      "%time r_n = calcR(M, r, n, beta)"
     ],
     "language": "python",
     "metadata": {},
     "outputs": [
      {
       "output_type": "stream",
       "stream": "stdout",
       "text": [
        "CPU times: user 791 \u00b5s, sys: 336 \u00b5s, total: 1.13 ms\n",
        "Wall time: 679 \u00b5s\n"
       ]
      }
     ],
     "prompt_number": 100
    },
    {
     "cell_type": "code",
     "collapsed": false,
     "input": [],
     "language": "python",
     "metadata": {},
     "outputs": [],
     "prompt_number": 45
    },
    {
     "cell_type": "code",
     "collapsed": false,
     "input": [],
     "language": "python",
     "metadata": {},
     "outputs": [],
     "prompt_number": 7
    },
    {
     "cell_type": "code",
     "collapsed": false,
     "input": [
      "def getNextRandom(edges, transM):\n",
      "    tempr = np.random.random()\n",
      "    for idx, i in enumerate(transM[edges]):\n",
      "        tempr -= i\n",
      "        #print tempr, i, idx, edges[idx]\n",
      "        if tempr <= 0:\n",
      "            return edges[idx]"
     ],
     "language": "python",
     "metadata": {},
     "outputs": [],
     "prompt_number": 48
    },
    {
     "cell_type": "code",
     "collapsed": false,
     "input": [
      "def mcPageRank(R, beta=beta):\n",
      "    mr = np.zeros((100,1))\n",
      "    for k in graph.keys():\n",
      "        transM = M[:,k]\n",
      "        edges = np.where(transM > 0)[0]\n",
      "        for i in range(R):\n",
      "            mr[k] += 1\n",
      "            while np.random.random() <= 0.8:\n",
      "                nxt = getNextRandom(edges, transM)\n",
      "                transM = M[:,nxt]\n",
      "                edges = np.where(transM > 0)[0]\n",
      "                mr[nxt] += 1\n",
      "    \n",
      "    return mr[:,0] / (len(graph.keys())*R*1.0 / (1 - beta))"
     ],
     "language": "python",
     "metadata": {},
     "outputs": [],
     "prompt_number": 57
    },
    {
     "cell_type": "code",
     "collapsed": false,
     "input": [
      "%time r1mc = mcPageRank(1)\n",
      "%time r3mc = mcPageRank(3)\n",
      "%time r5mc = mcPageRank(5)"
     ],
     "language": "python",
     "metadata": {},
     "outputs": [
      {
       "output_type": "stream",
       "stream": "stdout",
       "text": [
        "CPU times: user 11 ms, sys: 3.68 ms, total: 14.7 ms\n",
        "Wall time: 11.6 ms\n",
        "CPU times: user 24 ms, sys: 1.43 ms, total: 25.5 ms\n",
        "Wall time: 24.4 ms\n",
        "CPU times: user 34.7 ms, sys: 59 \u00b5s, total: 34.7 ms"
       ]
      },
      {
       "output_type": "stream",
       "stream": "stdout",
       "text": [
        "\n",
        "Wall time: 34.8 ms\n"
       ]
      }
     ],
     "prompt_number": 58
    },
    {
     "cell_type": "code",
     "collapsed": false,
     "input": [],
     "language": "python",
     "metadata": {},
     "outputs": [],
     "prompt_number": 58
    },
    {
     "cell_type": "code",
     "collapsed": false,
     "input": [],
     "language": "python",
     "metadata": {},
     "outputs": [],
     "prompt_number": 58
    },
    {
     "cell_type": "code",
     "collapsed": false,
     "input": [
      "def calcError(R, K):\n",
      "    sum_avg = 0\n",
      "    for it in range(100):\n",
      "        r_mc = mcPageRank(R)\n",
      "        #top_k = np.argsort(r_mc)[:K]\n",
      "        err_pi = np.array(sorted(r_n)[::-1][:K])\n",
      "        err_mc = np.array(sorted(r_mc)[::-1][:K])\n",
      "        avg_err = sum(map(abs, err_mc - err_pi))*1.0 / K\n",
      "        sum_avg += avg_err\n",
      "        \n",
      "    return sum_avg/100"
     ],
     "language": "python",
     "metadata": {},
     "outputs": [],
     "prompt_number": 59
    },
    {
     "cell_type": "code",
     "collapsed": false,
     "input": [
      "print calcError(1, 10)\n",
      "print calcError(3, 10)\n",
      "print calcError(5, 10)"
     ],
     "language": "python",
     "metadata": {},
     "outputs": [
      {
       "output_type": "stream",
       "stream": "stdout",
       "text": [
        "0.0040539431549\n",
        "0.00241938285403"
       ]
      },
      {
       "output_type": "stream",
       "stream": "stdout",
       "text": [
        "\n",
        "0.0019164964406"
       ]
      },
      {
       "output_type": "stream",
       "stream": "stdout",
       "text": [
        "\n"
       ]
      }
     ],
     "prompt_number": 60
    },
    {
     "cell_type": "code",
     "collapsed": false,
     "input": [
      "print calcError(1, 30)\n",
      "print calcError(3, 30)\n",
      "print calcError(5, 30)"
     ],
     "language": "python",
     "metadata": {},
     "outputs": [
      {
       "output_type": "stream",
       "stream": "stdout",
       "text": [
        "0.00245801764696\n",
        "0.00161394792445"
       ]
      },
      {
       "output_type": "stream",
       "stream": "stdout",
       "text": [
        "\n",
        "0.00119902095741"
       ]
      },
      {
       "output_type": "stream",
       "stream": "stdout",
       "text": [
        "\n"
       ]
      }
     ],
     "prompt_number": 61
    },
    {
     "cell_type": "code",
     "collapsed": false,
     "input": [
      "print calcError(1, 50)\n",
      "print calcError(3, 50)\n",
      "print calcError(5, 50)"
     ],
     "language": "python",
     "metadata": {},
     "outputs": [
      {
       "output_type": "stream",
       "stream": "stdout",
       "text": [
        "0.0018569538811\n",
        "0.00123403054648"
       ]
      },
      {
       "output_type": "stream",
       "stream": "stdout",
       "text": [
        "\n",
        "0.000991505597858"
       ]
      },
      {
       "output_type": "stream",
       "stream": "stdout",
       "text": [
        "\n"
       ]
      }
     ],
     "prompt_number": 62
    },
    {
     "cell_type": "code",
     "collapsed": false,
     "input": [],
     "language": "python",
     "metadata": {},
     "outputs": [],
     "prompt_number": 62
    },
    {
     "cell_type": "code",
     "collapsed": false,
     "input": [],
     "language": "python",
     "metadata": {},
     "outputs": [],
     "prompt_number": 62
    },
    {
     "cell_type": "code",
     "collapsed": false,
     "input": [],
     "language": "python",
     "metadata": {},
     "outputs": [],
     "prompt_number": 62
    },
    {
     "cell_type": "code",
     "collapsed": false,
     "input": [],
     "language": "python",
     "metadata": {},
     "outputs": [],
     "prompt_number": 62
    },
    {
     "cell_type": "code",
     "collapsed": false,
     "input": [
      "temp = \"0.0 0.025974026 0.012987013 0.0 0.0 0.0 0.0 0.038961039 0.0 0.0 \\\n",
      "0.012987013 0.0 0.038961039 0.064935065 0.0 0.0 0.012987013 0.0 \\\n",
      "0.0 0.0 0.0 0.025974026 0.0 0.012987013 0.025974026 0.025974026 \\\n",
      "0.0 0.038961039 0.0 0.012987013 0.025974026 0.0 0.012987013 0.0 \\\n",
      "0.0 0.0 0.0 0.025974026 0.0 0.0 0.0 0.0 0.0 0.051948052 0.0 \\\n",
      "0.012987013 0.0 0.0 0.0 0.012987013 0.012987013 0.0 0.051948052 \\\n",
      "0.0 0.0 0.012987013 0.0 0.012987013 0.012987013 0.0 0.0 0.0 0.0 \\\n",
      "0.012987013 0.012987013 0.025974026 0.025974026 0.0 0.0 0.0 0.0 \\\n",
      "0.0 0.025974026 0.0 0.0 0.0 0.0 0.038961039 0.064935065 \\\n",
      "0.025974026 0.0 0.064935065 0.0 0.0 0.012987013 0.0 0.0 \\\n",
      "0.012987013 0.012987013 0.0 0.0 0.0 0.0 0.012987013 0.025974026 \\\n",
      "0.0 0.0 0.012987013 0.0 0.012987013\""
     ],
     "language": "python",
     "metadata": {},
     "outputs": [],
     "prompt_number": 87
    },
    {
     "cell_type": "code",
     "collapsed": false,
     "input": [
      "np.sum(np.array(map(float, temp.split(\" \"))))"
     ],
     "language": "python",
     "metadata": {},
     "outputs": [
      {
       "metadata": {},
       "output_type": "pyout",
       "prompt_number": 90,
       "text": [
        "1.0000000010000003"
       ]
      }
     ],
     "prompt_number": 90
    },
    {
     "cell_type": "code",
     "collapsed": false,
     "input": [
      "0.012987013 * 3"
     ],
     "language": "python",
     "metadata": {},
     "outputs": [
      {
       "metadata": {},
       "output_type": "pyout",
       "prompt_number": 91,
       "text": [
        "0.038961039"
       ]
      }
     ],
     "prompt_number": 91
    },
    {
     "cell_type": "code",
     "collapsed": false,
     "input": [
      "len(graph[0])"
     ],
     "language": "python",
     "metadata": {},
     "outputs": [
      {
       "metadata": {},
       "output_type": "pyout",
       "prompt_number": 94,
       "text": [
        "17"
       ]
      }
     ],
     "prompt_number": 94
    },
    {
     "cell_type": "code",
     "collapsed": false,
     "input": [
      "M[:,0]"
     ],
     "language": "python",
     "metadata": {},
     "outputs": [
      {
       "metadata": {},
       "output_type": "pyout",
       "prompt_number": 98,
       "text": [
        "array([ 0.        ,  0.05882353,  0.        ,  0.        ,  0.        ,\n",
        "        0.        ,  0.        ,  0.11764706,  0.        ,  0.        ,\n",
        "        0.        ,  0.        ,  0.        ,  0.11764706,  0.        ,\n",
        "        0.        ,  0.        ,  0.        ,  0.        ,  0.        ,\n",
        "        0.        ,  0.05882353,  0.        ,  0.        ,  0.        ,\n",
        "        0.05882353,  0.        ,  0.        ,  0.        ,  0.        ,\n",
        "        0.        ,  0.        ,  0.        ,  0.        ,  0.        ,\n",
        "        0.        ,  0.        ,  0.        ,  0.        ,  0.        ,\n",
        "        0.        ,  0.        ,  0.        ,  0.05882353,  0.        ,\n",
        "        0.        ,  0.        ,  0.        ,  0.        ,  0.        ,\n",
        "        0.        ,  0.        ,  0.05882353,  0.        ,  0.        ,\n",
        "        0.        ,  0.        ,  0.        ,  0.        ,  0.        ,\n",
        "        0.        ,  0.        ,  0.        ,  0.        ,  0.        ,\n",
        "        0.05882353,  0.05882353,  0.        ,  0.        ,  0.        ,\n",
        "        0.        ,  0.        ,  0.        ,  0.        ,  0.        ,\n",
        "        0.        ,  0.        ,  0.11764706,  0.05882353,  0.05882353,\n",
        "        0.        ,  0.05882353,  0.        ,  0.        ,  0.        ,\n",
        "        0.        ,  0.        ,  0.        ,  0.        ,  0.        ,\n",
        "        0.        ,  0.        ,  0.        ,  0.        ,  0.05882353,\n",
        "        0.        ,  0.        ,  0.        ,  0.        ,  0.        ])"
       ]
      }
     ],
     "prompt_number": 98
    },
    {
     "cell_type": "code",
     "collapsed": false,
     "input": [],
     "language": "python",
     "metadata": {},
     "outputs": []
    }
   ],
   "metadata": {}
  }
 ]
}