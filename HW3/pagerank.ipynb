{
 "metadata": {
  "name": "",
  "signature": "sha256:1e70503deecf13c32a4c23d399eff4734cbfcc773b2ee4b9c13203c700719ec8"
 },
 "nbformat": 3,
 "nbformat_minor": 0,
 "worksheets": [
  {
   "cells": [
    {
     "cell_type": "code",
     "collapsed": false,
     "input": [
      "import numpy as np\n",
      "import math"
     ],
     "language": "python",
     "metadata": {},
     "outputs": [],
     "prompt_number": 2
    },
    {
     "cell_type": "code",
     "collapsed": false,
     "input": [
      "beta = 0.8"
     ],
     "language": "python",
     "metadata": {},
     "outputs": [],
     "prompt_number": 3
    },
    {
     "cell_type": "code",
     "collapsed": false,
     "input": [
      "path = 'graph.txt'"
     ],
     "language": "python",
     "metadata": {},
     "outputs": [],
     "prompt_number": 4
    },
    {
     "cell_type": "code",
     "collapsed": false,
     "input": [
      "graph = {}\n",
      "for l in open(path).readlines():\n",
      "    src = int(l.split()[0])-1\n",
      "    dst = int(l.split()[1])-1\n",
      "    \n",
      "    if src in graph:\n",
      "        graph[src].append(dst)\n",
      "    else:\n",
      "        graph[src] = [dst]"
     ],
     "language": "python",
     "metadata": {},
     "outputs": [],
     "prompt_number": 5
    },
    {
     "cell_type": "code",
     "collapsed": false,
     "input": [
      "def calcR(M, r, n, beta):\n",
      "    for i in range(40):\n",
      "        r = (beta * M.dot(r)) + ((1-beta) * n)\n",
      "        \n",
      "    return r[:,0]"
     ],
     "language": "python",
     "metadata": {},
     "outputs": [],
     "prompt_number": 6
    },
    {
     "cell_type": "code",
     "collapsed": false,
     "input": [
      "M = np.zeros((len(graph.keys()), len(graph.keys())))\n",
      "\n",
      "for it in graph.iteritems():\n",
      "    key = it[0]\n",
      "    val = it[1]\n",
      "    outlinks = len(val)\n",
      "    \n",
      "    #print  key, val, outlinks\n",
      "    \n",
      "    for n in set(val):\n",
      "        cnt = val.count(n)\n",
      "        #print n, cnt, cnt*1.0/outlinks\n",
      "        M[n, key] = cnt*1.0/outlinks\n",
      "\n",
      "r = np.ones((100,1)) * 1.0/100\n",
      "n = np.ones_like(r) * 1.0/100"
     ],
     "language": "python",
     "metadata": {},
     "outputs": [],
     "prompt_number": 7
    },
    {
     "cell_type": "code",
     "collapsed": false,
     "input": [],
     "language": "python",
     "metadata": {},
     "outputs": [],
     "prompt_number": 7
    },
    {
     "cell_type": "code",
     "collapsed": false,
     "input": [],
     "language": "python",
     "metadata": {},
     "outputs": [],
     "prompt_number": 7
    },
    {
     "cell_type": "code",
     "collapsed": false,
     "input": [
      "%time r_n = calcR(M, r, n, beta)"
     ],
     "language": "python",
     "metadata": {},
     "outputs": [
      {
       "output_type": "stream",
       "stream": "stdout",
       "text": [
        "CPU times: user 687 \u00b5s, sys: 387 \u00b5s, total: 1.07 ms\n",
        "Wall time: 654 \u00b5s\n"
       ]
      }
     ],
     "prompt_number": 10
    },
    {
     "cell_type": "code",
     "collapsed": false,
     "input": [],
     "language": "python",
     "metadata": {},
     "outputs": [],
     "prompt_number": 10
    },
    {
     "cell_type": "code",
     "collapsed": false,
     "input": [
      "def getNextRandom(edges, transM):\n",
      "    tempr = np.random.random()\n",
      "    #print \"==========\"\n",
      "    for idx, i in enumerate(transM[edges]):\n",
      "        tempr -= i\n",
      "        #print tempr, i, idx, edges[idx]\n",
      "        if tempr <= 0:\n",
      "            return edges[idx]"
     ],
     "language": "python",
     "metadata": {},
     "outputs": [],
     "prompt_number": 11
    },
    {
     "cell_type": "code",
     "collapsed": false,
     "input": [
      "def mcPageRank(R, beta=beta):\n",
      "    mr = np.zeros((100,1))\n",
      "    for k in graph.keys():\n",
      "        transM = M[:,k]\n",
      "        edges = np.where(transM > 0)[0]\n",
      "        for i in range(R):\n",
      "            mr[k] += 1\n",
      "            while np.random.random() <= 0.8:\n",
      "                nxt = getNextRandom(edges, transM)\n",
      "                transM = M[:,nxt]\n",
      "                edges = np.where(transM > 0)[0]\n",
      "                mr[nxt] += 1\n",
      "    \n",
      "    return mr[:,0] / (len(graph.keys())*R*1.0 / (1 - beta))"
     ],
     "language": "python",
     "metadata": {},
     "outputs": [],
     "prompt_number": 14
    },
    {
     "cell_type": "code",
     "collapsed": false,
     "input": [],
     "language": "python",
     "metadata": {},
     "outputs": [],
     "prompt_number": 21
    },
    {
     "cell_type": "code",
     "collapsed": false,
     "input": [
      "def calcError(R, K):\n",
      "    sum_avg = 0\n",
      "    top_k = np.argsort(r_n)[::-1][:K]\n",
      "    for it in range(100):\n",
      "        r_mc = mcPageRank(R)\n",
      "        err_pi = r_n[top_k]\n",
      "        err_mc = r_mc[top_k]\n",
      "        avg_err = sum(map(abs, err_mc - err_pi))*1.0 / K\n",
      "        sum_avg += avg_err\n",
      "        #print sum_avg, avg_err, err_mc - err_pi, sum(map(abs, err_mc - err_pi))*1.0\n",
      "        \n",
      "    return sum_avg/100"
     ],
     "language": "python",
     "metadata": {},
     "outputs": [],
     "prompt_number": 18
    },
    {
     "cell_type": "code",
     "collapsed": false,
     "input": [
      "print \"R = 1\"\n",
      "%time print calcError(1, 10)\n",
      "%time print calcError(1, 30)\n",
      "%time print calcError(1, 50)\n",
      "%time print calcError(1, 100)\n",
      "\n",
      "print \"\\nR = 3\"\n",
      "%time print calcError(3, 10)\n",
      "%time print calcError(3, 30)\n",
      "%time print calcError(3, 50)\n",
      "%time print calcError(3, 100)\n",
      "\n",
      "print \"\\nR = 5\"\n",
      "%time print calcError(5, 10)\n",
      "%time print calcError(5, 30)\n",
      "%time print calcError(5, 50)\n",
      "%time print calcError(5, 100)"
     ],
     "language": "python",
     "metadata": {},
     "outputs": [
      {
       "output_type": "stream",
       "stream": "stdout",
       "text": [
        "R = 1\n",
        "0.00603654442682"
       ]
      },
      {
       "output_type": "stream",
       "stream": "stdout",
       "text": [
        "\n",
        "CPU times: user 762 ms, sys: 2.23 ms, total: 765 ms\n",
        "Wall time: 764 ms\n",
        "0.00477172552533"
       ]
      },
      {
       "output_type": "stream",
       "stream": "stdout",
       "text": [
        "\n",
        "CPU times: user 801 ms, sys: 1.48 ms, total: 802 ms\n",
        "Wall time: 802 ms\n",
        "0.00386203854933"
       ]
      },
      {
       "output_type": "stream",
       "stream": "stdout",
       "text": [
        "\n",
        "CPU times: user 767 ms, sys: 1.91 ms, total: 769 ms\n",
        "Wall time: 770 ms\n",
        "0.00292774610943"
       ]
      },
      {
       "output_type": "stream",
       "stream": "stdout",
       "text": [
        "\n",
        "CPU times: user 803 ms, sys: 2.93 ms, total: 806 ms\n",
        "Wall time: 809 ms\n",
        "\n",
        "R = 3\n",
        "0.00346597404129"
       ]
      },
      {
       "output_type": "stream",
       "stream": "stdout",
       "text": [
        "\n",
        "CPU times: user 2.07 s, sys: 3.6 ms, total: 2.07 s\n",
        "Wall time: 2.07 s\n",
        "0.00265773096461"
       ]
      },
      {
       "output_type": "stream",
       "stream": "stdout",
       "text": [
        "\n",
        "CPU times: user 2.07 s, sys: 2.38 ms, total: 2.07 s\n",
        "Wall time: 2.07 s\n",
        "0.00227200653984"
       ]
      },
      {
       "output_type": "stream",
       "stream": "stdout",
       "text": [
        "\n",
        "CPU times: user 2.06 s, sys: 2.22 ms, total: 2.06 s\n",
        "Wall time: 2.06 s\n",
        "0.00171320427907"
       ]
      },
      {
       "output_type": "stream",
       "stream": "stdout",
       "text": [
        "\n",
        "CPU times: user 2.05 s, sys: 2.31 ms, total: 2.05 s\n",
        "Wall time: 2.05 s\n",
        "\n",
        "R = 5\n",
        "0.00266788653838"
       ]
      },
      {
       "output_type": "stream",
       "stream": "stdout",
       "text": [
        "\n",
        "CPU times: user 3.35 s, sys: 4.55 ms, total: 3.35 s\n",
        "Wall time: 3.35 s\n",
        "0.00215023529609"
       ]
      },
      {
       "output_type": "stream",
       "stream": "stdout",
       "text": [
        "\n",
        "CPU times: user 3.34 s, sys: 4.57 ms, total: 3.34 s\n",
        "Wall time: 3.34 s\n",
        "0.00179728283588"
       ]
      },
      {
       "output_type": "stream",
       "stream": "stdout",
       "text": [
        "\n",
        "CPU times: user 3.34 s, sys: 4.11 ms, total: 3.35 s\n",
        "Wall time: 3.35 s\n",
        "0.00134252987585"
       ]
      },
      {
       "output_type": "stream",
       "stream": "stdout",
       "text": [
        "\n",
        "CPU times: user 3.38 s, sys: 4.03 ms, total: 3.38 s\n",
        "Wall time: 3.39 s\n"
       ]
      }
     ],
     "prompt_number": 21
    },
    {
     "cell_type": "code",
     "collapsed": false,
     "input": [
      "r1v = [0.00603654442682, 0.00477172552533, 0.00386203854933, 0.00292774610943]\n",
      "r3v = [0.00346597404129, 0.00265773096461, 0.00227200653984, 0.00171320427907]\n",
      "r5v = [0.00266788653838, 0.00215023529609, 0.00179728283588, 0.00134252987585]"
     ],
     "language": "python",
     "metadata": {},
     "outputs": [],
     "prompt_number": 22
    },
    {
     "cell_type": "code",
     "collapsed": false,
     "input": [
      "np.average([762, 801, 767, 803])"
     ],
     "language": "python",
     "metadata": {},
     "outputs": [
      {
       "metadata": {},
       "output_type": "pyout",
       "prompt_number": 31,
       "text": [
        "783.25"
       ]
      }
     ],
     "prompt_number": 31
    },
    {
     "cell_type": "code",
     "collapsed": false,
     "input": [
      "plt.plot([10,30,50,100], r1v, label=\"R=1\")\n",
      "plt.plot([10,30,50,100], r3v, label=\"R=3\")\n",
      "plt.plot([10,30,50,100], r5v, label=\"R=5\")\n",
      "plt.legend()\n",
      "plt.title(\"Error vs k for R in [1,3,5]\")"
     ],
     "language": "python",
     "metadata": {},
     "outputs": [
      {
       "metadata": {},
       "output_type": "pyout",
       "prompt_number": 33,
       "text": [
        "<matplotlib.text.Text at 0x10901e510>"
       ]
      },
      {
       "metadata": {},
       "output_type": "display_data",
       "png": "[encoded data removed]",
       "text": [
        "<matplotlib.figure.Figure at 0x108e7b4d0>"
       ]
      }
     ],
     "prompt_number": 33
    },
    {
     "cell_type": "code",
     "collapsed": false,
     "input": [],
     "language": "python",
     "metadata": {},
     "outputs": []
    }
   ],
   "metadata": {}
  }
 ]
}