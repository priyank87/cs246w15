{
 "metadata": {
  "name": "",
  "signature": "sha256:78958853c3fc8a84548a29915bb31ad1824b557f20bc164cc5d200a540497c57"
 },
 "nbformat": 3,
 "nbformat_minor": 0,
 "worksheets": [
  {
   "cells": [
    {
     "cell_type": "code",
     "collapsed": false,
     "input": [
      "import numpy as np\n",
      "import math"
     ],
     "language": "python",
     "metadata": {},
     "outputs": [],
     "prompt_number": 108
    },
    {
     "cell_type": "code",
     "collapsed": false,
     "input": [
      "beta = 0.8"
     ],
     "language": "python",
     "metadata": {},
     "outputs": [],
     "prompt_number": 134
    },
    {
     "cell_type": "code",
     "collapsed": false,
     "input": [
      "path = 'graph.txt'"
     ],
     "language": "python",
     "metadata": {},
     "outputs": [],
     "prompt_number": 135
    },
    {
     "cell_type": "code",
     "collapsed": false,
     "input": [
      "graph = {}\n",
      "for l in open(path).readlines():\n",
      "    src = int(l.split()[0])-1\n",
      "    dst = int(l.split()[1])-1\n",
      "    \n",
      "    if src in graph:\n",
      "        graph[src].append(dst)\n",
      "    else:\n",
      "        graph[src] = [dst]"
     ],
     "language": "python",
     "metadata": {},
     "outputs": [],
     "prompt_number": 136
    },
    {
     "cell_type": "code",
     "collapsed": false,
     "input": [
      "def calcR(M, r, n, beta):\n",
      "    for i in range(40):\n",
      "        r = (beta * M.dot(r)) + ((1-beta) * n)\n",
      "        \n",
      "    return r[:,0]"
     ],
     "language": "python",
     "metadata": {},
     "outputs": [],
     "prompt_number": 192
    },
    {
     "cell_type": "code",
     "collapsed": false,
     "input": [
      "M = np.zeros((len(graph.keys()), len(graph.keys())))\n",
      "\n",
      "for it in graph.iteritems():\n",
      "    key = it[0]\n",
      "    val = it[1]\n",
      "    outlinks = len(val)\n",
      "    \n",
      "    #print  key, val, outlinks\n",
      "    \n",
      "    for n in set(val):\n",
      "        cnt = val.count(n)\n",
      "        #print n, cnt, cnt*1.0/outlinks\n",
      "        M[n, key] = cnt*1.0/outlinks\n",
      "\n",
      "r = np.ones((100,1)) * 1.0/100\n",
      "n = np.ones_like(r) * 1.0/100"
     ],
     "language": "python",
     "metadata": {},
     "outputs": [],
     "prompt_number": 194
    },
    {
     "cell_type": "code",
     "collapsed": false,
     "input": [],
     "language": "python",
     "metadata": {},
     "outputs": [],
     "prompt_number": 199
    },
    {
     "cell_type": "code",
     "collapsed": false,
     "input": [],
     "language": "python",
     "metadata": {},
     "outputs": [],
     "prompt_number": 199
    },
    {
     "cell_type": "code",
     "collapsed": false,
     "input": [
      "%time r_n = calcR(M, r, n, beta)"
     ],
     "language": "python",
     "metadata": {},
     "outputs": [
      {
       "output_type": "stream",
       "stream": "stdout",
       "text": [
        "CPU times: user 685 \u00b5s, sys: 413 \u00b5s, total: 1.1 ms\n",
        "Wall time: 642 \u00b5s\n"
       ]
      }
     ],
     "prompt_number": 200
    },
    {
     "cell_type": "code",
     "collapsed": false,
     "input": [],
     "language": "python",
     "metadata": {},
     "outputs": [],
     "prompt_number": 201
    },
    {
     "cell_type": "code",
     "collapsed": false,
     "input": [
      "def getNextRandom(edges, transM):\n",
      "    tempr = np.random.random()\n",
      "    for idx, i in enumerate(transM[edges]):\n",
      "        tempr -= i\n",
      "        #print tempr, i, idx, edges[idx]\n",
      "        if tempr <= 0:\n",
      "            return edges[idx]"
     ],
     "language": "python",
     "metadata": {},
     "outputs": [],
     "prompt_number": 115
    },
    {
     "cell_type": "code",
     "collapsed": false,
     "input": [
      "def mcPageRank(R, beta=beta):\n",
      "    mr = np.zeros((100,1))\n",
      "    for k in graph.keys():\n",
      "        transM = M[:,k]\n",
      "        edges = np.where(transM > 0)[0]\n",
      "        for i in range(R):\n",
      "            mr[k] += 1\n",
      "            while np.random.random() <= 0.8:\n",
      "                nxt = getNextRandom(edges, transM)\n",
      "                transM = M[:,nxt]\n",
      "                edges = np.where(transM > 0)[0]\n",
      "                mr[nxt] += 1\n",
      "    \n",
      "    return mr[:,0] / (len(graph.keys())*R*1.0 / (1 - beta))"
     ],
     "language": "python",
     "metadata": {},
     "outputs": [],
     "prompt_number": 116
    },
    {
     "cell_type": "code",
     "collapsed": false,
     "input": [
      "%time r1mc = mcPageRank(1)\n",
      "%time r3mc = mcPageRank(3)\n",
      "%time r5mc = mcPageRank(5)"
     ],
     "language": "python",
     "metadata": {},
     "outputs": [
      {
       "output_type": "stream",
       "stream": "stdout",
       "text": [
        "CPU times: user 12.3 ms, sys: 3.04 ms, total: 15.3 ms\n",
        "Wall time: 12.8 ms\n",
        "CPU times: user 23.4 ms, sys: 55 \u00b5s, total: 23.5 ms\n",
        "Wall time: 23.5 ms\n",
        "CPU times: user 38.6 ms, sys: 17 \u00b5s, total: 38.6 ms"
       ]
      },
      {
       "output_type": "stream",
       "stream": "stdout",
       "text": [
        "\n",
        "Wall time: 38.7 ms\n"
       ]
      }
     ],
     "prompt_number": 117
    },
    {
     "cell_type": "code",
     "collapsed": false,
     "input": [],
     "language": "python",
     "metadata": {},
     "outputs": [],
     "prompt_number": 117
    },
    {
     "cell_type": "code",
     "collapsed": false,
     "input": [],
     "language": "python",
     "metadata": {},
     "outputs": [],
     "prompt_number": 117
    },
    {
     "cell_type": "code",
     "collapsed": false,
     "input": [
      "def calcError(R, K):\n",
      "    sum_avg = 0\n",
      "    for it in range(100):\n",
      "        r_mc = mcPageRank(R)\n",
      "        top_k = np.argsort(r_n)[:K]\n",
      "        err_pi = r_n[top_k]\n",
      "        err_mc = r_mc[top_k]\n",
      "        #err_pi = np.array(sorted(r_n)[::-1][:K])\n",
      "        #err_mc = np.array(sorted(r_mc)[::-1][:K])\n",
      "        avg_err = sum(map(abs, err_mc - err_pi))*1.0 / K\n",
      "        sum_avg += avg_err\n",
      "        \n",
      "    return sum_avg/100"
     ],
     "language": "python",
     "metadata": {},
     "outputs": [],
     "prompt_number": 203
    },
    {
     "cell_type": "code",
     "collapsed": false,
     "input": [
      "print calcError(1, 10)\n",
      "print calcError(3, 10)\n",
      "print calcError(5, 10)"
     ],
     "language": "python",
     "metadata": {},
     "outputs": [
      {
       "output_type": "stream",
       "stream": "stdout",
       "text": [
        "0.00144950147866\n",
        "0.00088632766181"
       ]
      },
      {
       "output_type": "stream",
       "stream": "stdout",
       "text": [
        "\n",
        "0.000661300624358"
       ]
      },
      {
       "output_type": "stream",
       "stream": "stdout",
       "text": [
        "\n"
       ]
      }
     ],
     "prompt_number": 205
    },
    {
     "cell_type": "code",
     "collapsed": false,
     "input": [
      "print calcError(1, 30)\n",
      "print calcError(3, 30)\n",
      "print calcError(5, 30)"
     ],
     "language": "python",
     "metadata": {},
     "outputs": [
      {
       "output_type": "stream",
       "stream": "stdout",
       "text": [
        "0.00180931789973\n",
        "0.00102989628292"
       ]
      },
      {
       "output_type": "stream",
       "stream": "stdout",
       "text": [
        "\n",
        "0.000796344142868"
       ]
      },
      {
       "output_type": "stream",
       "stream": "stdout",
       "text": [
        "\n"
       ]
      }
     ],
     "prompt_number": 206
    },
    {
     "cell_type": "code",
     "collapsed": false,
     "input": [
      "print calcError(1, 50)\n",
      "print calcError(3, 50)\n",
      "print calcError(5, 50)"
     ],
     "language": "python",
     "metadata": {},
     "outputs": [
      {
       "output_type": "stream",
       "stream": "stdout",
       "text": [
        "0.00195170879412\n",
        "0.00114463269017"
       ]
      },
      {
       "output_type": "stream",
       "stream": "stdout",
       "text": [
        "\n",
        "0.000899966372323"
       ]
      },
      {
       "output_type": "stream",
       "stream": "stdout",
       "text": [
        "\n"
       ]
      }
     ],
     "prompt_number": 207
    },
    {
     "cell_type": "code",
     "collapsed": false,
     "input": [
      "print calcError(1, 100)\n",
      "print calcError(3, 100)\n",
      "print calcError(5, 100)"
     ],
     "language": "python",
     "metadata": {},
     "outputs": [
      {
       "output_type": "stream",
       "stream": "stdout",
       "text": [
        "0.00291034654761\n",
        "0.00172358680092"
       ]
      },
      {
       "output_type": "stream",
       "stream": "stdout",
       "text": [
        "\n",
        "0.00137015222941"
       ]
      },
      {
       "output_type": "stream",
       "stream": "stdout",
       "text": [
        "\n"
       ]
      }
     ],
     "prompt_number": 208
    },
    {
     "cell_type": "code",
     "collapsed": false,
     "input": [],
     "language": "python",
     "metadata": {},
     "outputs": [],
     "prompt_number": 208
    },
    {
     "cell_type": "code",
     "collapsed": false,
     "input": [],
     "language": "python",
     "metadata": {},
     "outputs": [],
     "prompt_number": 208
    },
    {
     "cell_type": "code",
     "collapsed": false,
     "input": [
      "top_k = np.argsort(r_n)[:5]\n",
      "err_pi = r_n[top_k]"
     ],
     "language": "python",
     "metadata": {},
     "outputs": [],
     "prompt_number": 209
    },
    {
     "cell_type": "code",
     "collapsed": false,
     "input": [
      "err_pi"
     ],
     "language": "python",
     "metadata": {},
     "outputs": [
      {
       "metadata": {},
       "output_type": "pyout",
       "prompt_number": 210,
       "text": [
        "array([ 0.00323482,  0.00344426,  0.00358043,  0.00371428,  0.00383986])"
       ]
      }
     ],
     "prompt_number": 210
    },
    {
     "cell_type": "code",
     "collapsed": false,
     "input": [
      "r_n"
     ],
     "language": "python",
     "metadata": {},
     "outputs": [
      {
       "metadata": {},
       "output_type": "pyout",
       "prompt_number": 211,
       "text": [
        "array([ 0.03514138,  0.00550444,  0.00749495,  0.0070644 ,  0.0143741 ,\n",
        "        0.00605002,  0.00404742,  0.00813281,  0.01352938,  0.00780504,\n",
        "        0.00493804,  0.00507789,  0.01696533,  0.03586677,  0.00636046,\n",
        "        0.00568594,  0.00587875,  0.01331689,  0.00546612,  0.00485897,\n",
        "        0.0062085 ,  0.01418511,  0.00447314,  0.00623798,  0.00678083,\n",
        "        0.01402686,  0.0331302 ,  0.00661586,  0.00674118,  0.00665952,\n",
        "        0.01210266,  0.00481402,  0.00502957,  0.00608728,  0.01183148,\n",
        "        0.00531844,  0.00371428,  0.00684048,  0.01239903,  0.03383064,\n",
        "        0.00727963,  0.01109913,  0.00660371,  0.01201036,  0.00437439,\n",
        "        0.00511566,  0.00606424,  0.02574298,  0.00535657,  0.00423294,\n",
        "        0.00765944,  0.01325418,  0.03786861,  0.0117551 ,  0.00915083,\n",
        "        0.00783616,  0.01733145,  0.00494735,  0.00344426,  0.00880096,\n",
        "        0.01788219,  0.00722944,  0.00404528,  0.00729548,  0.01760235,\n",
        "        0.02942981,  0.00985418,  0.00540312,  0.00637803,  0.01132412,\n",
        "        0.00673147,  0.00417022,  0.00740847,  0.01534616,  0.00614815,\n",
        "        0.00461301,  0.00697454,  0.01580912,  0.02059363,  0.00566839,\n",
        "        0.00358043,  0.00711889,  0.01275094,  0.00397887,  0.00323482,\n",
        "        0.00425818,  0.0131764 ,  0.00432855,  0.00383986,  0.00819513,\n",
        "        0.00566917,  0.01930195,  0.00580312,  0.00412947,  0.00702   ,\n",
        "        0.0211672 ,  0.00600774,  0.00436734,  0.00828186,  0.01336876])"
       ]
      }
     ],
     "prompt_number": 211
    },
    {
     "cell_type": "code",
     "collapsed": false,
     "input": [],
     "language": "python",
     "metadata": {},
     "outputs": []
    }
   ],
   "metadata": {}
  }
 ]
}