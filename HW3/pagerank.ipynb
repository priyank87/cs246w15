{
 "metadata": {
  "name": "",
  "signature": "sha256:aa37e7bb9f0a210f521f497d2f102d3724277c63c5699100374111e839d30ea6"
 },
 "nbformat": 3,
 "nbformat_minor": 0,
 "worksheets": [
  {
   "cells": [
    {
     "cell_type": "code",
     "collapsed": false,
     "input": [
      "import numpy as np\n",
      "import math"
     ],
     "language": "python",
     "metadata": {},
     "outputs": [],
     "prompt_number": 251
    },
    {
     "cell_type": "code",
     "collapsed": false,
     "input": [
      "beta = 0.8"
     ],
     "language": "python",
     "metadata": {},
     "outputs": [],
     "prompt_number": 2
    },
    {
     "cell_type": "code",
     "collapsed": false,
     "input": [
      "path = 'graph.txt'"
     ],
     "language": "python",
     "metadata": {},
     "outputs": [],
     "prompt_number": 3
    },
    {
     "cell_type": "code",
     "collapsed": false,
     "input": [
      "graph = {}\n",
      "for l in open(path).readlines():\n",
      "    src = int(l.split()[0])-1\n",
      "    dst = int(l.split()[1])-1\n",
      "    \n",
      "    if src in graph:\n",
      "        graph[src].append(dst)\n",
      "    else:\n",
      "        graph[src] = [dst]"
     ],
     "language": "python",
     "metadata": {},
     "outputs": [],
     "prompt_number": 17
    },
    {
     "cell_type": "code",
     "collapsed": false,
     "input": [],
     "language": "python",
     "metadata": {},
     "outputs": [],
     "prompt_number": 19
    },
    {
     "cell_type": "code",
     "collapsed": false,
     "input": [
      "def calcR(M, r, n, beta):\n",
      "    for i in range(40):\n",
      "        r = (beta * M.dot(r)) + ((1-beta) * n)\n",
      "        \n",
      "    return r[:,0]"
     ],
     "language": "python",
     "metadata": {},
     "outputs": [],
     "prompt_number": 236
    },
    {
     "cell_type": "code",
     "collapsed": false,
     "input": [
      "M = np.ndarray((len(graph.keys()), len(graph.keys())))\n",
      "\n",
      "for it in graph.iteritems():\n",
      "    key = it[0]\n",
      "    val = it[1]\n",
      "    outlinks = len(val)\n",
      "    \n",
      "    for n in set(val):\n",
      "        cnt = val.count(n)\n",
      "        M[n, key] = cnt*1.0/outlinks\n",
      "\n",
      "r = np.ones((100,1)) * 1.0/100\n",
      "n = np.ones_like(r) * 1.0/100"
     ],
     "language": "python",
     "metadata": {},
     "outputs": [],
     "prompt_number": 237
    },
    {
     "cell_type": "code",
     "collapsed": false,
     "input": [
      "%time r_n = calcR(M, r, n, beta)"
     ],
     "language": "python",
     "metadata": {},
     "outputs": [
      {
       "output_type": "stream",
       "stream": "stdout",
       "text": [
        "CPU times: user 612 \u00b5s, sys: 276 \u00b5s, total: 888 \u00b5s\n",
        "Wall time: 569 \u00b5s\n"
       ]
      }
     ],
     "prompt_number": 238
    },
    {
     "cell_type": "code",
     "collapsed": false,
     "input": [],
     "language": "python",
     "metadata": {},
     "outputs": [],
     "prompt_number": 115
    },
    {
     "cell_type": "code",
     "collapsed": false,
     "input": [],
     "language": "python",
     "metadata": {},
     "outputs": [],
     "prompt_number": 129
    },
    {
     "cell_type": "code",
     "collapsed": false,
     "input": [],
     "language": "python",
     "metadata": {},
     "outputs": [],
     "prompt_number": 138
    },
    {
     "cell_type": "code",
     "collapsed": false,
     "input": [
      "def getNextRandom(edges, transM):\n",
      "    tempr = np.random.random()\n",
      "    for idx, i in enumerate(transM[edges]):\n",
      "        tempr -= i\n",
      "        #print tempr, i, idx, edges[idx]\n",
      "        if tempr <= 0:\n",
      "            return edges[idx]"
     ],
     "language": "python",
     "metadata": {},
     "outputs": [],
     "prompt_number": 189
    },
    {
     "cell_type": "code",
     "collapsed": false,
     "input": [
      "def mcPageRank(R, beta=beta):\n",
      "    mr = np.zeros((100,1))\n",
      "    for k in graph.keys():\n",
      "        transM = M[:,k]\n",
      "        edges = np.where(transM > 0)[0]\n",
      "        for i in range(R):\n",
      "            while np.random.random() <= 0.8:\n",
      "                nxt = getNextRandom(edges, transM)\n",
      "                transM = M[:,nxt]\n",
      "                edges = np.where(transM > 0)[0]\n",
      "                mr[nxt] += 1\n",
      "    \n",
      "    return mr[:,0] / (len(graph.keys())*R*1.0 / (1 - beta))"
     ],
     "language": "python",
     "metadata": {},
     "outputs": [],
     "prompt_number": 232
    },
    {
     "cell_type": "code",
     "collapsed": false,
     "input": [
      "%time r1mc = mcPageRank(1)\n",
      "%time r3mc = mcPageRank(3)\n",
      "%time r5mc = mcPageRank(5)"
     ],
     "language": "python",
     "metadata": {},
     "outputs": [
      {
       "output_type": "stream",
       "stream": "stdout",
       "text": [
        "CPU times: user 8.78 ms, sys: 2.35 ms, total: 11.1 ms\n",
        "Wall time: 9.17 ms\n",
        "CPU times: user 19.6 ms, sys: 46 \u00b5s, total: 19.6 ms\n",
        "Wall time: 19.7 ms\n",
        "CPU times: user 31.6 ms, sys: 29 \u00b5s, total: 31.7 ms"
       ]
      },
      {
       "output_type": "stream",
       "stream": "stdout",
       "text": [
        "\n",
        "Wall time: 31.7 ms\n"
       ]
      }
     ],
     "prompt_number": 233
    },
    {
     "cell_type": "code",
     "collapsed": false,
     "input": [],
     "language": "python",
     "metadata": {},
     "outputs": []
    },
    {
     "cell_type": "code",
     "collapsed": false,
     "input": [],
     "language": "python",
     "metadata": {},
     "outputs": []
    },
    {
     "cell_type": "code",
     "collapsed": false,
     "input": [
      "def calcError(R, K):\n",
      "    sum_avg = 0\n",
      "    for it in range(100):\n",
      "        r_mc = mcPageRank(R)\n",
      "        top_k = np.argsort(r_mc)[::-K]\n",
      "        err_pi = r_n[top_k]\n",
      "        err_mc = r_mc[top_k]\n",
      "        avg_err = sum(map(abs, err_mc - err_pi))*1.0 / K\n",
      "        sum_avg += avg_err\n",
      "        \n",
      "    return sum_avg/100"
     ],
     "language": "python",
     "metadata": {},
     "outputs": [],
     "prompt_number": 261
    },
    {
     "cell_type": "code",
     "collapsed": false,
     "input": [
      "print calcError(1, 10)\n",
      "print calcError(3, 10)\n",
      "print calcError(5, 10)"
     ],
     "language": "python",
     "metadata": {},
     "outputs": [
      {
       "output_type": "stream",
       "stream": "stdout",
       "text": [
        "0.00394471738719\n",
        "0.00253200529084"
       ]
      },
      {
       "output_type": "stream",
       "stream": "stdout",
       "text": [
        "\n",
        "0.00222209756094"
       ]
      },
      {
       "output_type": "stream",
       "stream": "stdout",
       "text": [
        "\n"
       ]
      }
     ],
     "prompt_number": 264
    },
    {
     "cell_type": "code",
     "collapsed": false,
     "input": [
      "print calcError(1, 30)\n",
      "print calcError(3, 30)\n",
      "print calcError(5, 30)"
     ],
     "language": "python",
     "metadata": {},
     "outputs": [
      {
       "output_type": "stream",
       "stream": "stdout",
       "text": [
        "0.000634682862937\n",
        "0.00040579578789"
       ]
      },
      {
       "output_type": "stream",
       "stream": "stdout",
       "text": [
        "\n",
        "0.00033953090976"
       ]
      },
      {
       "output_type": "stream",
       "stream": "stdout",
       "text": [
        "\n"
       ]
      }
     ],
     "prompt_number": 266
    },
    {
     "cell_type": "code",
     "collapsed": false,
     "input": [
      "print calcError(1, 50)\n",
      "print calcError(3, 50)\n",
      "print calcError(5, 50)"
     ],
     "language": "python",
     "metadata": {},
     "outputs": [
      {
       "output_type": "stream",
       "stream": "stdout",
       "text": [
        "0.000208606373321\n",
        "0.000127508843402"
       ]
      },
      {
       "output_type": "stream",
       "stream": "stdout",
       "text": [
        "\n",
        "0.000104118876932"
       ]
      },
      {
       "output_type": "stream",
       "stream": "stdout",
       "text": [
        "\n"
       ]
      }
     ],
     "prompt_number": 267
    },
    {
     "cell_type": "code",
     "collapsed": false,
     "input": [],
     "language": "python",
     "metadata": {},
     "outputs": []
    }
   ],
   "metadata": {}
  }
 ]
}