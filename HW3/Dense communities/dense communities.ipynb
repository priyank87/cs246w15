{
 "metadata": {
  "name": "",
  "signature": "sha256:7e9b99079e4b7450ab77c66d34746e8d2fea60f8ec7e141b3d984ebb9001df47"
 },
 "nbformat": 3,
 "nbformat_minor": 0,
 "worksheets": [
  {
   "cells": [
    {
     "cell_type": "code",
     "collapsed": false,
     "input": [
      "import itertools\n",
      "from itertools import islice\n",
      "from collections import defaultdict\n",
      "import copy, math"
     ],
     "language": "python",
     "metadata": {},
     "outputs": [],
     "prompt_number": 114
    },
    {
     "cell_type": "code",
     "collapsed": false,
     "input": [
      "path = 'livejournal-undirected-small.txt'\n",
      "epsilon = 0.1"
     ],
     "language": "python",
     "metadata": {},
     "outputs": [],
     "prompt_number": 115
    },
    {
     "cell_type": "code",
     "collapsed": false,
     "input": [
      "def getNlines(path):\n",
      "    with open(path) as f:\n",
      "        while True:\n",
      "            next_n_lines = list(islice(f, 5000))\n",
      "            yield next_n_lines\n",
      "            if not next_n_lines:\n",
      "                break"
     ],
     "language": "python",
     "metadata": {},
     "outputs": [],
     "prompt_number": 116
    },
    {
     "cell_type": "code",
     "collapsed": false,
     "input": [
      "def getNodes(st):\n",
      "    return map(int, st.strip().split('\\t'))"
     ],
     "language": "python",
     "metadata": {},
     "outputs": [],
     "prompt_number": 117
    },
    {
     "cell_type": "code",
     "collapsed": false,
     "input": [
      "def initS(path=path, exclude=None):\n",
      "    k = getNlines(path)\n",
      "    S = set()\n",
      "    \n",
      "    exclude_nodes = set(itertools.chain(*exclude)) if exclude else []\n",
      "    print '======== Exclude - ', len(exclude_nodes)\n",
      "    \n",
      "    for i in k:\n",
      "        edges = map(getNodes, i)\n",
      "        if not len(edges): break\n",
      "            \n",
      "        for e in edges:\n",
      "            if e[0] not in S : S.add(e[0])\n",
      "            if e[1] not in S : S.add(e[1])\n",
      "    \n",
      "    S.difference_update(exclude_nodes)\n",
      "    \n",
      "    return S"
     ],
     "language": "python",
     "metadata": {},
     "outputs": [],
     "prompt_number": 118
    },
    {
     "cell_type": "code",
     "collapsed": false,
     "input": [
      "def checkMembership(e, S):\n",
      "    return True if e[0] in S and e[1] in S else False"
     ],
     "language": "python",
     "metadata": {},
     "outputs": [],
     "prompt_number": 119
    },
    {
     "cell_type": "code",
     "collapsed": false,
     "input": [
      "def calcDensityAndDegrees(S, path=path):\n",
      "    k = getNlines(path)\n",
      "    degrees = defaultdict(int)\n",
      "    count_induced_set = 0\n",
      "    \n",
      "    for i in k:\n",
      "        edges = map(getNodes, i)\n",
      "        for e in edges:\n",
      "            if checkMembership(e, S):\n",
      "                degrees[e[0]] += 1\n",
      "                degrees[e[1]] += 1\n",
      "                count_induced_set += 1\n",
      "    \n",
      "    return count_induced_set*1.0/len(S), degrees, count_induced_set"
     ],
     "language": "python",
     "metadata": {},
     "outputs": [],
     "prompt_number": 120
    },
    {
     "cell_type": "code",
     "collapsed": false,
     "input": [],
     "language": "python",
     "metadata": {},
     "outputs": [],
     "prompt_number": 120
    },
    {
     "cell_type": "code",
     "collapsed": false,
     "input": [],
     "language": "python",
     "metadata": {},
     "outputs": [],
     "prompt_number": 120
    },
    {
     "cell_type": "code",
     "collapsed": false,
     "input": [
      "def findCommunity(epsilon=epsilon, path=path, exclude=None):\n",
      "    S = initS(path, exclude)\n",
      "    Sa = copy.copy(S)\n",
      "    cnt = 0\n",
      "    \n",
      "    density, degrees, Es = calcDensityAndDegrees(S, path)\n",
      "    density_Sa = density\n",
      "    Es_Sa = Es\n",
      "    print 'cnt',cnt, \" - \" ,len(S), density\n",
      "    \n",
      "    densities = [density]\n",
      "    ind_set_cnts = [Es]\n",
      "    S_cnt = [len(S)]\n",
      "    \n",
      "    while len(S) > 0:\n",
      "        cnt += 1\n",
      "        S = {i for i,k in degrees.iteritems() if k>(2*(1+epsilon)*density)}\n",
      "        \n",
      "        if len(S) == 0:\n",
      "            density, degrees, Es = 0, {}, 0\n",
      "        else:\n",
      "            density, degrees, Es = calcDensityAndDegrees(S, path)\n",
      "        \n",
      "        print 'cnt',cnt, \" - \" ,len(S), density\n",
      "        \n",
      "        densities.append(density)\n",
      "        ind_set_cnts.append(Es)\n",
      "        S_cnt.append(len(S))\n",
      "        \n",
      "        if (density > density_Sa):\n",
      "            #print 'Update--------', density_Sa, density, S\n",
      "            Sa = copy.copy(S)\n",
      "            density_Sa = density\n",
      "            Es_Sa = Es\n",
      "        \n",
      "    return (Sa, density_Sa, Es_Sa), cnt, (densities, ind_set_cnts, S_cnt)"
     ],
     "language": "python",
     "metadata": {},
     "outputs": [],
     "prompt_number": 121
    },
    {
     "cell_type": "code",
     "collapsed": false,
     "input": [
      "comm005, iterations005, data = findCommunity(0.05, 'livejournal-undirected.txt')"
     ],
     "language": "python",
     "metadata": {},
     "outputs": [
      {
       "output_type": "stream",
       "stream": "stdout",
       "text": [
        "======== Exclude -  0\n",
        "cnt"
       ]
      },
      {
       "output_type": "stream",
       "stream": "stdout",
       "text": [
        " 0  -  499923 15.5909810111\n",
        "cnt"
       ]
      },
      {
       "output_type": "stream",
       "stream": "stdout",
       "text": [
        " 1  -  132453 32.7360271191\n",
        "cnt"
       ]
      },
      {
       "output_type": "stream",
       "stream": "stdout",
       "text": [
        " 2  -  34277 52.5529655454\n",
        "cnt"
       ]
      },
      {
       "output_type": "stream",
       "stream": "stdout",
       "text": [
        " 3  -  9720 78.0268518519\n",
        "cnt"
       ]
      },
      {
       "output_type": "stream",
       "stream": "stdout",
       "text": [
        " 4  -  3204 103.765293383\n",
        "cnt"
       ]
      },
      {
       "output_type": "stream",
       "stream": "stdout",
       "text": [
        " 5  -  1286 134.354587869\n",
        "cnt"
       ]
      },
      {
       "output_type": "stream",
       "stream": "stdout",
       "text": [
        " 6  -  258 103.775193798\n",
        "cnt"
       ]
      },
      {
       "output_type": "stream",
       "stream": "stdout",
       "text": [
        " 7  -  137 67.6569343066\n",
        "cnt 8  -  0 0\n"
       ]
      }
     ],
     "prompt_number": 108
    },
    {
     "cell_type": "code",
     "collapsed": false,
     "input": [
      "data[0]"
     ],
     "language": "python",
     "metadata": {},
     "outputs": [
      {
       "metadata": {},
       "output_type": "pyout",
       "prompt_number": 109,
       "text": [
        "[15.590981011075705,\n",
        " 32.73602711905355,\n",
        " 52.55296554540946,\n",
        " 78.02685185185184,\n",
        " 103.76529338327092,\n",
        " 134.35458786936238,\n",
        " 103.7751937984496,\n",
        " 67.65693430656934,\n",
        " 0]"
       ]
      }
     ],
     "prompt_number": 109
    },
    {
     "cell_type": "code",
     "collapsed": false,
     "input": [
      "plt.plot(data[0])"
     ],
     "language": "python",
     "metadata": {},
     "outputs": [
      {
       "metadata": {},
       "output_type": "pyout",
       "prompt_number": 110,
       "text": [
        "[<matplotlib.lines.Line2D at 0x10f141c90>]"
       ]
      },
      {
       "metadata": {},
       "output_type": "display_data",
       "png": "[encoded data removed]",
       "text": [
        "<matplotlib.figure.Figure at 0x10e477610>"
       ]
      }
     ],
     "prompt_number": 110
    },
    {
     "cell_type": "code",
     "collapsed": false,
     "input": [
      "plt.plot(data[1])"
     ],
     "language": "python",
     "metadata": {},
     "outputs": [
      {
       "metadata": {},
       "output_type": "pyout",
       "prompt_number": 111,
       "text": [
        "[<matplotlib.lines.Line2D at 0x10f1c1490>]"
       ]
      },
      {
       "metadata": {},
       "output_type": "display_data",
       "png": "[encoded data removed]",
       "text": [
        "<matplotlib.figure.Figure at 0x10ea9b690>"
       ]
      }
     ],
     "prompt_number": 111
    },
    {
     "cell_type": "code",
     "collapsed": false,
     "input": [
      "plt.plot(data[2])"
     ],
     "language": "python",
     "metadata": {},
     "outputs": [
      {
       "metadata": {},
       "output_type": "pyout",
       "prompt_number": 112,
       "text": [
        "[<matplotlib.lines.Line2D at 0x1106e4550>]"
       ]
      },
      {
       "metadata": {},
       "output_type": "display_data",
       "png": "[encoded data removed]",
       "text": [
        "<matplotlib.figure.Figure at 0x10ebd6510>"
       ]
      }
     ],
     "prompt_number": 112
    },
    {
     "cell_type": "code",
     "collapsed": false,
     "input": [],
     "language": "python",
     "metadata": {},
     "outputs": [],
     "prompt_number": 24
    },
    {
     "cell_type": "code",
     "collapsed": false,
     "input": [],
     "language": "python",
     "metadata": {},
     "outputs": []
    },
    {
     "cell_type": "code",
     "collapsed": false,
     "input": [],
     "language": "python",
     "metadata": {},
     "outputs": [],
     "prompt_number": 26
    },
    {
     "cell_type": "code",
     "collapsed": false,
     "input": [
      "%time comm01, iterations01, data = findCommunity(0.1, 'livejournal-undirected.txt')\n",
      "%time comm05, iterations05, data = findCommunity(0.5, 'livejournal-undirected.txt')\n",
      "%time comm1, iterations1, data = findCommunity(1, 'livejournal-undirected.txt')\n",
      "%time comm2, iterations2, data = findCommunity(2, 'livejournal-undirected.txt')"
     ],
     "language": "python",
     "metadata": {},
     "outputs": [
      {
       "output_type": "stream",
       "stream": "stdout",
       "text": [
        "======== Exclude -  0\n",
        "len________"
       ]
      },
      {
       "output_type": "stream",
       "stream": "stdout",
       "text": [
        " 499923 15.5909810111\n",
        "len________"
       ]
      },
      {
       "output_type": "stream",
       "stream": "stdout",
       "text": [
        " 124205 33.5050601828\n",
        "len________"
       ]
      },
      {
       "output_type": "stream",
       "stream": "stdout",
       "text": [
        " 30253 54.5409380888\n",
        "len________"
       ]
      },
      {
       "output_type": "stream",
       "stream": "stdout",
       "text": [
        " 8202 81.608632041\n",
        "len________"
       ]
      },
      {
       "output_type": "stream",
       "stream": "stdout",
       "text": [
        " 2578 107.448021722\n",
        "len________"
       ]
      },
      {
       "output_type": "stream",
       "stream": "stdout",
       "text": [
        " 967 120.314374354\n",
        "len________"
       ]
      },
      {
       "output_type": "stream",
       "stream": "stdout",
       "text": [
        " 218 101.403669725\n",
        "len________ 0 0\n",
        "CPU times: user 3min 40s, sys: 887 ms, total: 3min 41s\n",
        "Wall time: 3min 41s\n",
        "======== Exclude -  0\n",
        "len________"
       ]
      },
      {
       "output_type": "stream",
       "stream": "stdout",
       "text": [
        " 499923 15.5909810111\n",
        "len________"
       ]
      },
      {
       "output_type": "stream",
       "stream": "stdout",
       "text": [
        " 86898 37.7666689682\n",
        "len________"
       ]
      },
      {
       "output_type": "stream",
       "stream": "stdout",
       "text": [
        " 13702 67.452853598\n",
        "len________"
       ]
      },
      {
       "output_type": "stream",
       "stream": "stdout",
       "text": [
        " 2551 103.118384947\n",
        "len________"
       ]
      },
      {
       "output_type": "stream",
       "stream": "stdout",
       "text": [
        " 310 90.0161290323\n",
        "len________ 0 0\n",
        "CPU times: user 2min 47s, sys: 637 ms, total: 2min 48s\n",
        "Wall time: 2min 48s\n",
        "======== Exclude -  0\n",
        "len________"
       ]
      },
      {
       "output_type": "stream",
       "stream": "stdout",
       "text": [
        " 499923 15.5909810111\n",
        "len________"
       ]
      },
      {
       "output_type": "stream",
       "stream": "stdout",
       "text": [
        " 57929 42.5760672547\n",
        "len________"
       ]
      },
      {
       "output_type": "stream",
       "stream": "stdout",
       "text": [
        " 5973 80.2504604052\n",
        "len________"
       ]
      },
      {
       "output_type": "stream",
       "stream": "stdout",
       "text": [
        " 503 80.3260437376\n",
        "len________ 0 0\n",
        "CPU times: user 2min 22s, sys: 549 ms, total: 2min 22s\n",
        "Wall time: 2min 23s\n",
        "======== Exclude -  0\n",
        "len________"
       ]
      },
      {
       "output_type": "stream",
       "stream": "stdout",
       "text": [
        " 499923 15.5909810111\n",
        "len________"
       ]
      },
      {
       "output_type": "stream",
       "stream": "stdout",
       "text": [
        " 31035 49.9389399066\n",
        "len________"
       ]
      },
      {
       "output_type": "stream",
       "stream": "stdout",
       "text": [
        " 1307 73.403213466\n",
        "len________ 0 0\n",
        "CPU times: user 1min 56s, sys: 437 ms, total: 1min 56s\n",
        "Wall time: 1min 56s\n"
       ]
      }
     ],
     "prompt_number": 80
    },
    {
     "cell_type": "code",
     "collapsed": false,
     "input": [
      "%time comm2, iterations2, data = findCommunity(2, 'livejournal-undirected.txt')"
     ],
     "language": "python",
     "metadata": {},
     "outputs": [
      {
       "output_type": "stream",
       "stream": "stdout",
       "text": [
        "======== Exclude -  0\n",
        "cnt"
       ]
      },
      {
       "output_type": "stream",
       "stream": "stdout",
       "text": [
        " 0  -  499923 15.5909810111\n",
        "cnt"
       ]
      },
      {
       "output_type": "stream",
       "stream": "stdout",
       "text": [
        " 1  -  31035 49.9389399066\n",
        "cnt"
       ]
      },
      {
       "output_type": "stream",
       "stream": "stdout",
       "text": [
        " 2  -  1307 73.403213466\n",
        "cnt 3  -  0 0\n",
        "CPU times: user 2min 29s, sys: 1.61 s, total: 2min 31s\n",
        "Wall time: 2min 33s\n"
       ]
      }
     ],
     "prompt_number": 113
    },
    {
     "cell_type": "code",
     "collapsed": false,
     "input": [
      "x = [0.1, 0.5, 1, 2]\n",
      "y1 = iterations01, iterations05, iterations1, iterations1\n",
      "y2 = [math.log(499923,1.1), math.log(499923,1.5), math.log(499923,2), math.log(499923,3)]"
     ],
     "language": "python",
     "metadata": {},
     "outputs": [],
     "prompt_number": 83
    },
    {
     "cell_type": "code",
     "collapsed": false,
     "input": [
      "y2"
     ],
     "language": "python",
     "metadata": {},
     "outputs": [
      {
       "metadata": {},
       "output_type": "pyout",
       "prompt_number": 100,
       "text": [
        "[137.67899076977355, 32.363350392272345, 18.93134637717864, 11.944349704529223]"
       ]
      }
     ],
     "prompt_number": 100
    },
    {
     "cell_type": "code",
     "collapsed": false,
     "input": [
      "plt.figure(1, figsize=(5,5))\n",
      "plt.plot(x,y1,'r*',label='iterations')\n",
      "plt.plot(x,y2,'b+', label='theoretical iterations')\n",
      "plt.legend()\n",
      "plt.title('Iterations vs epsilon')"
     ],
     "language": "python",
     "metadata": {},
     "outputs": [
      {
       "metadata": {},
       "output_type": "pyout",
       "prompt_number": 98,
       "text": [
        "<matplotlib.text.Text at 0x10ea58d10>"
       ]
      },
      {
       "metadata": {},
       "output_type": "display_data",
       "png": "[encoded data removed]",
       "text": [
        "<matplotlib.figure.Figure at 0x10e02a190>"
       ]
      }
     ],
     "prompt_number": 98
    },
    {
     "cell_type": "code",
     "collapsed": false,
     "input": [],
     "language": "python",
     "metadata": {},
     "outputs": []
    },
    {
     "cell_type": "code",
     "collapsed": false,
     "input": [
      "print math.log(499923,1.1)\n",
      "print math.log(499923,1.5)\n",
      "print math.log(499923,2)\n",
      "print math.log(499923,3)"
     ],
     "language": "python",
     "metadata": {},
     "outputs": [
      {
       "output_type": "stream",
       "stream": "stdout",
       "text": [
        "137.67899077\n",
        "32.3633503923\n",
        "18.9313463772\n",
        "11.9443497045\n"
       ]
      }
     ],
     "prompt_number": 81
    },
    {
     "cell_type": "code",
     "collapsed": false,
     "input": [],
     "language": "python",
     "metadata": {},
     "outputs": [],
     "prompt_number": 302
    },
    {
     "cell_type": "code",
     "collapsed": false,
     "input": [
      "Sa_cnts = []\n",
      "density_Sa_cnt = []\n",
      "Es_Sa_cnt = []\n",
      "exclude = []\n",
      "\n",
      "for i in range(20):\n",
      "    comm005, iterations005, data = findCommunity(0.05, 'livejournal-undirected.txt', exclude)\n",
      "    Sa_cnts.append(len(comm005[0]))\n",
      "    density_Sa_cnt.append(comm005[1])\n",
      "    Es_Sa_cnt.append(comm005[2])\n",
      "    \n",
      "    exclude.append(comm005[0])\n",
      "    \n",
      "    print len(comm005[0]), comm005[1], comm005[2]"
     ],
     "language": "python",
     "metadata": {},
     "outputs": [
      {
       "output_type": "stream",
       "stream": "stdout",
       "text": [
        "======== Exclude -  0\n",
        "len________"
       ]
      },
      {
       "output_type": "stream",
       "stream": "stdout",
       "text": [
        " 499923 15.5909810111\n",
        "len________"
       ]
      },
      {
       "output_type": "stream",
       "stream": "stdout",
       "text": [
        " 132453 32.7360271191\n",
        "len________"
       ]
      },
      {
       "output_type": "stream",
       "stream": "stdout",
       "text": [
        " 34277 52.5529655454\n",
        "len________"
       ]
      },
      {
       "output_type": "stream",
       "stream": "stdout",
       "text": [
        " 9720 78.0268518519\n",
        "len________"
       ]
      },
      {
       "output_type": "stream",
       "stream": "stdout",
       "text": [
        " 3204 103.765293383\n",
        "len________"
       ]
      },
      {
       "output_type": "stream",
       "stream": "stdout",
       "text": [
        " 1286 134.354587869\n",
        "len________"
       ]
      },
      {
       "output_type": "stream",
       "stream": "stdout",
       "text": [
        " 258 103.775193798\n",
        "len________"
       ]
      },
      {
       "output_type": "stream",
       "stream": "stdout",
       "text": [
        " 137 67.6569343066\n",
        "len________ 0 0\n",
        "1286 134.354587869 172780\n",
        "======== Exclude -  1286\n",
        "len________"
       ]
      },
      {
       "output_type": "stream",
       "stream": "stdout",
       "text": [
        " 498637 14.8014627876\n",
        "len________"
       ]
      },
      {
       "output_type": "stream",
       "stream": "stdout",
       "text": [
        " 134721 29.7520356886\n",
        "len________"
       ]
      },
      {
       "output_type": "stream",
       "stream": "stdout",
       "text": [
        " 36997 42.5548287699\n",
        "len________"
       ]
      },
      {
       "output_type": "stream",
       "stream": "stdout",
       "text": [
        " 11365 52.2338759349\n",
        "len________"
       ]
      },
      {
       "output_type": "stream",
       "stream": "stdout",
       "text": [
        " 3933 54.8433765573\n",
        "len________"
       ]
      },
      {
       "output_type": "stream",
       "stream": "stdout",
       "text": [
        " 1431 46.9133473096\n",
        "len________"
       ]
      },
      {
       "output_type": "stream",
       "stream": "stdout",
       "text": [
        " 386 63.0829015544\n",
        "len________"
       ]
      },
      {
       "output_type": "stream",
       "stream": "stdout",
       "text": [
        " 238 87.5336134454\n",
        "len________"
       ]
      },
      {
       "output_type": "stream",
       "stream": "stdout",
       "text": [
        " 86 40.5581395349\n",
        "len________ 0 0\n",
        "238 87.5336134454 20833\n",
        "======== Exclude -  1524\n",
        "len________"
       ]
      },
      {
       "output_type": "stream",
       "stream": "stdout",
       "text": [
        " 498399 14.7586853104\n",
        "len________"
       ]
      },
      {
       "output_type": "stream",
       "stream": "stdout",
       "text": [
        " 139188 29.3016136449\n",
        "len________"
       ]
      },
      {
       "output_type": "stream",
       "stream": "stdout",
       "text": [
        " 38334 41.8151249543\n",
        "len________"
       ]
      },
      {
       "output_type": "stream",
       "stream": "stdout",
       "text": [
        " 11782 51.1602444407\n",
        "len________"
       ]
      },
      {
       "output_type": "stream",
       "stream": "stdout",
       "text": [
        " 3989 52.7525695663\n",
        "len________"
       ]
      },
      {
       "output_type": "stream",
       "stream": "stdout",
       "text": [
        " 1463 41.7142857143\n",
        "len________"
       ]
      },
      {
       "output_type": "stream",
       "stream": "stdout",
       "text": [
        " 562 28.9341637011\n",
        "len________"
       ]
      },
      {
       "output_type": "stream",
       "stream": "stdout",
       "text": [
        " 202 29.7178217822\n",
        "len________"
       ]
      },
      {
       "output_type": "stream",
       "stream": "stdout",
       "text": [
        " 94 40.9042553191\n",
        "len________"
       ]
      },
      {
       "output_type": "stream",
       "stream": "stdout",
       "text": [
        " 53 25.9622641509\n",
        "len________ 0 0\n",
        "3989 52.7525695663 210430\n",
        "======== Exclude -  5513\n",
        "len________"
       ]
      },
      {
       "output_type": "stream",
       "stream": "stdout",
       "text": [
        " 494410 12.7588903946\n",
        "len________"
       ]
      },
      {
       "output_type": "stream",
       "stream": "stdout",
       "text": [
        " 149608 22.706726913\n",
        "len________"
       ]
      },
      {
       "output_type": "stream",
       "stream": "stdout",
       "text": [
        " 46071 26.1506370602\n",
        "len________"
       ]
      },
      {
       "output_type": "stream",
       "stream": "stdout",
       "text": [
        " 14651 25.5370281892\n",
        "len________"
       ]
      },
      {
       "output_type": "stream",
       "stream": "stdout",
       "text": [
        " 5076 23.9680851064\n",
        "len________"
       ]
      },
      {
       "output_type": "stream",
       "stream": "stdout",
       "text": [
        " 1882 21.4994686504\n",
        "len________"
       ]
      },
      {
       "output_type": "stream",
       "stream": "stdout",
       "text": [
        " 754 22.5835543767\n",
        "len________"
       ]
      },
      {
       "output_type": "stream",
       "stream": "stdout",
       "text": [
        " 350 23.1028571429\n",
        "len________"
       ]
      },
      {
       "output_type": "stream",
       "stream": "stdout",
       "text": [
        " 147 21.4217687075\n",
        "len________"
       ]
      },
      {
       "output_type": "stream",
       "stream": "stdout",
       "text": [
        " 70 32.5857142857\n",
        "len________"
       ]
      },
      {
       "output_type": "stream",
       "stream": "stdout",
       "text": [
        " 19 9.0\n",
        "len________ 0 0\n",
        "70 32.5857142857 2281\n",
        "======== Exclude -  5583\n",
        "len________"
       ]
      },
      {
       "output_type": "stream",
       "stream": "stdout",
       "text": [
        " 494340 12.7517538536\n",
        "len________"
       ]
      },
      {
       "output_type": "stream",
       "stream": "stdout",
       "text": [
        " 149509 22.6927342167\n",
        "len________"
       ]
      },
      {
       "output_type": "stream",
       "stream": "stdout",
       "text": [
        " 45975 26.1188907015\n",
        "len________"
       ]
      },
      {
       "output_type": "stream",
       "stream": "stdout",
       "text": [
        " 14567 25.4680442095\n",
        "len________"
       ]
      },
      {
       "output_type": "stream",
       "stream": "stdout",
       "text": [
        " 4996 23.7818254604\n",
        "len________"
       ]
      },
      {
       "output_type": "stream",
       "stream": "stdout",
       "text": [
        " 1896 21.3676160338\n",
        "len________"
       ]
      },
      {
       "output_type": "stream",
       "stream": "stdout",
       "text": [
        " 776 22.2152061856\n",
        "len________"
       ]
      },
      {
       "output_type": "stream",
       "stream": "stdout",
       "text": [
        " 345 22.1043478261\n",
        "len________"
       ]
      },
      {
       "output_type": "stream",
       "stream": "stdout",
       "text": [
        " 155 19.0967741935\n",
        "len________"
       ]
      },
      {
       "output_type": "stream",
       "stream": "stdout",
       "text": [
        " 59 25.7288135593\n",
        "len________"
       ]
      },
      {
       "output_type": "stream",
       "stream": "stdout",
       "text": [
        " 23 11.0\n",
        "len________ 0 0\n",
        "45975 26.1188907015 1200816\n",
        "======== Exclude -  51558\n",
        "len________"
       ]
      },
      {
       "output_type": "stream",
       "stream": "stdout",
       "text": [
        " 448365 6.01135235801\n",
        "len________"
       ]
      },
      {
       "output_type": "stream",
       "stream": "stdout",
       "text": [
        " 167117 8.26008724427\n",
        "len________"
       ]
      },
      {
       "output_type": "stream",
       "stream": "stdout",
       "text": [
        " 58659 7.1055762969\n",
        "len________"
       ]
      },
      {
       "output_type": "stream",
       "stream": "stdout",
       "text": [
        " 23915 6.99623667155\n",
        "len________"
       ]
      },
      {
       "output_type": "stream",
       "stream": "stdout",
       "text": [
        " 9569 8.3309645731\n",
        "len________"
       ]
      },
      {
       "output_type": "stream",
       "stream": "stdout",
       "text": [
        " 4057 9.23539561252\n",
        "len________"
       ]
      },
      {
       "output_type": "stream",
       "stream": "stdout",
       "text": [
        " 1658 9.88962605549\n",
        "len________"
       ]
      },
      {
       "output_type": "stream",
       "stream": "stdout",
       "text": [
        " 703 11.0853485064\n",
        "len________"
       ]
      },
      {
       "output_type": "stream",
       "stream": "stdout",
       "text": [
        " 261 14.3103448276\n",
        "len________"
       ]
      },
      {
       "output_type": "stream",
       "stream": "stdout",
       "text": [
        " 110 17.6181818182\n",
        "len________"
       ]
      },
      {
       "output_type": "stream",
       "stream": "stdout",
       "text": [
        " 32 15.5\n",
        "len________ 0 0\n",
        "110 17.6181818182 1938\n",
        "======== Exclude -  51668\n",
        "len________"
       ]
      },
      {
       "output_type": "stream",
       "stream": "stdout",
       "text": [
        " 448255 6.00780582481\n",
        "len________"
       ]
      },
      {
       "output_type": "stream",
       "stream": "stdout",
       "text": [
        " 166995 8.25274409413\n",
        "len________"
       ]
      },
      {
       "output_type": "stream",
       "stream": "stdout",
       "text": [
        " 58540 7.0825760164\n",
        "len________"
       ]
      },
      {
       "output_type": "stream",
       "stream": "stdout",
       "text": [
        " 23796 6.93969574718\n",
        "len________"
       ]
      },
      {
       "output_type": "stream",
       "stream": "stdout",
       "text": [
        " 9450 8.2053968254\n",
        "len________"
       ]
      },
      {
       "output_type": "stream",
       "stream": "stdout",
       "text": [
        " 3938 8.96140172676\n",
        "len________"
       ]
      },
      {
       "output_type": "stream",
       "stream": "stdout",
       "text": [
        " 1761 9.61215218626\n",
        "len________"
       ]
      },
      {
       "output_type": "stream",
       "stream": "stdout",
       "text": [
        " 745 9.47919463087\n",
        "len________"
       ]
      },
      {
       "output_type": "stream",
       "stream": "stdout",
       "text": [
        " 346 11.0173410405\n",
        "len________"
       ]
      },
      {
       "output_type": "stream",
       "stream": "stdout",
       "text": [
        " 149 11.3154362416\n",
        "len________"
       ]
      },
      {
       "output_type": "stream",
       "stream": "stdout",
       "text": [
        " 60 14.2833333333\n",
        "len________"
       ]
      },
      {
       "output_type": "stream",
       "stream": "stdout",
       "text": [
        " 26 12.5\n",
        "len________ 0 0\n",
        "60 14.2833333333 857\n",
        "======== Exclude -  51728\n",
        "len________"
       ]
      },
      {
       "output_type": "stream",
       "stream": "stdout",
       "text": [
        " 448195 6.00636553286\n",
        "len________"
       ]
      },
      {
       "output_type": "stream",
       "stream": "stdout",
       "text": [
        " 166928 8.25003594364\n",
        "len________"
       ]
      },
      {
       "output_type": "stream",
       "stream": "stdout",
       "text": [
        " 58473 7.07355531613\n",
        "len________"
       ]
      },
      {
       "output_type": "stream",
       "stream": "stdout",
       "text": [
        " 23729 6.91714779384\n",
        "len________"
       ]
      },
      {
       "output_type": "stream",
       "stream": "stdout",
       "text": [
        " 9383 8.15751891719\n",
        "len________"
       ]
      },
      {
       "output_type": "stream",
       "stream": "stdout",
       "text": [
        " 3871 8.85843451305\n",
        "len________"
       ]
      },
      {
       "output_type": "stream",
       "stream": "stdout",
       "text": [
        " 1694 9.4025974026\n",
        "len________"
       ]
      },
      {
       "output_type": "stream",
       "stream": "stdout",
       "text": [
        " 786 9.44529262087\n",
        "len________"
       ]
      },
      {
       "output_type": "stream",
       "stream": "stdout",
       "text": [
        " 388 9.68041237113\n",
        "len________"
       ]
      },
      {
       "output_type": "stream",
       "stream": "stdout",
       "text": [
        " 196 10.5153061224\n",
        "len________"
       ]
      },
      {
       "output_type": "stream",
       "stream": "stdout",
       "text": [
        " 104 9.75\n",
        "len________"
       ]
      },
      {
       "output_type": "stream",
       "stream": "stdout",
       "text": [
        " 22 9.86363636364\n",
        "len________"
       ]
      },
      {
       "output_type": "stream",
       "stream": "stdout",
       "text": [
        " 6 2.5\n",
        "len________ 0 0\n",
        "196 10.5153061224 2061\n",
        "======== Exclude -  51924\n",
        "len________"
       ]
      },
      {
       "output_type": "stream",
       "stream": "stdout",
       "text": [
        " 447999 5.99698883256\n",
        "len________"
       ]
      },
      {
       "output_type": "stream",
       "stream": "stdout",
       "text": [
        " 166596 8.23220245384\n",
        "len________"
       ]
      },
      {
       "output_type": "stream",
       "stream": "stdout",
       "text": [
        " 58112 7.02576060022\n",
        "len________"
       ]
      },
      {
       "output_type": "stream",
       "stream": "stdout",
       "text": [
        " 23356 6.80994177085\n",
        "len________"
       ]
      },
      {
       "output_type": "stream",
       "stream": "stdout",
       "text": [
        " 9018 7.94799290308\n",
        "len________"
       ]
      },
      {
       "output_type": "stream",
       "stream": "stdout",
       "text": [
        " 4094 8.71299462628\n",
        "len________"
       ]
      },
      {
       "output_type": "stream",
       "stream": "stdout",
       "text": [
        " 1682 8.59631391201\n",
        "len________"
       ]
      },
      {
       "output_type": "stream",
       "stream": "stdout",
       "text": [
        " 730 8.83287671233\n",
        "len________"
       ]
      },
      {
       "output_type": "stream",
       "stream": "stdout",
       "text": [
        " 362 8.50552486188\n",
        "len________"
       ]
      },
      {
       "output_type": "stream",
       "stream": "stdout",
       "text": [
        " 180 9.15555555556\n",
        "len________"
       ]
      },
      {
       "output_type": "stream",
       "stream": "stdout",
       "text": [
        " 65 8.89230769231\n",
        "len________"
       ]
      },
      {
       "output_type": "stream",
       "stream": "stdout",
       "text": [
        " 21 9.61904761905\n",
        "len________ 0 0\n",
        "21 9.61904761905 202\n",
        "======== Exclude -  51945\n",
        "len________"
       ]
      },
      {
       "output_type": "stream",
       "stream": "stdout",
       "text": [
        " 447978 5.99592837148\n",
        "len________"
       ]
      },
      {
       "output_type": "stream",
       "stream": "stdout",
       "text": [
        " 166557 8.2303475687\n",
        "len________"
       ]
      },
      {
       "output_type": "stream",
       "stream": "stdout",
       "text": [
        " 58069 7.02130224388\n",
        "len________"
       ]
      },
      {
       "output_type": "stream",
       "stream": "stdout",
       "text": [
        " 23314 6.80054902634\n",
        "len________"
       ]
      },
      {
       "output_type": "stream",
       "stream": "stdout",
       "text": [
        " 8983 7.93020149171\n",
        "len________"
       ]
      },
      {
       "output_type": "stream",
       "stream": "stdout",
       "text": [
        " 4062 8.68734613491\n",
        "len________"
       ]
      },
      {
       "output_type": "stream",
       "stream": "stdout",
       "text": [
        " 1653 8.53720508167\n",
        "len________"
       ]
      },
      {
       "output_type": "stream",
       "stream": "stdout",
       "text": [
        " 836 9.21770334928\n",
        "len________"
       ]
      },
      {
       "output_type": "stream",
       "stream": "stdout",
       "text": [
        " 363 8.16804407713\n",
        "len________"
       ]
      },
      {
       "output_type": "stream",
       "stream": "stdout",
       "text": [
        " 144 7.97222222222\n",
        "len________"
       ]
      },
      {
       "output_type": "stream",
       "stream": "stdout",
       "text": [
        " 65 8.58461538462\n",
        "len________"
       ]
      },
      {
       "output_type": "stream",
       "stream": "stdout",
       "text": [
        " 29 8.75862068966\n",
        "len________"
       ]
      },
      {
       "output_type": "stream",
       "stream": "stdout",
       "text": [
        " 23 10.3913043478\n",
        "len________"
       ]
      },
      {
       "output_type": "stream",
       "stream": "stdout",
       "text": [
        " 8 3.5\n",
        "len________ 0 0\n",
        "23 10.3913043478 239\n",
        "======== Exclude -  51968\n",
        "len________"
       ]
      },
      {
       "output_type": "stream",
       "stream": "stdout",
       "text": [
        " 447955 5.99525621993\n",
        "len________"
       ]
      },
      {
       "output_type": "stream",
       "stream": "stdout",
       "text": [
        " 166522 8.22925499333\n",
        "len________"
       ]
      },
      {
       "output_type": "stream",
       "stream": "stdout",
       "text": [
        " 58037 7.01833313231\n",
        "len________"
       ]
      },
      {
       "output_type": "stream",
       "stream": "stdout",
       "text": [
        " 23282 6.79391804828\n",
        "len________"
       ]
      },
      {
       "output_type": "stream",
       "stream": "stdout",
       "text": [
        " 8952 7.91778373548\n",
        "len________"
       ]
      },
      {
       "output_type": "stream",
       "stream": "stdout",
       "text": [
        " 4035 8.66864931846\n",
        "len________"
       ]
      },
      {
       "output_type": "stream",
       "stream": "stdout",
       "text": [
        " 1629 8.50521792511\n",
        "len________"
       ]
      },
      {
       "output_type": "stream",
       "stream": "stdout",
       "text": [
        " 812 9.1736453202\n",
        "len________"
       ]
      },
      {
       "output_type": "stream",
       "stream": "stdout",
       "text": [
        " 340 8.01764705882\n",
        "len________"
       ]
      },
      {
       "output_type": "stream",
       "stream": "stdout",
       "text": [
        " 172 8.25\n",
        "len________"
       ]
      },
      {
       "output_type": "stream",
       "stream": "stdout",
       "text": [
        " 60 7.23333333333\n",
        "len________"
       ]
      },
      {
       "output_type": "stream",
       "stream": "stdout",
       "text": [
        " 39 8.33333333333\n",
        "len________"
       ]
      },
      {
       "output_type": "stream",
       "stream": "stdout",
       "text": [
        " 6 2.5\n",
        "len________ 0 0\n",
        "812 9.1736453202 7449\n",
        "======== Exclude -  52780\n",
        "len________"
       ]
      },
      {
       "output_type": "stream",
       "stream": "stdout",
       "text": [
        " 447143 5.95576359241\n",
        "len________"
       ]
      },
      {
       "output_type": "stream",
       "stream": "stdout",
       "text": [
        " 165109 8.15589701349\n",
        "len________"
       ]
      },
      {
       "output_type": "stream",
       "stream": "stdout",
       "text": [
        " 56475 6.82918105356\n",
        "len________"
       ]
      },
      {
       "output_type": "stream",
       "stream": "stdout",
       "text": [
        " 21478 6.33345749139\n",
        "len________"
       ]
      },
      {
       "output_type": "stream",
       "stream": "stdout",
       "text": [
        " 8458 7.10179711516\n",
        "len________"
       ]
      },
      {
       "output_type": "stream",
       "stream": "stdout",
       "text": [
        " 4081 7.8782161235\n",
        "len________"
       ]
      },
      {
       "output_type": "stream",
       "stream": "stdout",
       "text": [
        " 1796 7.28118040089\n",
        "len________"
       ]
      },
      {
       "output_type": "stream",
       "stream": "stdout",
       "text": [
        " 813 7.35793357934\n",
        "len________"
       ]
      },
      {
       "output_type": "stream",
       "stream": "stdout",
       "text": [
        " 383 8.28459530026\n",
        "len________"
       ]
      },
      {
       "output_type": "stream",
       "stream": "stdout",
       "text": [
        " 175 6.54285714286\n",
        "len________"
       ]
      },
      {
       "output_type": "stream",
       "stream": "stdout",
       "text": [
        " 90 8.25555555556\n",
        "len________"
       ]
      },
      {
       "output_type": "stream",
       "stream": "stdout",
       "text": [
        " 24 5.79166666667\n",
        "len________"
       ]
      },
      {
       "output_type": "stream",
       "stream": "stdout",
       "text": [
        " 14 6.5\n",
        "len________ 0 0\n",
        "383 8.28459530026 3173\n",
        "======== Exclude -  53163\n",
        "len________"
       ]
      },
      {
       "output_type": "stream",
       "stream": "stdout",
       "text": [
        " 446760 5.93843226788\n",
        "len________"
       ]
      },
      {
       "output_type": "stream",
       "stream": "stdout",
       "text": [
        " 164467 8.12493083719\n",
        "len________"
       ]
      },
      {
       "output_type": "stream",
       "stream": "stdout",
       "text": [
        " 55770 6.75309306079\n",
        "len________"
       ]
      },
      {
       "output_type": "stream",
       "stream": "stdout",
       "text": [
        " 20686 6.14613748429\n",
        "len________"
       ]
      },
      {
       "output_type": "stream",
       "stream": "stdout",
       "text": [
        " 9047 6.8106554659\n",
        "len________"
       ]
      },
      {
       "output_type": "stream",
       "stream": "stdout",
       "text": [
        " 3941 7.34128393809\n",
        "len________"
       ]
      },
      {
       "output_type": "stream",
       "stream": "stdout",
       "text": [
        " 1714 6.86347724621\n",
        "len________"
       ]
      },
      {
       "output_type": "stream",
       "stream": "stdout",
       "text": [
        " 809 6.93077873918\n",
        "len________"
       ]
      },
      {
       "output_type": "stream",
       "stream": "stdout",
       "text": [
        " 398 7.41457286432\n",
        "len________"
       ]
      },
      {
       "output_type": "stream",
       "stream": "stdout",
       "text": [
        " 198 7.16666666667\n",
        "len________"
       ]
      },
      {
       "output_type": "stream",
       "stream": "stdout",
       "text": [
        " 71 7.11267605634\n",
        "len________"
       ]
      },
      {
       "output_type": "stream",
       "stream": "stdout",
       "text": [
        " 39 8.84615384615\n",
        "len________"
       ]
      },
      {
       "output_type": "stream",
       "stream": "stdout",
       "text": [
        " 12 5.41666666667\n",
        "len________ 0 0\n",
        "39 8.84615384615 345\n",
        "======== Exclude -  53202\n",
        "len________"
       ]
      },
      {
       "output_type": "stream",
       "stream": "stdout",
       "text": [
        " 446721 5.93710168091\n",
        "len________"
       ]
      },
      {
       "output_type": "stream",
       "stream": "stdout",
       "text": [
        " 164398 8.12330441976\n",
        "len________"
       ]
      },
      {
       "output_type": "stream",
       "stream": "stdout",
       "text": [
        " 55719 6.75055187638\n",
        "len________"
       ]
      },
      {
       "output_type": "stream",
       "stream": "stdout",
       "text": [
        " 20640 6.1398255814\n",
        "len________"
       ]
      },
      {
       "output_type": "stream",
       "stream": "stdout",
       "text": [
        " 9004 6.8000888494\n",
        "len________"
       ]
      },
      {
       "output_type": "stream",
       "stream": "stdout",
       "text": [
        " 3901 7.32401948218\n",
        "len________"
       ]
      },
      {
       "output_type": "stream",
       "stream": "stdout",
       "text": [
        " 1674 6.81182795699\n",
        "len________"
       ]
      },
      {
       "output_type": "stream",
       "stream": "stdout",
       "text": [
        " 769 6.82314694408\n",
        "len________"
       ]
      },
      {
       "output_type": "stream",
       "stream": "stdout",
       "text": [
        " 358 7.2374301676\n",
        "len________"
       ]
      },
      {
       "output_type": "stream",
       "stream": "stdout",
       "text": [
        " 159 6.75471698113\n",
        "len________"
       ]
      },
      {
       "output_type": "stream",
       "stream": "stdout",
       "text": [
        " 89 6.88764044944\n",
        "len________"
       ]
      },
      {
       "output_type": "stream",
       "stream": "stdout",
       "text": [
        " 48 7.5\n",
        "len________ 0 0\n",
        "164398 8.12330441976 1335455\n",
        "======== Exclude -  217600\n",
        "len________"
       ]
      },
      {
       "output_type": "stream",
       "stream": "stdout",
       "text": [
        " 282323 0.915044116136\n",
        "len________"
       ]
      },
      {
       "output_type": "stream",
       "stream": "stdout",
       "text": [
        " 137624 1.41619194327\n",
        "len________"
       ]
      },
      {
       "output_type": "stream",
       "stream": "stdout",
       "text": [
        " 68339 1.44687513718\n",
        "len________"
       ]
      },
      {
       "output_type": "stream",
       "stream": "stdout",
       "text": [
        " 19155 1.48467762986\n",
        "len________"
       ]
      },
      {
       "output_type": "stream",
       "stream": "stdout",
       "text": [
        " 7378 2.0923014367\n",
        "len________"
       ]
      },
      {
       "output_type": "stream",
       "stream": "stdout",
       "text": [
        " 2711 2.32423459978\n",
        "len________"
       ]
      },
      {
       "output_type": "stream",
       "stream": "stdout",
       "text": [
        " 1562 2.89756722151\n",
        "len________"
       ]
      },
      {
       "output_type": "stream",
       "stream": "stdout",
       "text": [
        " 411 3.27250608273\n",
        "len________"
       ]
      },
      {
       "output_type": "stream",
       "stream": "stdout",
       "text": [
        " 247 3.8987854251\n",
        "len________"
       ]
      },
      {
       "output_type": "stream",
       "stream": "stdout",
       "text": [
        " 72 4.63888888889\n",
        "len________"
       ]
      },
      {
       "output_type": "stream",
       "stream": "stdout",
       "text": [
        " 24 5.45833333333\n",
        "len________"
       ]
      },
      {
       "output_type": "stream",
       "stream": "stdout",
       "text": [
        " 10 4.5\n",
        "len________ 0 0\n",
        "24 5.45833333333 131\n",
        "======== Exclude -  217624\n",
        "len________"
       ]
      },
      {
       "output_type": "stream",
       "stream": "stdout",
       "text": [
        " 282299 0.914625981672\n",
        "len________"
       ]
      },
      {
       "output_type": "stream",
       "stream": "stdout",
       "text": [
        " 137599 1.4154317982\n",
        "len________"
       ]
      },
      {
       "output_type": "stream",
       "stream": "stdout",
       "text": [
        " 68314 1.44535527125\n",
        "len________"
       ]
      },
      {
       "output_type": "stream",
       "stream": "stdout",
       "text": [
        " 19130 1.47929952953\n",
        "len________"
       ]
      },
      {
       "output_type": "stream",
       "stream": "stdout",
       "text": [
        " 7353 2.080375357\n",
        "len________"
       ]
      },
      {
       "output_type": "stream",
       "stream": "stdout",
       "text": [
        " 2686 2.29374534624\n",
        "len________"
       ]
      },
      {
       "output_type": "stream",
       "stream": "stdout",
       "text": [
        " 1537 2.85361093038\n",
        "len________"
       ]
      },
      {
       "output_type": "stream",
       "stream": "stdout",
       "text": [
        " 718 3.06963788301\n",
        "len________"
       ]
      },
      {
       "output_type": "stream",
       "stream": "stdout",
       "text": [
        " 289 3.48788927336\n",
        "len________"
       ]
      },
      {
       "output_type": "stream",
       "stream": "stdout",
       "text": [
        " 95 4.05263157895\n",
        "len________"
       ]
      },
      {
       "output_type": "stream",
       "stream": "stdout",
       "text": [
        " 43 3.97674418605\n",
        "len________"
       ]
      },
      {
       "output_type": "stream",
       "stream": "stdout",
       "text": [
        " 26 4.03846153846\n",
        "len________"
       ]
      },
      {
       "output_type": "stream",
       "stream": "stdout",
       "text": [
        " 20 4.5\n",
        "len________ 0 0\n",
        "20 4.5 90\n",
        "======== Exclude -  217644\n",
        "len________"
       ]
      },
      {
       "output_type": "stream",
       "stream": "stdout",
       "text": [
        " 282279 0.914322354833\n",
        "len________"
       ]
      },
      {
       "output_type": "stream",
       "stream": "stdout",
       "text": [
        " 137577 1.41489493157\n",
        "len________"
       ]
      },
      {
       "output_type": "stream",
       "stream": "stdout",
       "text": [
        " 68292 1.44429801441\n",
        "len________"
       ]
      },
      {
       "output_type": "stream",
       "stream": "stdout",
       "text": [
        " 19107 1.47563720103\n",
        "len________"
       ]
      },
      {
       "output_type": "stream",
       "stream": "stdout",
       "text": [
        " 7331 2.07270495158\n",
        "len________"
       ]
      },
      {
       "output_type": "stream",
       "stream": "stdout",
       "text": [
        " 2665 2.27504690432\n",
        "len________"
       ]
      },
      {
       "output_type": "stream",
       "stream": "stdout",
       "text": [
        " 1516 2.82849604222\n",
        "len________"
       ]
      },
      {
       "output_type": "stream",
       "stream": "stdout",
       "text": [
        " 697 3.02152080344\n",
        "len________"
       ]
      },
      {
       "output_type": "stream",
       "stream": "stdout",
       "text": [
        " 268 3.39552238806\n",
        "len________"
       ]
      },
      {
       "output_type": "stream",
       "stream": "stdout",
       "text": [
        " 74 3.97297297297\n",
        "len________"
       ]
      },
      {
       "output_type": "stream",
       "stream": "stdout",
       "text": [
        " 23 3.52173913043\n",
        "len________"
       ]
      },
      {
       "output_type": "stream",
       "stream": "stdout",
       "text": [
        " 10 4.3\n",
        "len________ 0 0\n",
        "10 4.3 43\n",
        "======== Exclude -  217654\n",
        "len________"
       ]
      },
      {
       "output_type": "stream",
       "stream": "stdout",
       "text": [
        " 282269 0.914174067999\n",
        "len________"
       ]
      },
      {
       "output_type": "stream",
       "stream": "stdout",
       "text": [
        " 137566 1.41463733771\n",
        "len________"
       ]
      },
      {
       "output_type": "stream",
       "stream": "stdout",
       "text": [
        " 68281 1.44378377587\n",
        "len________"
       ]
      },
      {
       "output_type": "stream",
       "stream": "stdout",
       "text": [
        " 19096 1.47381650607\n",
        "len________"
       ]
      },
      {
       "output_type": "stream",
       "stream": "stdout",
       "text": [
        " 7320 2.06885245902\n",
        "len________"
       ]
      },
      {
       "output_type": "stream",
       "stream": "stdout",
       "text": [
        " 2654 2.26525998493\n",
        "len________"
       ]
      },
      {
       "output_type": "stream",
       "stream": "stdout",
       "text": [
        " 1505 2.81528239203\n",
        "len________"
       ]
      },
      {
       "output_type": "stream",
       "stream": "stdout",
       "text": [
        " 686 2.99562682216\n",
        "len________"
       ]
      },
      {
       "output_type": "stream",
       "stream": "stdout",
       "text": [
        " 257 3.34241245136\n",
        "len________"
       ]
      },
      {
       "output_type": "stream",
       "stream": "stdout",
       "text": [
        " 63 3.85714285714\n",
        "len________"
       ]
      },
      {
       "output_type": "stream",
       "stream": "stdout",
       "text": [
        " 13 2.92307692308\n",
        "len________"
       ]
      },
      {
       "output_type": "stream",
       "stream": "stdout",
       "text": [
        " 8 3.5\n",
        "len________ 0 0\n",
        "63 3.85714285714 243\n",
        "======== Exclude -  217717\n",
        "len________"
       ]
      },
      {
       "output_type": "stream",
       "stream": "stdout",
       "text": [
        " 282206 0.913336357129\n",
        "len________"
       ]
      },
      {
       "output_type": "stream",
       "stream": "stdout",
       "text": [
        " 137495 1.41322957198\n",
        "len________"
       ]
      },
      {
       "output_type": "stream",
       "stream": "stdout",
       "text": [
        " 68212 1.44100744737\n",
        "len________"
       ]
      },
      {
       "output_type": "stream",
       "stream": "stdout",
       "text": [
        " 19027 1.46391969307\n",
        "len________"
       ]
      },
      {
       "output_type": "stream",
       "stream": "stdout",
       "text": [
        " 7251 2.04854502827\n",
        "len________"
       ]
      },
      {
       "output_type": "stream",
       "stream": "stdout",
       "text": [
        " 2586 2.21423047177\n",
        "len________"
       ]
      },
      {
       "output_type": "stream",
       "stream": "stdout",
       "text": [
        " 1437 2.74947807933\n",
        "len________"
       ]
      },
      {
       "output_type": "stream",
       "stream": "stdout",
       "text": [
        " 618 2.86245954693\n",
        "len________"
       ]
      },
      {
       "output_type": "stream",
       "stream": "stdout",
       "text": [
        " 183 3.01639344262\n",
        "len________"
       ]
      },
      {
       "output_type": "stream",
       "stream": "stdout",
       "text": [
        " 106 3.3679245283\n",
        "len________ 0 0\n",
        "106 3.3679245283 357\n",
        "======== Exclude -  217823\n",
        "len________"
       ]
      },
      {
       "output_type": "stream",
       "stream": "stdout",
       "text": [
        " 282100 0.911960297767\n",
        "len________"
       ]
      },
      {
       "output_type": "stream",
       "stream": "stdout",
       "text": [
        " 137367 1.41095022822\n",
        "len________"
       ]
      },
      {
       "output_type": "stream",
       "stream": "stdout",
       "text": [
        " 68080 1.4366039953\n",
        "len________"
       ]
      },
      {
       "output_type": "stream",
       "stream": "stdout",
       "text": [
        " 18897 1.44874847859\n",
        "len________"
       ]
      },
      {
       "output_type": "stream",
       "stream": "stdout",
       "text": [
        " 7122 2.01937657961\n",
        "len________"
       ]
      },
      {
       "output_type": "stream",
       "stream": "stdout",
       "text": [
        " 2461 2.14059325477\n",
        "len________"
       ]
      },
      {
       "output_type": "stream",
       "stream": "stdout",
       "text": [
        " 1312 2.66234756098\n",
        "len________"
       ]
      },
      {
       "output_type": "stream",
       "stream": "stdout",
       "text": [
        " 497 2.67806841046\n",
        "len________"
       ]
      },
      {
       "output_type": "stream",
       "stream": "stdout",
       "text": [
        " 293 3.03412969283\n",
        "len________"
       ]
      },
      {
       "output_type": "stream",
       "stream": "stdout",
       "text": [
        " 56 2.39285714286\n",
        "len________"
       ]
      },
      {
       "output_type": "stream",
       "stream": "stdout",
       "text": [
        " 21 3.0\n",
        "len________ 0 0\n",
        "293 3.03412969283 889\n"
       ]
      }
     ],
     "prompt_number": 76
    },
    {
     "cell_type": "code",
     "collapsed": false,
     "input": [
      "plt.plot(Sa_cnts)"
     ],
     "language": "python",
     "metadata": {},
     "outputs": [
      {
       "metadata": {},
       "output_type": "pyout",
       "prompt_number": 77,
       "text": [
        "[<matplotlib.lines.Line2D at 0x10b23b710>]"
       ]
      },
      {
       "metadata": {},
       "output_type": "display_data",
       "png": "[encoded data removed]",
       "text": [
        "<matplotlib.figure.Figure at 0x108f78e90>"
       ]
      }
     ],
     "prompt_number": 77
    },
    {
     "cell_type": "code",
     "collapsed": false,
     "input": [
      "plt.plot(density_Sa_cnt)"
     ],
     "language": "python",
     "metadata": {},
     "outputs": [
      {
       "metadata": {},
       "output_type": "pyout",
       "prompt_number": 78,
       "text": [
        "[<matplotlib.lines.Line2D at 0x10b2ef150>]"
       ]
      },
      {
       "metadata": {},
       "output_type": "display_data",
       "png": "[encoded data removed]",
       "text": [
        "<matplotlib.figure.Figure at 0x109218650>"
       ]
      }
     ],
     "prompt_number": 78
    },
    {
     "cell_type": "code",
     "collapsed": false,
     "input": [
      "plt.plot(Es_Sa_cnt)"
     ],
     "language": "python",
     "metadata": {},
     "outputs": [
      {
       "metadata": {},
       "output_type": "pyout",
       "prompt_number": 79,
       "text": [
        "[<matplotlib.lines.Line2D at 0x109708a90>]"
       ]
      },
      {
       "metadata": {},
       "output_type": "display_data",
       "png": "[encoded data removed]",
       "text": [
        "<matplotlib.figure.Figure at 0x108f69750>"
       ]
      }
     ],
     "prompt_number": 79
    },
    {
     "cell_type": "code",
     "collapsed": false,
     "input": [],
     "language": "python",
     "metadata": {},
     "outputs": [],
     "prompt_number": 100
    },
    {
     "cell_type": "code",
     "collapsed": false,
     "input": [],
     "language": "python",
     "metadata": {},
     "outputs": [],
     "prompt_number": 100
    },
    {
     "cell_type": "code",
     "collapsed": false,
     "input": [
      "comm005s, iterations01s, datas = findCommunity(0.1, 'livejournal-undirected-small.txt')"
     ],
     "language": "python",
     "metadata": {},
     "outputs": [
      {
       "output_type": "stream",
       "stream": "stdout",
       "text": [
        "======== Exclude -  0\n",
        "cnt 0  -  50 1.8\n",
        "cnt 1  -  13 2.30769230769\n",
        "cnt 2  -  4 1.5\n",
        "cnt 3  -  0 0\n"
       ]
      }
     ],
     "prompt_number": 105
    },
    {
     "cell_type": "code",
     "collapsed": false,
     "input": [],
     "language": "python",
     "metadata": {},
     "outputs": []
    }
   ],
   "metadata": {}
  }
 ]
}