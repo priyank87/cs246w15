{
 "metadata": {
  "name": "",
  "signature": "sha256:d53df7394184ad66a3ca1f0e431513b8b7d4763d522ece8e3a47a95756b2a75a"
 },
 "nbformat": 3,
 "nbformat_minor": 0,
 "worksheets": [
  {
   "cells": [
    {
     "cell_type": "code",
     "collapsed": false,
     "input": [
      "import itertools\n",
      "from itertools import islice"
     ],
     "language": "python",
     "metadata": {},
     "outputs": [],
     "prompt_number": 112
    },
    {
     "cell_type": "code",
     "collapsed": false,
     "input": [
      "def getNlines(path):\n",
      "    with open(path) as f:\n",
      "        while True:\n",
      "            next_n_lines = list(islice(f, 50))\n",
      "            yield next_n_lines\n",
      "            if not next_n_lines:\n",
      "                break"
     ],
     "language": "python",
     "metadata": {},
     "outputs": [],
     "prompt_number": 94
    },
    {
     "cell_type": "code",
     "collapsed": false,
     "input": [
      "def getNodes(st):\n",
      "    return map(int, st.strip().split('\\t'))"
     ],
     "language": "python",
     "metadata": {},
     "outputs": [],
     "prompt_number": 106
    },
    {
     "cell_type": "code",
     "collapsed": false,
     "input": [
      "def initS(exclude=None):\n",
      "    k = getNlines('livejournal-undirected-small.txt')\n",
      "    S = set()\n",
      "    \n",
      "    exclude_nodes = set(itertools.chain(*exclude)) if exclude else {}\n",
      "    \n",
      "    for i in k:\n",
      "        edges = map(getNodes, i)\n",
      "        if not len(edges): break\n",
      "            \n",
      "        for e in edges:\n",
      "            if e[0] not in S : S.add(e[0])\n",
      "            if e[1] not in S : S.add(e[1])\n",
      "    \n",
      "    S.difference_update(exclude_nodes)\n",
      "    \n",
      "    return S"
     ],
     "language": "python",
     "metadata": {},
     "outputs": [],
     "prompt_number": 129
    },
    {
     "cell_type": "code",
     "collapsed": false,
     "input": [],
     "language": "python",
     "metadata": {},
     "outputs": [],
     "prompt_number": 131
    },
    {
     "cell_type": "code",
     "collapsed": false,
     "input": [],
     "language": "python",
     "metadata": {},
     "outputs": []
    }
   ],
   "metadata": {}
  }
 ]
}