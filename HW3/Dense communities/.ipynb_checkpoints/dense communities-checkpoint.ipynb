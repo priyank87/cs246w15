{
 "metadata": {
  "name": "",
  "signature": "sha256:5fa0bdda88a1f5bbd5a2d18df6f44c7495203ae50fdb927ca1f893c8672fbf39"
 },
 "nbformat": 3,
 "nbformat_minor": 0,
 "worksheets": [
  {
   "cells": [
    {
     "cell_type": "code",
     "collapsed": false,
     "input": [
      "import itertools\n",
      "from itertools import islice\n",
      "from collections import defaultdict\n",
      "import copy, math"
     ],
     "language": "python",
     "metadata": {},
     "outputs": [],
     "prompt_number": 293
    },
    {
     "cell_type": "code",
     "collapsed": false,
     "input": [
      "path = 'livejournal-undirected-small.txt'\n",
      "epsilon = 0.1"
     ],
     "language": "python",
     "metadata": {},
     "outputs": [],
     "prompt_number": 157
    },
    {
     "cell_type": "code",
     "collapsed": false,
     "input": [
      "def getNlines(path):\n",
      "    with open(path) as f:\n",
      "        while True:\n",
      "            next_n_lines = list(islice(f, 5000))\n",
      "            yield next_n_lines\n",
      "            if not next_n_lines:\n",
      "                break"
     ],
     "language": "python",
     "metadata": {},
     "outputs": [],
     "prompt_number": 277
    },
    {
     "cell_type": "code",
     "collapsed": false,
     "input": [
      "def getNodes(st):\n",
      "    return map(int, st.strip().split('\\t'))"
     ],
     "language": "python",
     "metadata": {},
     "outputs": [],
     "prompt_number": 278
    },
    {
     "cell_type": "code",
     "collapsed": false,
     "input": [
      "def initS(path=path, exclude=None):\n",
      "    k = getNlines(path)\n",
      "    S = set()\n",
      "    \n",
      "    exclude_nodes = set(itertools.chain(*exclude)) if exclude else {}\n",
      "    \n",
      "    for i in k:\n",
      "        edges = map(getNodes, i)\n",
      "        if not len(edges): break\n",
      "            \n",
      "        for e in edges:\n",
      "            if e[0] not in S : S.add(e[0])\n",
      "            if e[1] not in S : S.add(e[1])\n",
      "    \n",
      "    S.difference_update(exclude_nodes)\n",
      "    \n",
      "    return S"
     ],
     "language": "python",
     "metadata": {},
     "outputs": [],
     "prompt_number": 279
    },
    {
     "cell_type": "code",
     "collapsed": false,
     "input": [
      "def checkMembership(e, S):\n",
      "    return True if e[0] in S and e[1] in S else False"
     ],
     "language": "python",
     "metadata": {},
     "outputs": [],
     "prompt_number": 280
    },
    {
     "cell_type": "code",
     "collapsed": false,
     "input": [
      "def calcDensityAndDegrees(S, path=path):\n",
      "    k = getNlines(path)\n",
      "    degrees = defaultdict(int)\n",
      "    count_induced_set = 0\n",
      "    \n",
      "    for i in k:\n",
      "        edges = map(getNodes, i)\n",
      "        for e in edges:\n",
      "            if checkMembership(e, S):\n",
      "                degrees[e[0]] += 1\n",
      "                degrees[e[1]] += 1\n",
      "                count_induced_set += 1\n",
      "    \n",
      "    return count_induced_set*1.0/len(S), degrees, count_induced_set"
     ],
     "language": "python",
     "metadata": {},
     "outputs": [],
     "prompt_number": 281
    },
    {
     "cell_type": "code",
     "collapsed": false,
     "input": [],
     "language": "python",
     "metadata": {},
     "outputs": [],
     "prompt_number": 281
    },
    {
     "cell_type": "code",
     "collapsed": false,
     "input": [
      "def findCommunity(epsilon=epsilon, path=path):\n",
      "    S = initS(path)\n",
      "    Sa = copy.copy(S)\n",
      "    cnt = 0\n",
      "    \n",
      "    density, degrees, Es = calcDensityAndDegrees(S, path)\n",
      "    density_Sa = density\n",
      "    print 'len________',len(S), density\n",
      "    \n",
      "    densities = [density]\n",
      "    ind_set_cnts = [Es]\n",
      "    S_cnt = [len(S)]\n",
      "    \n",
      "    while len(S) > 0:\n",
      "        cnt += 1\n",
      "        S = {i for i,k in degrees.iteritems() if k>(2*(1+epsilon)*density)}\n",
      "        \n",
      "        if len(S) == 0:\n",
      "            density, degrees, Es = 0, {}, 0\n",
      "        else:\n",
      "            density, degrees, Es = calcDensityAndDegrees(S, path)\n",
      "        \n",
      "        print 'len________',len(S), density\n",
      "        \n",
      "        densities.append(density)\n",
      "        ind_set_cnts.append(len(Es))\n",
      "        S_cnt.append(len(S))\n",
      "        \n",
      "        if (density > density_Sa):\n",
      "            #print 'Update--------', density_Sa, density, S\n",
      "            Sa = copy.copy(S)\n",
      "            density_Sa = density\n",
      "        \n",
      "    return cnt"
     ],
     "language": "python",
     "metadata": {},
     "outputs": [],
     "prompt_number": 311
    },
    {
     "cell_type": "code",
     "collapsed": false,
     "input": [
      "%time iterations01 = findCommunity(0.1, 'livejournal-undirected.txt')"
     ],
     "language": "python",
     "metadata": {},
     "outputs": [
      {
       "output_type": "stream",
       "stream": "stdout",
       "text": [
        "len________ 499923 15.5909810111\n",
        "len________"
       ]
      },
      {
       "output_type": "stream",
       "stream": "stdout",
       "text": [
        " 124205 33.5050601828\n",
        "len________"
       ]
      },
      {
       "output_type": "stream",
       "stream": "stdout",
       "text": [
        " 30253 54.5409380888\n",
        "len________"
       ]
      },
      {
       "output_type": "stream",
       "stream": "stdout",
       "text": [
        " 8202 81.608632041\n",
        "len________"
       ]
      },
      {
       "output_type": "stream",
       "stream": "stdout",
       "text": [
        " 2578 107.448021722\n",
        "len________"
       ]
      },
      {
       "output_type": "stream",
       "stream": "stdout",
       "text": [
        " 967 120.314374354\n",
        "len________"
       ]
      },
      {
       "output_type": "stream",
       "stream": "stdout",
       "text": [
        " 218 101.403669725\n",
        "len________ 0 0\n",
        "CPU times: user 3min 2s, sys: 894 ms, total: 3min 3s\n",
        "Wall time: 3min 3s\n"
       ]
      }
     ],
     "prompt_number": 287
    },
    {
     "cell_type": "code",
     "collapsed": false,
     "input": [
      "%time iterations05 = findCommunity(0.5, 'livejournal-undirected.txt')"
     ],
     "language": "python",
     "metadata": {},
     "outputs": [
      {
       "output_type": "stream",
       "stream": "stdout",
       "text": [
        "len________ 499923 15.5909810111\n",
        "len________"
       ]
      },
      {
       "output_type": "stream",
       "stream": "stdout",
       "text": [
        " 86898 37.7666689682\n",
        "len________"
       ]
      },
      {
       "output_type": "stream",
       "stream": "stdout",
       "text": [
        " 13702 67.452853598\n",
        "len________"
       ]
      },
      {
       "output_type": "stream",
       "stream": "stdout",
       "text": [
        " 2551 103.118384947\n",
        "len________"
       ]
      },
      {
       "output_type": "stream",
       "stream": "stdout",
       "text": [
        " 310 90.0161290323\n",
        "len________ 0 0\n",
        "CPU times: user 2min 9s, sys: 556 ms, total: 2min 10s\n",
        "Wall time: 2min 10s\n"
       ]
      }
     ],
     "prompt_number": 288
    },
    {
     "cell_type": "code",
     "collapsed": false,
     "input": [
      "%time iterations1 = findCommunity(1, 'livejournal-undirected.txt')"
     ],
     "language": "python",
     "metadata": {},
     "outputs": [
      {
       "output_type": "stream",
       "stream": "stdout",
       "text": [
        "len________ 499923 15.5909810111\n",
        "len________"
       ]
      },
      {
       "output_type": "stream",
       "stream": "stdout",
       "text": [
        " 57929 42.5760672547\n",
        "len________"
       ]
      },
      {
       "output_type": "stream",
       "stream": "stdout",
       "text": [
        " 5973 80.2504604052\n",
        "len________"
       ]
      },
      {
       "output_type": "stream",
       "stream": "stdout",
       "text": [
        " 503 80.3260437376\n",
        "len________ 0 0\n",
        "CPU times: user 1min 48s, sys: 434 ms, total: 1min 49s\n",
        "Wall time: 1min 49s\n"
       ]
      }
     ],
     "prompt_number": 289
    },
    {
     "cell_type": "code",
     "collapsed": false,
     "input": [
      "%time iterations2 = findCommunity(2, 'livejournal-undirected.txt')"
     ],
     "language": "python",
     "metadata": {},
     "outputs": [
      {
       "output_type": "stream",
       "stream": "stdout",
       "text": [
        "len________ 499923 15.5909810111\n",
        "len________"
       ]
      },
      {
       "output_type": "stream",
       "stream": "stdout",
       "text": [
        " 31035 49.9389399066\n",
        "len________"
       ]
      },
      {
       "output_type": "stream",
       "stream": "stdout",
       "text": [
        " 1307 73.403213466\n",
        "len________ 0 0\n",
        "CPU times: user 1min 31s, sys: 402 ms, total: 1min 31s\n",
        "Wall time: 1min 31s\n"
       ]
      }
     ],
     "prompt_number": 290
    },
    {
     "cell_type": "code",
     "collapsed": false,
     "input": [],
     "language": "python",
     "metadata": {},
     "outputs": []
    },
    {
     "cell_type": "code",
     "collapsed": false,
     "input": [
      "print math.log(499923,1.1)\n",
      "print math.log(499923,1.5)\n",
      "print math.log(499923,2)\n",
      "print math.log(499923,3)"
     ],
     "language": "python",
     "metadata": {},
     "outputs": [
      {
       "output_type": "stream",
       "stream": "stdout",
       "text": [
        "137.67899077\n",
        "32.3633503923\n",
        "18.9313463772\n",
        "11.9443497045\n"
       ]
      }
     ],
     "prompt_number": 301
    },
    {
     "cell_type": "code",
     "collapsed": false,
     "input": [],
     "language": "python",
     "metadata": {},
     "outputs": [],
     "prompt_number": 302
    },
    {
     "cell_type": "code",
     "collapsed": false,
     "input": [
      "iterations005 = findCommunity(0.05, 'livejournal-undirected.txt')"
     ],
     "language": "python",
     "metadata": {},
     "outputs": [
      {
       "ename": "ValueError",
       "evalue": "need more than 2 values to unpack",
       "output_type": "pyerr",
       "traceback": [
        "\u001b[0;31m---------------------------------------------------------------------------\u001b[0m\n\u001b[0;31mValueError\u001b[0m                                Traceback (most recent call last)",
        "\u001b[0;32m<ipython-input-312-8054c12d74d7>\u001b[0m in \u001b[0;36m<module>\u001b[0;34m()\u001b[0m\n\u001b[0;32m----> 1\u001b[0;31m \u001b[0miterations005\u001b[0m \u001b[0;34m=\u001b[0m \u001b[0mfindCommunity\u001b[0m\u001b[0;34m(\u001b[0m\u001b[0;36m0.05\u001b[0m\u001b[0;34m,\u001b[0m \u001b[0;34m'livejournal-undirected.txt'\u001b[0m\u001b[0;34m)\u001b[0m\u001b[0;34m\u001b[0m\u001b[0m\n\u001b[0m",
        "\u001b[0;32m<ipython-input-311-d20c36bb7b3e>\u001b[0m in \u001b[0;36mfindCommunity\u001b[0;34m(epsilon, path)\u001b[0m\n\u001b[1;32m      4\u001b[0m     \u001b[0mcnt\u001b[0m \u001b[0;34m=\u001b[0m \u001b[0;36m0\u001b[0m\u001b[0;34m\u001b[0m\u001b[0m\n\u001b[1;32m      5\u001b[0m \u001b[0;34m\u001b[0m\u001b[0m\n\u001b[0;32m----> 6\u001b[0;31m     \u001b[0mdensity\u001b[0m\u001b[0;34m,\u001b[0m \u001b[0mdegrees\u001b[0m\u001b[0;34m,\u001b[0m \u001b[0mEs\u001b[0m \u001b[0;34m=\u001b[0m \u001b[0mcalcDensityAndDegrees\u001b[0m\u001b[0;34m(\u001b[0m\u001b[0mS\u001b[0m\u001b[0;34m,\u001b[0m \u001b[0mpath\u001b[0m\u001b[0;34m)\u001b[0m\u001b[0;34m\u001b[0m\u001b[0m\n\u001b[0m\u001b[1;32m      7\u001b[0m     \u001b[0mdensity_Sa\u001b[0m \u001b[0;34m=\u001b[0m \u001b[0mdensity\u001b[0m\u001b[0;34m\u001b[0m\u001b[0m\n\u001b[1;32m      8\u001b[0m     \u001b[0;32mprint\u001b[0m \u001b[0;34m'len________'\u001b[0m\u001b[0;34m,\u001b[0m\u001b[0mlen\u001b[0m\u001b[0;34m(\u001b[0m\u001b[0mS\u001b[0m\u001b[0;34m)\u001b[0m\u001b[0;34m,\u001b[0m \u001b[0mdensity\u001b[0m\u001b[0;34m\u001b[0m\u001b[0m\n",
        "\u001b[0;31mValueError\u001b[0m: need more than 2 values to unpack"
       ]
      }
     ],
     "prompt_number": 312
    },
    {
     "cell_type": "code",
     "collapsed": false,
     "input": [],
     "language": "python",
     "metadata": {},
     "outputs": []
    }
   ],
   "metadata": {}
  }
 ]
}