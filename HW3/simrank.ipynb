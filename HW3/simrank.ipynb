{
 "metadata": {
  "name": "",
  "signature": "sha256:da0e809e1f0e49ef88ffdef227d23fd93cecf74c90708f11398f6be7a9eba42b"
 },
 "nbformat": 3,
 "nbformat_minor": 0,
 "worksheets": [
  {
   "cells": [
    {
     "cell_type": "code",
     "collapsed": false,
     "input": [
      "import itertools, copy"
     ],
     "language": "python",
     "metadata": {},
     "outputs": [],
     "prompt_number": 29
    },
    {
     "cell_type": "code",
     "collapsed": false,
     "input": [
      "g_a = {'cameras': ['nokia.com', 'kodak.com', 'cannon.com'], 'phones': ['nokia.com', 'apple.com'], 'printers': ['hp.com']}"
     ],
     "language": "python",
     "metadata": {},
     "outputs": [],
     "prompt_number": 2
    },
    {
     "cell_type": "code",
     "collapsed": false,
     "input": [
      "g_b = {'cannon.com': ['cameras'], 'apple.com': ['phones'], 'kodak.com': ['cameras'], 'nokia.com': ['phones', 'cameras'], 'hp.com': ['printers']}"
     ],
     "language": "python",
     "metadata": {},
     "outputs": [],
     "prompt_number": 8
    },
    {
     "cell_type": "code",
     "collapsed": false,
     "input": [
      "C1 = 0.8\n",
      "C2 = 0.8"
     ],
     "language": "python",
     "metadata": {},
     "outputs": [],
     "prompt_number": 31
    },
    {
     "cell_type": "code",
     "collapsed": false,
     "input": [
      "def getSortedKey(k):\n",
      "    return tuple(sorted(list(k)))"
     ],
     "language": "python",
     "metadata": {},
     "outputs": [],
     "prompt_number": 18
    },
    {
     "cell_type": "code",
     "collapsed": false,
     "input": [
      "def getSa(g_a=g_a):\n",
      "    s_a = {}\n",
      "    for k in itertools.combinations_with_replacement(g_a.keys(), 2):\n",
      "        #print getSortedKey(k)\n",
      "        if k[0] == k[1]:\n",
      "            s_a[getSortedKey(k)] = 1\n",
      "        else:\n",
      "            s_a[getSortedKey(k)] = 0\n",
      "            \n",
      "    return s_a"
     ],
     "language": "python",
     "metadata": {},
     "outputs": [],
     "prompt_number": 72
    },
    {
     "cell_type": "code",
     "collapsed": false,
     "input": [
      "def getSb(g_b=g_b):\n",
      "    s_b = {}\n",
      "    for k in itertools.combinations_with_replacement(g_b.keys(), 2):\n",
      "        #print getSortedKey(k)\n",
      "        if k[0] == k[1]:\n",
      "            s_b[getSortedKey(k)] = 1\n",
      "        else:\n",
      "            s_b[getSortedKey(k)] = 0\n",
      "            \n",
      "    return s_b"
     ],
     "language": "python",
     "metadata": {},
     "outputs": [],
     "prompt_number": 73
    },
    {
     "cell_type": "code",
     "collapsed": false,
     "input": [
      "getSa()"
     ],
     "language": "python",
     "metadata": {},
     "outputs": [
      {
       "metadata": {},
       "output_type": "pyout",
       "prompt_number": 74,
       "text": [
        "{('cameras', 'cameras'): 1,\n",
        " ('cameras', 'phones'): 0,\n",
        " ('cameras', 'printers'): 0,\n",
        " ('phones', 'phones'): 1,\n",
        " ('phones', 'printers'): 0,\n",
        " ('printers', 'printers'): 1}"
       ]
      }
     ],
     "prompt_number": 74
    },
    {
     "cell_type": "code",
     "collapsed": false,
     "input": [
      "getSb()"
     ],
     "language": "python",
     "metadata": {},
     "outputs": [
      {
       "metadata": {},
       "output_type": "pyout",
       "prompt_number": 75,
       "text": [
        "{('apple.com', 'apple.com'): 1,\n",
        " ('apple.com', 'cannon.com'): 0,\n",
        " ('apple.com', 'hp.com'): 0,\n",
        " ('apple.com', 'kodak.com'): 0,\n",
        " ('apple.com', 'nokia.com'): 0,\n",
        " ('cannon.com', 'cannon.com'): 1,\n",
        " ('cannon.com', 'hp.com'): 0,\n",
        " ('cannon.com', 'kodak.com'): 0,\n",
        " ('cannon.com', 'nokia.com'): 0,\n",
        " ('hp.com', 'hp.com'): 1,\n",
        " ('hp.com', 'kodak.com'): 0,\n",
        " ('hp.com', 'nokia.com'): 0,\n",
        " ('kodak.com', 'kodak.com'): 1,\n",
        " ('kodak.com', 'nokia.com'): 0,\n",
        " ('nokia.com', 'nokia.com'): 1}"
       ]
      }
     ],
     "prompt_number": 75
    },
    {
     "cell_type": "code",
     "collapsed": false,
     "input": [],
     "language": "python",
     "metadata": {},
     "outputs": [],
     "prompt_number": 30
    },
    {
     "cell_type": "code",
     "collapsed": false,
     "input": [],
     "language": "python",
     "metadata": {},
     "outputs": [],
     "prompt_number": 31
    },
    {
     "cell_type": "code",
     "collapsed": false,
     "input": [
      "def performIteration(g_a=g_a,g_b=g_b,s_a=s_a,s_b=s_b,C1=C1,C2=C2):\n",
      "\n",
      "    s_a_n = {}\n",
      "    s_b_n = {}\n",
      "\n",
      "    for k in itertools.combinations(g_a.keys(),2):\n",
      "        k = getSortedKey(k)\n",
      "        #print '---', k\n",
      "        n1 = g_a[k[0]]\n",
      "        n2 = g_a[k[1]]\n",
      "        #print n1, ' /// ', n2\n",
      "        sumA = 0\n",
      "\n",
      "        for tt in itertools.product(n1,n2):\n",
      "            tKey = getSortedKey(tt)\n",
      "            #print tKey, s_b[tKey]\n",
      "            sumA += s_b[tKey]\n",
      "\n",
      "        s_a_n[k] = (sumA * C1) / (len(n1) * len(n2))\n",
      "\n",
      "    #print s_a_n\n",
      "\n",
      "    for k in itertools.combinations(g_b.keys(),2):\n",
      "        k = getSortedKey(k)\n",
      "        #print '---', k\n",
      "        n1 = g_b[k[0]]\n",
      "        n2 = g_b[k[1]]\n",
      "        #print n1, ' /// ', n2\n",
      "        sumB = 0\n",
      "\n",
      "        for tt in itertools.product(n1,n2):\n",
      "            tKey = getSortedKey(tt)\n",
      "            #print tKey, s_a[tKey]\n",
      "            sumB += s_a[tKey]\n",
      "\n",
      "        s_b_n[k] = (sumB * C2) / (len(n1) * len(n2))\n",
      "\n",
      "    #print s_b_n\n",
      "    return s_a_n, s_b_n"
     ],
     "language": "python",
     "metadata": {},
     "outputs": [],
     "prompt_number": 99
    },
    {
     "cell_type": "code",
     "collapsed": false,
     "input": [],
     "language": "python",
     "metadata": {},
     "outputs": [],
     "prompt_number": 76
    },
    {
     "cell_type": "code",
     "collapsed": false,
     "input": [],
     "language": "python",
     "metadata": {},
     "outputs": [],
     "prompt_number": 76
    },
    {
     "cell_type": "code",
     "collapsed": false,
     "input": [],
     "language": "python",
     "metadata": {},
     "outputs": [],
     "prompt_number": 76
    },
    {
     "cell_type": "code",
     "collapsed": false,
     "input": [
      "def getSimilarity(n=3, g_a=g_a, g_b=g_b):\n",
      "    s_a = getSa(g_a)\n",
      "    s_b = getSb(g_b)\n",
      "    \n",
      "    for i in range(n):\n",
      "        s_a_n, s_b_n = performIteration(g_a,g_b,s_a,s_b,C1,C2)\n",
      "\n",
      "        for k in s_a_n:\n",
      "            s_a[k] = s_a_n[k]\n",
      "\n",
      "        for k in s_b_n:\n",
      "            s_b[k] = s_b_n[k]\n",
      "        \n",
      "        print s_a,'\\n', s_b, '\\n\\n'\n",
      "    \n",
      "    return s_a, s_b"
     ],
     "language": "python",
     "metadata": {},
     "outputs": [],
     "prompt_number": 91
    },
    {
     "cell_type": "code",
     "collapsed": false,
     "input": [
      "getSimilarity()"
     ],
     "language": "python",
     "metadata": {},
     "outputs": [
      {
       "output_type": "stream",
       "stream": "stdout",
       "text": [
        "{('cameras', 'cameras'): 1, ('cameras', 'phones'): 0.13333333333333333, ('printers', 'printers'): 1, ('phones', 'phones'): 1, ('cameras', 'printers'): 0.0, ('phones', 'printers'): 0.0} \n",
        "{('cannon.com', 'nokia.com'): 0.4, ('hp.com', 'nokia.com'): 0.0, ('kodak.com', 'kodak.com'): 1, ('apple.com', 'kodak.com'): 0.0, ('cannon.com', 'kodak.com'): 0.8, ('cannon.com', 'cannon.com'): 1, ('hp.com', 'kodak.com'): 0.0, ('apple.com', 'hp.com'): 0.0, ('kodak.com', 'nokia.com'): 0.4, ('apple.com', 'apple.com'): 1, ('apple.com', 'nokia.com'): 0.4, ('nokia.com', 'nokia.com'): 1, ('cannon.com', 'hp.com'): 0.0, ('hp.com', 'hp.com'): 1, ('apple.com', 'cannon.com'): 0.0} \n",
        "\n",
        "\n",
        "{('cameras', 'cameras'): 1, ('cameras', 'phones'): 0.2933333333333333, ('printers', 'printers'): 1, ('phones', 'phones'): 1, ('cameras', 'printers'): 0.0, ('phones', 'printers'): 0.0} \n",
        "{('cannon.com', 'nokia.com'): 0.45333333333333337, ('hp.com', 'nokia.com'): 0.0, ('kodak.com', 'kodak.com'): 1, ('apple.com', 'kodak.com'): 0.10666666666666667, ('cannon.com', 'kodak.com'): 0.8, ('cannon.com', 'cannon.com'): 1, ('hp.com', 'kodak.com'): 0.0, ('apple.com', 'hp.com'): 0.0, ('kodak.com', 'nokia.com'): 0.45333333333333337, ('apple.com', 'apple.com'): 1, ('apple.com', 'nokia.com'): 0.45333333333333337, ('nokia.com', 'nokia.com'): 1, ('cannon.com', 'hp.com'): 0.0, ('hp.com', 'hp.com'): 1, ('apple.com', 'cannon.com'): 0.10666666666666667} \n",
        "\n",
        "\n",
        "{('cameras', 'cameras'): 1, ('cameras', 'phones'): 0.34311111111111114, ('printers', 'printers'): 1, ('phones', 'phones'): 1, ('cameras', 'printers'): 0.0, ('phones', 'printers'): 0.0} \n",
        "{('cannon.com', 'nokia.com'): 0.5173333333333333, ('hp.com', 'nokia.com'): 0.0, ('kodak.com', 'kodak.com'): 1, ('apple.com', 'kodak.com'): 0.23466666666666663, ('cannon.com', 'kodak.com'): 0.8, ('cannon.com', 'cannon.com'): 1, ('hp.com', 'kodak.com'): 0.0, ('apple.com', 'hp.com'): 0.0, ('kodak.com', 'nokia.com'): 0.5173333333333333, ('apple.com', 'apple.com'): 1, ('apple.com', 'nokia.com'): 0.5173333333333333, ('nokia.com', 'nokia.com'): 1, ('cannon.com', 'hp.com'): 0.0, ('hp.com', 'hp.com'): 1, ('apple.com', 'cannon.com'): 0.23466666666666663} \n",
        "\n",
        "\n"
       ]
      },
      {
       "metadata": {},
       "output_type": "pyout",
       "prompt_number": 92,
       "text": [
        "({('cameras', 'cameras'): 1,\n",
        "  ('cameras', 'phones'): 0.34311111111111114,\n",
        "  ('cameras', 'printers'): 0.0,\n",
        "  ('phones', 'phones'): 1,\n",
        "  ('phones', 'printers'): 0.0,\n",
        "  ('printers', 'printers'): 1},\n",
        " {('apple.com', 'apple.com'): 1,\n",
        "  ('apple.com', 'cannon.com'): 0.23466666666666663,\n",
        "  ('apple.com', 'hp.com'): 0.0,\n",
        "  ('apple.com', 'kodak.com'): 0.23466666666666663,\n",
        "  ('apple.com', 'nokia.com'): 0.5173333333333333,\n",
        "  ('cannon.com', 'cannon.com'): 1,\n",
        "  ('cannon.com', 'hp.com'): 0.0,\n",
        "  ('cannon.com', 'kodak.com'): 0.8,\n",
        "  ('cannon.com', 'nokia.com'): 0.5173333333333333,\n",
        "  ('hp.com', 'hp.com'): 1,\n",
        "  ('hp.com', 'kodak.com'): 0.0,\n",
        "  ('hp.com', 'nokia.com'): 0.0,\n",
        "  ('kodak.com', 'kodak.com'): 1,\n",
        "  ('kodak.com', 'nokia.com'): 0.5173333333333333,\n",
        "  ('nokia.com', 'nokia.com'): 1})"
       ]
      }
     ],
     "prompt_number": 92
    },
    {
     "cell_type": "code",
     "collapsed": false,
     "input": [],
     "language": "python",
     "metadata": {},
     "outputs": [],
     "prompt_number": 92
    },
    {
     "cell_type": "code",
     "collapsed": false,
     "input": [],
     "language": "python",
     "metadata": {},
     "outputs": [],
     "prompt_number": 92
    },
    {
     "cell_type": "code",
     "collapsed": false,
     "input": [
      "k21_a = {'A1': ['B1'], 'A2': ['B1']}\n",
      "k21_b = {'B1': ['A1','A2']}"
     ],
     "language": "python",
     "metadata": {},
     "outputs": [],
     "prompt_number": 95
    },
    {
     "cell_type": "code",
     "collapsed": false,
     "input": [
      "k22_a = {'A1': ['B1','B2'], 'A2': ['B1','B2']}\n",
      "k22_b = {'B1': ['A1','A2'], 'B2': ['A1','A2']}"
     ],
     "language": "python",
     "metadata": {},
     "outputs": [],
     "prompt_number": 96
    },
    {
     "cell_type": "code",
     "collapsed": false,
     "input": [],
     "language": "python",
     "metadata": {},
     "outputs": [],
     "prompt_number": 96
    },
    {
     "cell_type": "code",
     "collapsed": false,
     "input": [
      "getSimilarity(3, k21_a, k21_b)"
     ],
     "language": "python",
     "metadata": {},
     "outputs": [
      {
       "output_type": "stream",
       "stream": "stdout",
       "text": [
        "{('A1', 'A2'): 0.8, ('A1', 'A1'): 1, ('A2', 'A2'): 1} \n",
        "{('B1', 'B1'): 1} \n",
        "\n",
        "\n",
        "{('A1', 'A2'): 0.8, ('A1', 'A1'): 1, ('A2', 'A2'): 1} \n",
        "{('B1', 'B1'): 1} \n",
        "\n",
        "\n",
        "{('A1', 'A2'): 0.8, ('A1', 'A1'): 1, ('A2', 'A2'): 1} \n",
        "{('B1', 'B1'): 1} \n",
        "\n",
        "\n"
       ]
      },
      {
       "metadata": {},
       "output_type": "pyout",
       "prompt_number": 97,
       "text": [
        "({('A1', 'A1'): 1, ('A1', 'A2'): 0.8, ('A2', 'A2'): 1}, {('B1', 'B1'): 1})"
       ]
      }
     ],
     "prompt_number": 97
    },
    {
     "cell_type": "code",
     "collapsed": false,
     "input": [
      "getSimilarity(3, k22_a, k22_b)"
     ],
     "language": "python",
     "metadata": {},
     "outputs": [
      {
       "output_type": "stream",
       "stream": "stdout",
       "text": [
        "{('A1', 'A2'): 0.4, ('A1', 'A1'): 1, ('A2', 'A2'): 1} \n",
        "{('B1', 'B2'): 0.4, ('B1', 'B1'): 1, ('B2', 'B2'): 1} \n",
        "\n",
        "\n",
        "{('A1', 'A2'): 0.5599999999999999, ('A1', 'A1'): 1, ('A2', 'A2'): 1} \n",
        "{('B1', 'B2'): 0.5599999999999999, ('B1', 'B1'): 1, ('B2', 'B2'): 1} \n",
        "\n",
        "\n",
        "{('A1', 'A2'): 0.6240000000000001, ('A1', 'A1'): 1, ('A2', 'A2'): 1} \n",
        "{('B1', 'B2'): 0.6240000000000001, ('B1', 'B1'): 1, ('B2', 'B2'): 1} \n",
        "\n",
        "\n"
       ]
      },
      {
       "metadata": {},
       "output_type": "pyout",
       "prompt_number": 98,
       "text": [
        "({('A1', 'A1'): 1, ('A1', 'A2'): 0.6240000000000001, ('A2', 'A2'): 1},\n",
        " {('B1', 'B1'): 1, ('B1', 'B2'): 0.6240000000000001, ('B2', 'B2'): 1})"
       ]
      }
     ],
     "prompt_number": 98
    },
    {
     "cell_type": "code",
     "collapsed": false,
     "input": [],
     "language": "python",
     "metadata": {},
     "outputs": []
    }
   ],
   "metadata": {}
  }
 ]
}