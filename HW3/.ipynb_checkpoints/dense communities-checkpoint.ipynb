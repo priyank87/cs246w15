{
 "metadata": {
  "name": "",
  "signature": "sha256:73a50c62cb13535073456d50c46603c79062a8425b1466232f31dea0403150da"
 },
 "nbformat": 3,
 "nbformat_minor": 0,
 "worksheets": [
  {
   "cells": [
    {
     "cell_type": "code",
     "collapsed": false,
     "input": [
      "import itertools\n",
      "from itertools import islice\n",
      "from collections import defaultdict\n",
      "import copy, math"
     ],
     "language": "python",
     "metadata": {},
     "outputs": [],
     "prompt_number": 2
    },
    {
     "cell_type": "code",
     "collapsed": false,
     "input": [
      "path = 'livejournal-undirected-small.txt'\n",
      "epsilon = 0.1"
     ],
     "language": "python",
     "metadata": {},
     "outputs": [],
     "prompt_number": 3
    },
    {
     "cell_type": "code",
     "collapsed": false,
     "input": [
      "def getNlines(path):\n",
      "    with open(path) as f:\n",
      "        while True:\n",
      "            next_n_lines = list(islice(f, 5000))\n",
      "            yield next_n_lines\n",
      "            if not next_n_lines:\n",
      "                break"
     ],
     "language": "python",
     "metadata": {},
     "outputs": [],
     "prompt_number": 4
    },
    {
     "cell_type": "code",
     "collapsed": false,
     "input": [
      "def getNodes(st):\n",
      "    return map(int, st.strip().split('\\t'))"
     ],
     "language": "python",
     "metadata": {},
     "outputs": [],
     "prompt_number": 5
    },
    {
     "cell_type": "code",
     "collapsed": false,
     "input": [
      "def initS(path=path, exclude=None):\n",
      "    k = getNlines(path)\n",
      "    S = set()\n",
      "    \n",
      "    exclude_nodes = set(itertools.chain(*exclude)) if exclude else []\n",
      "    print '======== Exclude - ', exclude_nodes\n",
      "    \n",
      "    for i in k:\n",
      "        edges = map(getNodes, i)\n",
      "        if not len(edges): break\n",
      "            \n",
      "        for e in edges:\n",
      "            if e[0] not in S : S.add(e[0])\n",
      "            if e[1] not in S : S.add(e[1])\n",
      "    \n",
      "    S.difference_update(exclude_nodes)\n",
      "    \n",
      "    return S"
     ],
     "language": "python",
     "metadata": {},
     "outputs": [],
     "prompt_number": 15
    },
    {
     "cell_type": "code",
     "collapsed": false,
     "input": [
      "def checkMembership(e, S):\n",
      "    return True if e[0] in S and e[1] in S else False"
     ],
     "language": "python",
     "metadata": {},
     "outputs": [],
     "prompt_number": 7
    },
    {
     "cell_type": "code",
     "collapsed": false,
     "input": [
      "def calcDensityAndDegrees(S, path=path):\n",
      "    k = getNlines(path)\n",
      "    degrees = defaultdict(int)\n",
      "    count_induced_set = 0\n",
      "    \n",
      "    for i in k:\n",
      "        edges = map(getNodes, i)\n",
      "        for e in edges:\n",
      "            if checkMembership(e, S):\n",
      "                degrees[e[0]] += 1\n",
      "                degrees[e[1]] += 1\n",
      "                count_induced_set += 1\n",
      "    \n",
      "    return count_induced_set*1.0/len(S), degrees, count_induced_set"
     ],
     "language": "python",
     "metadata": {},
     "outputs": [],
     "prompt_number": 8
    },
    {
     "cell_type": "code",
     "collapsed": false,
     "input": [],
     "language": "python",
     "metadata": {},
     "outputs": [],
     "prompt_number": 8
    },
    {
     "cell_type": "code",
     "collapsed": false,
     "input": [],
     "language": "python",
     "metadata": {},
     "outputs": [],
     "prompt_number": 8
    },
    {
     "cell_type": "code",
     "collapsed": false,
     "input": [
      "def findCommunity(epsilon=epsilon, path=path, exclude=None):\n",
      "    S = initS(path, exclude)\n",
      "    Sa = copy.copy(S)\n",
      "    cnt = 0\n",
      "    \n",
      "    density, degrees, Es = calcDensityAndDegrees(S, path)\n",
      "    density_Sa = density\n",
      "    Es_Sa = Es\n",
      "    print 'len________',len(S), density\n",
      "    \n",
      "    densities = [density]\n",
      "    ind_set_cnts = [Es]\n",
      "    S_cnt = [len(S)]\n",
      "    \n",
      "    while len(S) > 0:\n",
      "        cnt += 1\n",
      "        S = {i for i,k in degrees.iteritems() if k>(2*(1+epsilon)*density)}\n",
      "        \n",
      "        if len(S) == 0:\n",
      "            density, degrees, Es = 0, {}, 0\n",
      "        else:\n",
      "            density, degrees, Es = calcDensityAndDegrees(S, path)\n",
      "        \n",
      "        print 'len________',len(S), density\n",
      "        \n",
      "        densities.append(density)\n",
      "        ind_set_cnts.append(Es)\n",
      "        S_cnt.append(len(S))\n",
      "        \n",
      "        if (density > density_Sa):\n",
      "            #print 'Update--------', density_Sa, density, S\n",
      "            Sa = copy.copy(S)\n",
      "            density_Sa = density\n",
      "            Es_Sa = Es\n",
      "        \n",
      "    return (Sa, density_Sa, Es_Sa), cnt, (densities, ind_set_cnts, S_cnt)"
     ],
     "language": "python",
     "metadata": {},
     "outputs": [],
     "prompt_number": 27
    },
    {
     "cell_type": "code",
     "collapsed": false,
     "input": [
      "comm005, iterations005, data = findCommunity(0.05, 'livejournal-undirected.txt')"
     ],
     "language": "python",
     "metadata": {},
     "outputs": [
      {
       "output_type": "stream",
       "stream": "stdout",
       "text": [
        "======== Exclude -  []\n",
        "len________"
       ]
      },
      {
       "output_type": "stream",
       "stream": "stdout",
       "text": [
        " 499923 15.5909810111\n",
        "len________"
       ]
      },
      {
       "output_type": "stream",
       "stream": "stdout",
       "text": [
        " 132453 32.7360271191\n",
        "len________"
       ]
      },
      {
       "output_type": "stream",
       "stream": "stdout",
       "text": [
        " 34277 52.5529655454\n",
        "len________"
       ]
      },
      {
       "output_type": "stream",
       "stream": "stdout",
       "text": [
        " 9720 78.0268518519\n",
        "len________"
       ]
      },
      {
       "output_type": "stream",
       "stream": "stdout",
       "text": [
        " 3204 103.765293383\n",
        "len________"
       ]
      },
      {
       "output_type": "stream",
       "stream": "stdout",
       "text": [
        " 1286 134.354587869\n",
        "len________"
       ]
      },
      {
       "output_type": "stream",
       "stream": "stdout",
       "text": [
        " 258 103.775193798\n",
        "len________"
       ]
      },
      {
       "output_type": "stream",
       "stream": "stdout",
       "text": [
        " 137 67.6569343066\n",
        "len________ 0 0\n"
       ]
      }
     ],
     "prompt_number": 18
    },
    {
     "cell_type": "code",
     "collapsed": false,
     "input": [
      "plt.plot(data[0])"
     ],
     "language": "python",
     "metadata": {},
     "outputs": [
      {
       "metadata": {},
       "output_type": "pyout",
       "prompt_number": 19,
       "text": [
        "[<matplotlib.lines.Line2D at 0x109acb190>]"
       ]
      },
      {
       "metadata": {},
       "output_type": "display_data",
       "png": "[encoded data removed]",
       "text": [
        "<matplotlib.figure.Figure at 0x108b7a0d0>"
       ]
      }
     ],
     "prompt_number": 19
    },
    {
     "cell_type": "code",
     "collapsed": false,
     "input": [
      "plt.plot(data[1])"
     ],
     "language": "python",
     "metadata": {},
     "outputs": [
      {
       "metadata": {},
       "output_type": "pyout",
       "prompt_number": 20,
       "text": [
        "[<matplotlib.lines.Line2D at 0x105e48a10>]"
       ]
      },
      {
       "metadata": {},
       "output_type": "display_data",
       "png": "[encoded data removed]",
       "text": [
        "<matplotlib.figure.Figure at 0x108b7a910>"
       ]
      }
     ],
     "prompt_number": 20
    },
    {
     "cell_type": "code",
     "collapsed": false,
     "input": [
      "plt.plot(data[2])"
     ],
     "language": "python",
     "metadata": {},
     "outputs": [
      {
       "metadata": {},
       "output_type": "pyout",
       "prompt_number": 21,
       "text": [
        "[<matplotlib.lines.Line2D at 0x105ef7ad0>]"
       ]
      },
      {
       "metadata": {},
       "output_type": "display_data",
       "png": "[encoded data removed]",
       "text": [
        "<matplotlib.figure.Figure at 0x108b25e10>"
       ]
      }
     ],
     "prompt_number": 21
    },
    {
     "cell_type": "code",
     "collapsed": false,
     "input": [],
     "language": "python",
     "metadata": {},
     "outputs": [],
     "prompt_number": 24
    },
    {
     "cell_type": "code",
     "collapsed": false,
     "input": [],
     "language": "python",
     "metadata": {},
     "outputs": []
    },
    {
     "cell_type": "code",
     "collapsed": false,
     "input": [],
     "language": "python",
     "metadata": {},
     "outputs": [],
     "prompt_number": 26
    },
    {
     "cell_type": "code",
     "collapsed": false,
     "input": [
      "%time comm01, iterations01, data = findCommunity(0.1, 'livejournal-undirected.txt')\n",
      "%time comm05, iterations05, data = findCommunity(0.5, 'livejournal-undirected.txt')\n",
      "%time comm1, iterations1, data = findCommunity(1, 'livejournal-undirected.txt')\n",
      "%time comm2, iterations2, data = findCommunity(2, 'livejournal-undirected.txt')"
     ],
     "language": "python",
     "metadata": {},
     "outputs": [],
     "prompt_number": 13
    },
    {
     "cell_type": "code",
     "collapsed": false,
     "input": [],
     "language": "python",
     "metadata": {},
     "outputs": []
    },
    {
     "cell_type": "code",
     "collapsed": false,
     "input": [],
     "language": "python",
     "metadata": {},
     "outputs": []
    },
    {
     "cell_type": "code",
     "collapsed": false,
     "input": [],
     "language": "python",
     "metadata": {},
     "outputs": []
    },
    {
     "cell_type": "code",
     "collapsed": false,
     "input": [],
     "language": "python",
     "metadata": {},
     "outputs": []
    },
    {
     "cell_type": "code",
     "collapsed": false,
     "input": [
      "print math.log(499923,1.1)\n",
      "print math.log(499923,1.5)\n",
      "print math.log(499923,2)\n",
      "print math.log(499923,3)"
     ],
     "language": "python",
     "metadata": {},
     "outputs": []
    },
    {
     "cell_type": "code",
     "collapsed": false,
     "input": [],
     "language": "python",
     "metadata": {},
     "outputs": [],
     "prompt_number": 302
    },
    {
     "cell_type": "code",
     "collapsed": false,
     "input": [
      "\n",
      "for i in range(1):\n",
      "    comm005, iterations005, data = findCommunity(0.05, 'livejournal-undirected.txt')"
     ],
     "language": "python",
     "metadata": {},
     "outputs": []
    }
   ],
   "metadata": {}
  }
 ]
}