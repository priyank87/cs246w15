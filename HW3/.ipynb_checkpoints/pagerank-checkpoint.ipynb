{
 "metadata": {
  "name": "",
  "signature": "sha256:5efb78f64ddb6088bc1678040563c1b3e9bd7f3d086c2a09fe72049cac17bff0"
 },
 "nbformat": 3,
 "nbformat_minor": 0,
 "worksheets": [
  {
   "cells": [
    {
     "cell_type": "code",
     "collapsed": false,
     "input": [
      "import numpy as np"
     ],
     "language": "python",
     "metadata": {},
     "outputs": [],
     "prompt_number": 1
    },
    {
     "cell_type": "code",
     "collapsed": false,
     "input": [
      "beta = 0.8"
     ],
     "language": "python",
     "metadata": {},
     "outputs": [],
     "prompt_number": 2
    },
    {
     "cell_type": "code",
     "collapsed": false,
     "input": [
      "path = 'graph.txt'"
     ],
     "language": "python",
     "metadata": {},
     "outputs": [],
     "prompt_number": 3
    },
    {
     "cell_type": "code",
     "collapsed": false,
     "input": [
      "graph = {}\n",
      "for l in open(path).readlines():\n",
      "    src = int(l.split()[0])-1\n",
      "    dst = int(l.split()[1])-1\n",
      "    \n",
      "    if src in graph:\n",
      "        graph[src].append(dst)\n",
      "    else:\n",
      "        graph[src] = [dst]"
     ],
     "language": "python",
     "metadata": {},
     "outputs": [],
     "prompt_number": 17
    },
    {
     "cell_type": "code",
     "collapsed": false,
     "input": [],
     "language": "python",
     "metadata": {},
     "outputs": [],
     "prompt_number": 19
    },
    {
     "cell_type": "code",
     "collapsed": false,
     "input": [
      "def calcR(M, r, n, beta):\n",
      "    for i in range(40):\n",
      "        r = (beta * M.dot(r)) + ((1-beta) * n)\n",
      "        \n",
      "    return r"
     ],
     "language": "python",
     "metadata": {},
     "outputs": [],
     "prompt_number": 106
    },
    {
     "cell_type": "code",
     "collapsed": false,
     "input": [
      "M = np.ndarray((len(graph.keys()), len(graph.keys())))\n",
      "\n",
      "for it in graph.iteritems():\n",
      "    key = it[0]\n",
      "    val = it[1]\n",
      "    outlinks = len(val)\n",
      "    \n",
      "    for n in set(val):\n",
      "        cnt = val.count(n)\n",
      "        M[n, key] = cnt*1.0/outlinks\n",
      "\n",
      "r = np.ones((100,1)) * 1.0/100\n",
      "n = np.ones_like(r) * 1.0/100"
     ],
     "language": "python",
     "metadata": {},
     "outputs": [],
     "prompt_number": 107
    },
    {
     "cell_type": "code",
     "collapsed": false,
     "input": [
      "%time r_n = calcR(M, r, n, beta)"
     ],
     "language": "python",
     "metadata": {},
     "outputs": [
      {
       "output_type": "stream",
       "stream": "stdout",
       "text": [
        "CPU times: user 499 \u00b5s, sys: 249 \u00b5s, total: 748 \u00b5s\n",
        "Wall time: 486 \u00b5s\n"
       ]
      }
     ],
     "prompt_number": 114
    },
    {
     "cell_type": "code",
     "collapsed": false,
     "input": [],
     "language": "python",
     "metadata": {},
     "outputs": [],
     "prompt_number": 115
    },
    {
     "cell_type": "code",
     "collapsed": false,
     "input": [],
     "language": "python",
     "metadata": {},
     "outputs": [],
     "prompt_number": 129
    },
    {
     "cell_type": "code",
     "collapsed": false,
     "input": [],
     "language": "python",
     "metadata": {},
     "outputs": [],
     "prompt_number": 138
    },
    {
     "cell_type": "code",
     "collapsed": false,
     "input": [
      "def getNextRandom(edges, transM):\n",
      "    tempr = np.random.random()\n",
      "    for idx, i in enumerate(transM[edges]):\n",
      "        tempr -= i\n",
      "        #print tempr, i, idx, edges[idx]\n",
      "        if tempr <= 0:\n",
      "            return edges[idx]"
     ],
     "language": "python",
     "metadata": {},
     "outputs": [],
     "prompt_number": 189
    },
    {
     "cell_type": "code",
     "collapsed": false,
     "input": [
      "def mcPageRank(R):\n",
      "    mr = np.zeros((100,1))\n",
      "    for k in graph.keys():\n",
      "        transM = M[:,k]\n",
      "        edges = np.where(transM > 0)[0]\n",
      "        for i in range(R):\n",
      "            while np.random.random() <= 0.8:\n",
      "                nxt = getNextRandom(edges, transM)\n",
      "                transM = M[:,nxt]\n",
      "                edges = np.where(transM > 0)[0]\n",
      "                mr[nxt] += 1"
     ],
     "language": "python",
     "metadata": {},
     "outputs": [],
     "prompt_number": 200
    },
    {
     "cell_type": "code",
     "collapsed": false,
     "input": [],
     "language": "python",
     "metadata": {},
     "outputs": [],
     "prompt_number": 208
    },
    {
     "cell_type": "code",
     "collapsed": false,
     "input": [],
     "language": "python",
     "metadata": {},
     "outputs": []
    }
   ],
   "metadata": {}
  }
 ]
}