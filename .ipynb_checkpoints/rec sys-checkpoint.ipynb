{
 "metadata": {
  "name": "",
  "signature": "sha256:03cd5153db9f2e407fc631d44099702715f756f2b9eb8a5e37e5ba5b9fcb2c6e"
 },
 "nbformat": 3,
 "nbformat_minor": 0,
 "worksheets": [
  {
   "cells": [
    {
     "cell_type": "code",
     "collapsed": false,
     "input": [
      "import numpy as np\n",
      "from numpy import linalg as LA\n",
      "import itertools\n",
      "from scipy.spatial.distance import jaccard\n",
      "import collections, operator"
     ],
     "language": "python",
     "metadata": {},
     "outputs": [],
     "prompt_number": 109
    },
    {
     "cell_type": "code",
     "collapsed": false,
     "input": [
      "def getC(alpha):\n",
      "    A = [1,0,1,0,1,2*alpha]\n",
      "    B = [1,1,0,0,1,6*alpha]\n",
      "    C = [0,1,0,1,0,2*alpha]"
     ],
     "language": "python",
     "metadata": {},
     "outputs": [],
     "prompt_number": 2
    },
    {
     "cell_type": "code",
     "collapsed": false,
     "input": [],
     "language": "python",
     "metadata": {},
     "outputs": []
    },
    {
     "cell_type": "code",
     "collapsed": false,
     "input": [],
     "language": "python",
     "metadata": {},
     "outputs": []
    },
    {
     "cell_type": "code",
     "collapsed": false,
     "input": [],
     "language": "python",
     "metadata": {},
     "outputs": []
    },
    {
     "cell_type": "code",
     "collapsed": false,
     "input": [],
     "language": "python",
     "metadata": {},
     "outputs": []
    },
    {
     "cell_type": "code",
     "collapsed": false,
     "input": [],
     "language": "python",
     "metadata": {},
     "outputs": []
    },
    {
     "cell_type": "code",
     "collapsed": false,
     "input": [
      "M = [[1,2,3,4,5],[2,3,2,5,3],[5,5,5,3,2]]"
     ],
     "language": "python",
     "metadata": {},
     "outputs": [],
     "prompt_number": 289
    },
    {
     "cell_type": "code",
     "collapsed": false,
     "input": [
      "arr = np.array(M)"
     ],
     "language": "python",
     "metadata": {},
     "outputs": [],
     "prompt_number": 290
    },
    {
     "cell_type": "code",
     "collapsed": false,
     "input": [
      "row = np.average(M, 0)"
     ],
     "language": "python",
     "metadata": {},
     "outputs": [],
     "prompt_number": 291
    },
    {
     "cell_type": "code",
     "collapsed": false,
     "input": [
      "new = np.array(M) - row "
     ],
     "language": "python",
     "metadata": {},
     "outputs": [],
     "prompt_number": 292
    },
    {
     "cell_type": "code",
     "collapsed": false,
     "input": [
      "col = np.average(new, 1)"
     ],
     "language": "python",
     "metadata": {},
     "outputs": [],
     "prompt_number": 293
    },
    {
     "cell_type": "code",
     "collapsed": false,
     "input": [
      "maxarr = (new.T - col).T"
     ],
     "language": "python",
     "metadata": {},
     "outputs": [],
     "prompt_number": 296
    },
    {
     "cell_type": "code",
     "collapsed": false,
     "input": [
      "np.where(maxarr == np.min(maxarr))"
     ],
     "language": "python",
     "metadata": {},
     "outputs": [
      {
       "metadata": {},
       "output_type": "pyout",
       "prompt_number": 300,
       "text": [
        "(array([2]), array([4]))"
       ]
      }
     ],
     "prompt_number": 300
    },
    {
     "cell_type": "code",
     "collapsed": false,
     "input": [
      "maxarr"
     ],
     "language": "python",
     "metadata": {},
     "outputs": [
      {
       "metadata": {},
       "output_type": "pyout",
       "prompt_number": 301,
       "text": [
        "array([[ -1.33333333e+00,  -1.00000000e+00,  -1.11022302e-16,\n",
        "          3.33333333e-01,   2.00000000e+00],\n",
        "       [ -3.33333333e-01,  -1.11022302e-16,  -1.00000000e+00,\n",
        "          1.33333333e+00,  -1.11022302e-16],\n",
        "       [  1.66666667e+00,   1.00000000e+00,   1.00000000e+00,\n",
        "         -1.66666667e+00,  -2.00000000e+00]])"
       ]
      }
     ],
     "prompt_number": 301
    },
    {
     "cell_type": "code",
     "collapsed": false,
     "input": [],
     "language": "python",
     "metadata": {},
     "outputs": []
    },
    {
     "cell_type": "code",
     "collapsed": false,
     "input": [],
     "language": "python",
     "metadata": {},
     "outputs": []
    },
    {
     "cell_type": "code",
     "collapsed": false,
     "input": [],
     "language": "python",
     "metadata": {},
     "outputs": []
    },
    {
     "cell_type": "code",
     "collapsed": false,
     "input": [
      "np.array(M)"
     ],
     "language": "python",
     "metadata": {},
     "outputs": [
      {
       "metadata": {},
       "output_type": "pyout",
       "prompt_number": 141,
       "text": [
        "array([[1, 2, 3, 4, 5],\n",
        "       [2, 3, 2, 5, 3],\n",
        "       [5, 5, 5, 3, 2]])"
       ]
      }
     ],
     "prompt_number": 141
    },
    {
     "cell_type": "code",
     "collapsed": false,
     "input": [],
     "language": "python",
     "metadata": {},
     "outputs": []
    },
    {
     "cell_type": "code",
     "collapsed": false,
     "input": [],
     "language": "python",
     "metadata": {},
     "outputs": []
    },
    {
     "cell_type": "code",
     "collapsed": false,
     "input": [
      "def distJ(a, b, arr):\n",
      "    if not isinstance(a, collections.Iterable):\n",
      "        a = [a]\n",
      "    if not isinstance(b, collections.Iterable):\n",
      "        b = [b]\n",
      "    \n",
      "    mind = []\n",
      "    \n",
      "    for u in itertools.product(a, b):\n",
      "        mind.append(jaccard(arr[:, u[0]], arr[:, u[1]]))\n",
      "        \n",
      "    #print mind\n",
      "    return np.min(mind)"
     ],
     "language": "python",
     "metadata": {},
     "outputs": [],
     "prompt_number": 165
    },
    {
     "cell_type": "code",
     "collapsed": false,
     "input": [
      "def getNewCluster(a, b):\n",
      "    if not isinstance(a, collections.Iterable):\n",
      "        a = (a,)\n",
      "    if not isinstance(b, collections.Iterable):\n",
      "        b = (b,)\n",
      "        \n",
      "    return a + b"
     ],
     "language": "python",
     "metadata": {},
     "outputs": [],
     "prompt_number": 245
    },
    {
     "cell_type": "code",
     "collapsed": false,
     "input": [
      "N = [[4,5,0,5,1,0,3,2],[0,3,4,3,1,2,1,0],[2,0,1,3,0,4,5,3]]\n",
      "arr = np.array(N)\n",
      "arr"
     ],
     "language": "python",
     "metadata": {},
     "outputs": [
      {
       "metadata": {},
       "output_type": "pyout",
       "prompt_number": 196,
       "text": [
        "array([[4, 5, 0, 5, 1, 0, 3, 2],\n",
        "       [0, 3, 4, 3, 1, 2, 1, 0],\n",
        "       [2, 0, 1, 3, 0, 4, 5, 3]])"
       ]
      }
     ],
     "prompt_number": 196
    },
    {
     "cell_type": "code",
     "collapsed": false,
     "input": [
      "arr[np.where(arr<=2)]=0\n",
      "arr[np.where(arr>2)]=1\n",
      "arr"
     ],
     "language": "python",
     "metadata": {},
     "outputs": [
      {
       "metadata": {},
       "output_type": "pyout",
       "prompt_number": 197,
       "text": [
        "array([[1, 1, 0, 1, 0, 0, 1, 0],\n",
        "       [0, 1, 1, 1, 0, 0, 0, 0],\n",
        "       [0, 0, 0, 1, 0, 1, 1, 1]])"
       ]
      }
     ],
     "prompt_number": 197
    },
    {
     "cell_type": "code",
     "collapsed": false,
     "input": [],
     "language": "python",
     "metadata": {},
     "outputs": [],
     "prompt_number": 258
    },
    {
     "cell_type": "code",
     "collapsed": false,
     "input": [
      "clusters = range(8)\n",
      "while len(clusters) > 4:\n",
      "    l = range(len(clusters))\n",
      "    dists = {}\n",
      "    for u in itertools.combinations(l,2):\n",
      "        dist = distJ(clusters[u[0]], clusters[u[1]], arr)\n",
      "        #print u, dist\n",
      "        dists[u] = dist\n",
      "        mind = sorted(dists.items(), key=operator.itemgetter(1))[0]\n",
      "\n",
      "    newCluster = getNewCluster(clusters[mind[0][0]], clusters[mind[0][1]])\n",
      "    newSet = []\n",
      "\n",
      "    for it in l:\n",
      "        if it in mind[0]: continue\n",
      "        newSet.append(clusters[it])\n",
      "\n",
      "    clusters = newSet\n",
      "    clusters.append(newCluster)"
     ],
     "language": "python",
     "metadata": {},
     "outputs": [],
     "prompt_number": 276
    },
    {
     "cell_type": "code",
     "collapsed": false,
     "input": [
      "newCluster"
     ],
     "language": "python",
     "metadata": {},
     "outputs": [
      {
       "metadata": {},
       "output_type": "pyout",
       "prompt_number": 277,
       "text": [
        "(2, 6, 1, 3)"
       ]
      }
     ],
     "prompt_number": 277
    },
    {
     "cell_type": "code",
     "collapsed": false,
     "input": [
      "clusters"
     ],
     "language": "python",
     "metadata": {},
     "outputs": [
      {
       "metadata": {},
       "output_type": "pyout",
       "prompt_number": 278,
       "text": [
        "[0, 4, (5, 7), (2, 6, 1, 3)]"
       ]
      }
     ],
     "prompt_number": 278
    },
    {
     "cell_type": "code",
     "collapsed": false,
     "input": [
      "mind[0][1]"
     ],
     "language": "python",
     "metadata": {},
     "outputs": [
      {
       "metadata": {},
       "output_type": "pyout",
       "prompt_number": 233,
       "text": [
        "7"
       ]
      }
     ],
     "prompt_number": 233
    },
    {
     "cell_type": "code",
     "collapsed": false,
     "input": [
      "clusters"
     ],
     "language": "python",
     "metadata": {},
     "outputs": [
      {
       "metadata": {},
       "output_type": "pyout",
       "prompt_number": 185,
       "text": [
        "[0, 1, 2, 3, 4, 6]"
       ]
      }
     ],
     "prompt_number": 185
    },
    {
     "cell_type": "code",
     "collapsed": false,
     "input": [
      "newCluster"
     ],
     "language": "python",
     "metadata": {},
     "outputs": [
      {
       "metadata": {},
       "output_type": "pyout",
       "prompt_number": 227,
       "text": [
        "(5, 7, 3, 5)"
       ]
      }
     ],
     "prompt_number": 227
    },
    {
     "cell_type": "code",
     "collapsed": false,
     "input": [],
     "language": "python",
     "metadata": {},
     "outputs": []
    }
   ],
   "metadata": {}
  }
 ]
}