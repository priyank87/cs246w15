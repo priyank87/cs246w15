{
 "metadata": {
  "name": "",
  "signature": "sha256:8e728b2088039e94e15b536d70b5de85b56d5bd6b6304f8817ad80cd5bf77716"
 },
 "nbformat": 3,
 "nbformat_minor": 0,
 "worksheets": [
  {
   "cells": [
    {
     "cell_type": "code",
     "collapsed": false,
     "input": [
      "import numpy as np\n",
      "from numpy import linalg as LA\n",
      "import matplotlib.pyplot as plt"
     ],
     "language": "python",
     "metadata": {},
     "outputs": [],
     "prompt_number": 1
    },
    {
     "cell_type": "code",
     "collapsed": false,
     "input": [
      "path = 'q1-dataset/user-shows.txt'\n",
      "path_alex = 'q1-dataset/alex.txt'\n",
      "path_show = 'q1-dataset/shows.txt'"
     ],
     "language": "python",
     "metadata": {},
     "outputs": [],
     "prompt_number": 2
    },
    {
     "cell_type": "code",
     "collapsed": false,
     "input": [
      "shows = open(path_show).read().split('\\n')"
     ],
     "language": "python",
     "metadata": {},
     "outputs": [],
     "prompt_number": 3
    },
    {
     "cell_type": "code",
     "collapsed": false,
     "input": [
      "alex = np.loadtxt(path_alex, delimiter=' ')"
     ],
     "language": "python",
     "metadata": {},
     "outputs": [],
     "prompt_number": 4
    },
    {
     "cell_type": "code",
     "collapsed": false,
     "input": [
      "R = np.loadtxt(path, delimiter=' ')"
     ],
     "language": "python",
     "metadata": {},
     "outputs": [],
     "prompt_number": 5
    },
    {
     "cell_type": "code",
     "collapsed": false,
     "input": [
      "P = np.diag(R.sum(1))"
     ],
     "language": "python",
     "metadata": {},
     "outputs": [],
     "prompt_number": 6
    },
    {
     "cell_type": "code",
     "collapsed": false,
     "input": [
      "Q = np.diag(R.sum(0))"
     ],
     "language": "python",
     "metadata": {},
     "outputs": [],
     "prompt_number": 7
    },
    {
     "cell_type": "code",
     "collapsed": false,
     "input": [
      "T = R.dot(R.T)"
     ],
     "language": "python",
     "metadata": {},
     "outputs": [],
     "prompt_number": 8
    },
    {
     "cell_type": "code",
     "collapsed": false,
     "input": [
      "P_sqrt = np.power(P, 0.5)"
     ],
     "language": "python",
     "metadata": {},
     "outputs": [],
     "prompt_number": 9
    },
    {
     "cell_type": "code",
     "collapsed": false,
     "input": [
      "Q_sqrt = np.power(Q, 0.5)"
     ],
     "language": "python",
     "metadata": {},
     "outputs": [],
     "prompt_number": 10
    },
    {
     "cell_type": "code",
     "collapsed": false,
     "input": [
      "P_sq_inv = LA.inv(P_sqrt)"
     ],
     "language": "python",
     "metadata": {},
     "outputs": [],
     "prompt_number": 11
    },
    {
     "cell_type": "code",
     "collapsed": false,
     "input": [
      "Q_sq_inv = LA.inv(Q_sqrt)"
     ],
     "language": "python",
     "metadata": {},
     "outputs": [],
     "prompt_number": 12
    },
    {
     "cell_type": "code",
     "collapsed": false,
     "input": [],
     "language": "python",
     "metadata": {},
     "outputs": [],
     "prompt_number": 12
    },
    {
     "cell_type": "code",
     "collapsed": false,
     "input": [
      "SU = P_sq_inv.dot(T).dot(P_sq_inv)"
     ],
     "language": "python",
     "metadata": {},
     "outputs": []
    },
    {
     "cell_type": "code",
     "collapsed": false,
     "input": [
      "GU = SU.dot(R)"
     ],
     "language": "python",
     "metadata": {},
     "outputs": [],
     "prompt_number": 36
    },
    {
     "cell_type": "code",
     "collapsed": false,
     "input": [
      "GU_sub = GU[:, :100]"
     ],
     "language": "python",
     "metadata": {},
     "outputs": [],
     "prompt_number": 40
    },
    {
     "cell_type": "code",
     "collapsed": false,
     "input": [
      "unn_idx = np.argsort(GU_sub[499,:])[::-1][:5]"
     ],
     "language": "python",
     "metadata": {},
     "outputs": [],
     "prompt_number": 94
    },
    {
     "cell_type": "code",
     "collapsed": false,
     "input": [
      "unn_scr = GU_sub[499, unn_idx]"
     ],
     "language": "python",
     "metadata": {},
     "outputs": [],
     "prompt_number": 95
    },
    {
     "cell_type": "code",
     "collapsed": false,
     "input": [],
     "language": "python",
     "metadata": {},
     "outputs": [],
     "prompt_number": 65
    },
    {
     "cell_type": "code",
     "collapsed": false,
     "input": [
      "for ix in unn_idx:\n",
      "    print shows[ix], GU_sub[499, ix]"
     ],
     "language": "python",
     "metadata": {},
     "outputs": [
      {
       "output_type": "stream",
       "stream": "stdout",
       "text": [
        "\"FOX 28 News at 10pm\" 908.480053476\n",
        "\"Family Guy\" 861.175999287\n",
        "\"2009 NCAA Basketball Tournament\" 827.601295474\n",
        "\"NBC 4 at Eleven\" 784.781958904\n",
        "\"Two and a Half Men\" 757.601118102\n"
       ]
      }
     ],
     "prompt_number": 96
    },
    {
     "cell_type": "code",
     "collapsed": false,
     "input": [],
     "language": "python",
     "metadata": {},
     "outputs": [],
     "prompt_number": 85
    },
    {
     "cell_type": "code",
     "collapsed": false,
     "input": [
      "SI = Q_sq_inv.dot(R.T.dot(R)).dot(Q_sq_inv)"
     ],
     "language": "python",
     "metadata": {},
     "outputs": [],
     "prompt_number": 88
    },
    {
     "cell_type": "code",
     "collapsed": false,
     "input": [
      "GI = R.dot(SI)"
     ],
     "language": "python",
     "metadata": {},
     "outputs": [],
     "prompt_number": 91
    },
    {
     "cell_type": "code",
     "collapsed": false,
     "input": [
      "GI_sub = GI[:, :100]"
     ],
     "language": "python",
     "metadata": {},
     "outputs": [],
     "prompt_number": 93
    },
    {
     "cell_type": "code",
     "collapsed": false,
     "input": [
      "inn_idx = np.argsort(GI_sub[499,:])[::-1][:5]"
     ],
     "language": "python",
     "metadata": {},
     "outputs": [],
     "prompt_number": 97
    },
    {
     "cell_type": "code",
     "collapsed": false,
     "input": [
      "inn_scr = GI_sub[499, inn_idx]"
     ],
     "language": "python",
     "metadata": {},
     "outputs": [],
     "prompt_number": 98
    },
    {
     "cell_type": "code",
     "collapsed": false,
     "input": [
      "for ix in inn_idx:\n",
      "    print shows[ix], GI_sub[499, ix]"
     ],
     "language": "python",
     "metadata": {},
     "outputs": [
      {
       "output_type": "stream",
       "stream": "stdout",
       "text": [
        "\"FOX 28 News at 10pm\" 31.3647016783\n",
        "\"Family Guy\" 30.0011417989\n",
        "\"NBC 4 at Eleven\" 29.3967977734\n",
        "\"2009 NCAA Basketball Tournament\" 29.2270015615\n",
        "\"Access Hollywood\" 28.9712776741\n"
       ]
      }
     ],
     "prompt_number": 100
    },
    {
     "cell_type": "code",
     "collapsed": false,
     "input": [],
     "language": "python",
     "metadata": {},
     "outputs": [],
     "prompt_number": 103
    },
    {
     "cell_type": "code",
     "collapsed": false,
     "input": [
      "ii_rec = np.argsort(GI_sub[499,:])[::-1]\n",
      "uu_rec = np.argsort(GU_sub[499,:])[::-1]\n",
      "ttl = alex[:100].sum()\n",
      "uu_rates = []\n",
      "ii_rates = []\n",
      "\n",
      "for k in range(1,21):\n",
      "    uu_idxs = uu_rec[:k]\n",
      "    ii_idxs = ii_rec[:k]\n",
      "    \n",
      "    uu_liked = alex[uu_idxs].sum()\n",
      "    ii_liked = alex[ii_idxs].sum()\n",
      "    \n",
      "    #print uu_liked, ii_liked\n",
      "    \n",
      "    uu_rates.append(uu_liked/ttl)\n",
      "    ii_rates.append(ii_liked/ttl)"
     ],
     "language": "python",
     "metadata": {},
     "outputs": [],
     "prompt_number": 203
    },
    {
     "cell_type": "code",
     "collapsed": false,
     "input": [
      "plt.plot(np.arange(20), uu_rates, label='user-user sim')\n",
      "plt.plot(np.arange(20), ii_rates, label='item-item sim')\n",
      "plt.xlabel(\"k\")\n",
      "plt.ylabel(\"TP\")\n",
      "plt.title(\"TP vs. k\")\n",
      "plt.legend(loc=2)"
     ],
     "language": "python",
     "metadata": {},
     "outputs": [
      {
       "metadata": {},
       "output_type": "pyout",
       "prompt_number": 204,
       "text": [
        "<matplotlib.legend.Legend at 0x1766340d0>"
       ]
      },
      {
       "metadata": {},
       "output_type": "display_data",
       "png": "[encoded data removed]",
       "text": [
        "<matplotlib.figure.Figure at 0x1a6bde350>"
       ]
      }
     ],
     "prompt_number": 204
    },
    {
     "cell_type": "code",
     "collapsed": false,
     "input": [],
     "language": "python",
     "metadata": {},
     "outputs": []
    }
   ],
   "metadata": {}
  }
 ]
}