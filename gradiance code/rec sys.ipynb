{
 "metadata": {
  "name": "",
  "signature": "sha256:090efec0c121cd1141d2bea28ffb9d4473b3a5852644d8529487130a91249e37"
 },
 "nbformat": 3,
 "nbformat_minor": 0,
 "worksheets": [
  {
   "cells": [
    {
     "cell_type": "code",
     "collapsed": false,
     "input": [
      "import numpy as np\n",
      "from numpy import linalg as LA\n",
      "import itertools\n",
      "from scipy.spatial.distance import jaccard, cosine\n",
      "import collections, operator"
     ],
     "language": "python",
     "metadata": {},
     "outputs": [],
     "prompt_number": 303
    },
    {
     "cell_type": "code",
     "collapsed": false,
     "input": [
      "def getC(alpha):\n",
      "    A = [1,0,1,0,1,2*alpha]\n",
      "    B = [1,1,0,0,1,6*alpha]\n",
      "    C = [0,1,0,1,0,2*alpha]\n",
      "    \n",
      "    print 'AB = ' + str(cosine(A,B))\n",
      "    print 'AC = ' + str(cosine(A,C))\n",
      "    print 'BC = ' + str(cosine(B,C))"
     ],
     "language": "python",
     "metadata": {},
     "outputs": [],
     "prompt_number": 309
    },
    {
     "cell_type": "code",
     "collapsed": false,
     "input": [
      "getC(0.5)"
     ],
     "language": "python",
     "metadata": {},
     "outputs": [
      {
       "output_type": "stream",
       "stream": "stdout",
       "text": [
        "AB = 0.278312163513\n",
        "AC = 0.711324865405\n",
        "BC = 0.333333333333\n"
       ]
      }
     ],
     "prompt_number": 310
    },
    {
     "cell_type": "code",
     "collapsed": false,
     "input": [
      "getC(0)"
     ],
     "language": "python",
     "metadata": {},
     "outputs": [
      {
       "output_type": "stream",
       "stream": "stdout",
       "text": [
        "AB = 0.333333333333\n",
        "AC = 1.0\n",
        "BC = 0.591751709536\n"
       ]
      }
     ],
     "prompt_number": 311
    },
    {
     "cell_type": "code",
     "collapsed": false,
     "input": [
      "getC(2)"
     ],
     "language": "python",
     "metadata": {},
     "outputs": [
      {
       "output_type": "stream",
       "stream": "stdout",
       "text": [
        "AB = 0.0539054592393\n",
        "AC = 0.134819087303\n",
        "BC = 0.0474206555843\n"
       ]
      }
     ],
     "prompt_number": 312
    },
    {
     "cell_type": "code",
     "collapsed": false,
     "input": [
      "getC(1)"
     ],
     "language": "python",
     "metadata": {},
     "outputs": [
      {
       "output_type": "stream",
       "stream": "stdout",
       "text": [
        "AB = 0.152681454264\n",
        "AC = 0.382786600152\n",
        "BC = 0.150163414401\n"
       ]
      }
     ],
     "prompt_number": 355
    },
    {
     "cell_type": "code",
     "collapsed": false,
     "input": [],
     "language": "python",
     "metadata": {},
     "outputs": []
    },
    {
     "cell_type": "code",
     "collapsed": false,
     "input": [
      "M = [[1,2,3,4,5],[2,3,2,5,3],[5,5,5,3,2]]"
     ],
     "language": "python",
     "metadata": {},
     "outputs": [],
     "prompt_number": 359
    },
    {
     "cell_type": "code",
     "collapsed": false,
     "input": [
      "row = np.average(M, 0)"
     ],
     "language": "python",
     "metadata": {},
     "outputs": [],
     "prompt_number": 360
    },
    {
     "cell_type": "code",
     "collapsed": false,
     "input": [
      "new = np.array(M) - row "
     ],
     "language": "python",
     "metadata": {},
     "outputs": [],
     "prompt_number": 361
    },
    {
     "cell_type": "code",
     "collapsed": false,
     "input": [
      "col = np.average(new, 1)"
     ],
     "language": "python",
     "metadata": {},
     "outputs": [],
     "prompt_number": 362
    },
    {
     "cell_type": "code",
     "collapsed": false,
     "input": [
      "maxarr = (new.T - col).T"
     ],
     "language": "python",
     "metadata": {},
     "outputs": [],
     "prompt_number": 363
    },
    {
     "cell_type": "code",
     "collapsed": false,
     "input": [
      "np.where(maxarr == np.min(maxarr))"
     ],
     "language": "python",
     "metadata": {},
     "outputs": [
      {
       "metadata": {},
       "output_type": "pyout",
       "prompt_number": 364,
       "text": [
        "(array([2]), array([4]))"
       ]
      }
     ],
     "prompt_number": 364
    },
    {
     "cell_type": "code",
     "collapsed": false,
     "input": [
      "maxarr"
     ],
     "language": "python",
     "metadata": {},
     "outputs": [
      {
       "metadata": {},
       "output_type": "pyout",
       "prompt_number": 365,
       "text": [
        "array([[ -1.33333333e+00,  -1.00000000e+00,  -1.11022302e-16,\n",
        "          3.33333333e-01,   2.00000000e+00],\n",
        "       [ -3.33333333e-01,  -1.11022302e-16,  -1.00000000e+00,\n",
        "          1.33333333e+00,  -1.11022302e-16],\n",
        "       [  1.66666667e+00,   1.00000000e+00,   1.00000000e+00,\n",
        "         -1.66666667e+00,  -2.00000000e+00]])"
       ]
      }
     ],
     "prompt_number": 365
    },
    {
     "cell_type": "code",
     "collapsed": false,
     "input": [
      "np.where(maxarr==0)"
     ],
     "language": "python",
     "metadata": {},
     "outputs": [
      {
       "metadata": {},
       "output_type": "pyout",
       "prompt_number": 368,
       "text": [
        "(array([], dtype=int64), array([], dtype=int64))"
       ]
      }
     ],
     "prompt_number": 368
    },
    {
     "cell_type": "code",
     "collapsed": false,
     "input": [
      "-1/3."
     ],
     "language": "python",
     "metadata": {},
     "outputs": [
      {
       "metadata": {},
       "output_type": "pyout",
       "prompt_number": 370,
       "text": [
        "-0.3333333333333333"
       ]
      }
     ],
     "prompt_number": 370
    },
    {
     "cell_type": "code",
     "collapsed": false,
     "input": [
      "-3.33333333e-01"
     ],
     "language": "python",
     "metadata": {},
     "outputs": [
      {
       "metadata": {},
       "output_type": "pyout",
       "prompt_number": 371,
       "text": [
        "-0.333333333"
       ]
      }
     ],
     "prompt_number": 371
    },
    {
     "cell_type": "code",
     "collapsed": false,
     "input": [
      "np.array(M)"
     ],
     "language": "python",
     "metadata": {},
     "outputs": [
      {
       "metadata": {},
       "output_type": "pyout",
       "prompt_number": 141,
       "text": [
        "array([[1, 2, 3, 4, 5],\n",
        "       [2, 3, 2, 5, 3],\n",
        "       [5, 5, 5, 3, 2]])"
       ]
      }
     ],
     "prompt_number": 141
    },
    {
     "cell_type": "code",
     "collapsed": false,
     "input": [],
     "language": "python",
     "metadata": {},
     "outputs": []
    },
    {
     "cell_type": "code",
     "collapsed": false,
     "input": [],
     "language": "python",
     "metadata": {},
     "outputs": []
    },
    {
     "cell_type": "code",
     "collapsed": false,
     "input": [
      "def distJ(a, b, arr):\n",
      "    if not isinstance(a, collections.Iterable):\n",
      "        a = [a]\n",
      "    if not isinstance(b, collections.Iterable):\n",
      "        b = [b]\n",
      "    \n",
      "    mind = []\n",
      "    \n",
      "    for u in itertools.product(a, b):\n",
      "        mind.append(jaccard(arr[:, u[0]], arr[:, u[1]]))\n",
      "        \n",
      "    print a, b, np.min(mind), mind\n",
      "    return np.min(mind)"
     ],
     "language": "python",
     "metadata": {},
     "outputs": [],
     "prompt_number": 327
    },
    {
     "cell_type": "code",
     "collapsed": false,
     "input": [
      "def getNewCluster(a, b):\n",
      "    if not isinstance(a, collections.Iterable):\n",
      "        a = (a,)\n",
      "    if not isinstance(b, collections.Iterable):\n",
      "        b = (b,)\n",
      "        \n",
      "    return tuple(sorted(list(a + b)))"
     ],
     "language": "python",
     "metadata": {},
     "outputs": [],
     "prompt_number": 336
    },
    {
     "cell_type": "code",
     "collapsed": false,
     "input": [
      "N = [[4,5,0,5,1,0,3,2],[0,3,4,3,1,2,1,0],[2,0,1,3,0,4,5,3]]\n",
      "arr = np.array(N)\n",
      "arr"
     ],
     "language": "python",
     "metadata": {},
     "outputs": [
      {
       "metadata": {},
       "output_type": "pyout",
       "prompt_number": 357,
       "text": [
        "array([[4, 5, 0, 5, 1, 0, 3, 2],\n",
        "       [0, 3, 4, 3, 1, 2, 1, 0],\n",
        "       [2, 0, 1, 3, 0, 4, 5, 3]])"
       ]
      }
     ],
     "prompt_number": 357
    },
    {
     "cell_type": "code",
     "collapsed": false,
     "input": [
      "arr[np.where(arr<=2)]=0\n",
      "arr[np.where(arr>2)]=1\n",
      "arr"
     ],
     "language": "python",
     "metadata": {},
     "outputs": [
      {
       "metadata": {},
       "output_type": "pyout",
       "prompt_number": 358,
       "text": [
        "array([[1, 1, 0, 1, 0, 0, 1, 0],\n",
        "       [0, 1, 1, 1, 0, 0, 0, 0],\n",
        "       [0, 0, 0, 1, 0, 1, 1, 1]])"
       ]
      }
     ],
     "prompt_number": 358
    },
    {
     "cell_type": "code",
     "collapsed": false,
     "input": [],
     "language": "python",
     "metadata": {},
     "outputs": [],
     "prompt_number": 358
    },
    {
     "cell_type": "code",
     "collapsed": false,
     "input": [
      "clusters = range(8)\n",
      "while len(clusters) > 4:\n",
      "    l = range(len(clusters))\n",
      "    dists = {}\n",
      "    for u in itertools.combinations(l,2):\n",
      "        dist = distJ(clusters[u[0]], clusters[u[1]], arr)\n",
      "        #print u, dist\n",
      "        dists[u] = dist\n",
      "        mind = sorted(dists.items(), key=operator.itemgetter(1))[0]\n",
      "        \n",
      "    newCluster = getNewCluster(clusters[mind[0][0]], clusters[mind[0][1]])\n",
      "    newSet = []\n",
      "\n",
      "    for it in l:\n",
      "        if it in mind[0]: continue\n",
      "        newSet.append(clusters[it])\n",
      "\n",
      "    clusters = newSet\n",
      "    clusters.append(newCluster)\n",
      "    \n",
      "    print '-----------------------------------------------'\n",
      "    print mind, newCluster, clusters\n",
      "    print '-----------------------------------------------'"
     ],
     "language": "python",
     "metadata": {},
     "outputs": [
      {
       "output_type": "stream",
       "stream": "stdout",
       "text": [
        "[0] [1] 0.5 [0.5]\n",
        "[0] [2] 1.0 [1.0]\n",
        "[0] [3] 0.666666666667 [0.66666666666666663]\n",
        "[0] [4] 1.0 [1.0]\n",
        "[0] [5] 1.0 [1.0]\n",
        "[0] [6] 0.5 [0.5]\n",
        "[0] [7] 1.0 [1.0]\n",
        "[1] [2] 0.5 [0.5]\n",
        "[1] [3] 0.333333333333 [0.33333333333333331]\n",
        "[1] [4] 1.0 [1.0]\n",
        "[1] [5] 1.0 [1.0]\n",
        "[1] [6] 0.666666666667 [0.66666666666666663]\n",
        "[1] [7] 1.0 [1.0]\n",
        "[2] [3] 0.666666666667 [0.66666666666666663]\n",
        "[2] [4] 1.0 [1.0]\n",
        "[2] [5] 1.0 [1.0]\n",
        "[2] [6] 1.0 [1.0]\n",
        "[2] [7] 1.0 [1.0]\n",
        "[3] [4] 1.0 [1.0]\n",
        "[3] [5] 0.666666666667 [0.66666666666666663]\n",
        "[3] [6] 0.333333333333 [0.33333333333333331]\n",
        "[3] [7] 0.666666666667 [0.66666666666666663]\n",
        "[4] [5] 1.0 [1.0]\n",
        "[4] [6] 1.0 [1.0]\n",
        "[4] [7] 1.0 [1.0]\n",
        "[5] [6] 0.5 [0.5]\n",
        "[5] [7] 0.0 [0.0]\n",
        "[6] [7] 0.5 [0.5]\n",
        "-----------------------------------------------\n",
        "((5, 7), 0.0) (5, 7) [0, 1, 2, 3, 4, 6, (5, 7)]\n",
        "-----------------------------------------------\n",
        "[0] [1] 0.5 [0.5]\n",
        "[0] [2] 1.0 [1.0]\n",
        "[0] [3] 0.666666666667 [0.66666666666666663]\n",
        "[0] [4] 1.0 [1.0]\n",
        "[0] [6] 0.5 [0.5]\n",
        "[0] (5, 7) 1.0 [1.0, 1.0]\n",
        "[1] [2] 0.5 [0.5]\n",
        "[1] [3] 0.333333333333 [0.33333333333333331]\n",
        "[1] [4] 1.0 [1.0]\n",
        "[1] [6] 0.666666666667 [0.66666666666666663]\n",
        "[1] (5, 7) 1.0 [1.0, 1.0]\n",
        "[2] [3] 0.666666666667 [0.66666666666666663]\n",
        "[2] [4] 1.0 [1.0]\n",
        "[2] [6] 1.0 [1.0]\n",
        "[2] (5, 7) 1.0 [1.0, 1.0]\n",
        "[3] [4] 1.0 [1.0]\n",
        "[3] [6] 0.333333333333 [0.33333333333333331]\n",
        "[3] (5, 7) 0.666666666667 [0.66666666666666663, 0.66666666666666663]\n",
        "[4] [6] 1.0 [1.0]\n",
        "[4] (5, 7) 1.0 [1.0, 1.0]\n",
        "[6] (5, 7) 0.5 [0.5, 0.5]\n",
        "-----------------------------------------------\n",
        "((1, 3), 0.33333333333333331) (1, 3) [0, 2, 4, 6, (5, 7), (1, 3)]\n",
        "-----------------------------------------------\n",
        "[0] [2] 1.0 [1.0]\n",
        "[0] [4] 1.0 [1.0]\n",
        "[0] [6] 0.5 [0.5]\n",
        "[0] (5, 7) 1.0 [1.0, 1.0]\n",
        "[0] (1, 3) 0.5 [0.5, 0.66666666666666663]\n",
        "[2] [4] 1.0 [1.0]\n",
        "[2] [6] 1.0 [1.0]\n",
        "[2] (5, 7) 1.0 [1.0, 1.0]\n",
        "[2] (1, 3) 0.5 [0.5, 0.66666666666666663]\n",
        "[4] [6] 1.0 [1.0]\n",
        "[4] (5, 7) 1.0 [1.0, 1.0]\n",
        "[4] (1, 3) 1.0 [1.0, 1.0]\n",
        "[6] (5, 7) 0.5 [0.5, 0.5]\n",
        "[6] (1, 3) 0.333333333333 [0.66666666666666663, 0.33333333333333331]\n",
        "(5, 7) (1, 3) 0.666666666667 [1.0, 0.66666666666666663, 1.0, 0.66666666666666663]\n",
        "-----------------------------------------------\n",
        "((3, 5), 0.33333333333333331) (1, 3, 6) [0, 2, 4, (5, 7), (1, 3, 6)]\n",
        "-----------------------------------------------\n",
        "[0] [2] 1.0 [1.0]\n",
        "[0] [4] 1.0 [1.0]\n",
        "[0] (5, 7) 1.0 [1.0, 1.0]\n",
        "[0] (1, 3, 6) 0.5 [0.5, 0.66666666666666663, 0.5]\n",
        "[2] [4] 1.0 [1.0]\n",
        "[2] (5, 7) 1.0 [1.0, 1.0]\n",
        "[2] (1, 3, 6) 0.5 [0.5, 0.66666666666666663, 1.0]\n",
        "[4] (5, 7) 1.0 [1.0, 1.0]\n",
        "[4] (1, 3, 6) 1.0 [1.0, 1.0, 1.0]\n",
        "(5, 7) (1, 3, 6) 0.5 [1.0, 0.66666666666666663, 0.5, 1.0, 0.66666666666666663, 0.5]\n",
        "-----------------------------------------------\n",
        "((1, 4), 0.5) (1, 2, 3, 6) [0, 4, (5, 7), (1, 2, 3, 6)]\n",
        "-----------------------------------------------\n"
       ]
      }
     ],
     "prompt_number": 354
    },
    {
     "cell_type": "code",
     "collapsed": false,
     "input": [
      "clusters"
     ],
     "language": "python",
     "metadata": {},
     "outputs": [
      {
       "metadata": {},
       "output_type": "pyout",
       "prompt_number": 346,
       "text": [
        "[0, 4, (5, 7), (1, 2, 3, 6)]"
       ]
      }
     ],
     "prompt_number": 346
    },
    {
     "cell_type": "code",
     "collapsed": false,
     "input": [
      "mind"
     ],
     "language": "python",
     "metadata": {},
     "outputs": [
      {
       "metadata": {},
       "output_type": "pyout",
       "prompt_number": 348,
       "text": [
        "((1, 4), 0.5)"
       ]
      }
     ],
     "prompt_number": 348
    },
    {
     "cell_type": "code",
     "collapsed": false,
     "input": [
      "clusters"
     ],
     "language": "python",
     "metadata": {},
     "outputs": [
      {
       "metadata": {},
       "output_type": "pyout",
       "prompt_number": 185,
       "text": [
        "[0, 1, 2, 3, 4, 6]"
       ]
      }
     ],
     "prompt_number": 185
    },
    {
     "cell_type": "code",
     "collapsed": false,
     "input": [
      "getNewCluster((3, 2), (1,4))"
     ],
     "language": "python",
     "metadata": {},
     "outputs": [
      {
       "metadata": {},
       "output_type": "pyout",
       "prompt_number": 342,
       "text": [
        "(1, 2, 3, 4)"
       ]
      }
     ],
     "prompt_number": 342
    },
    {
     "cell_type": "code",
     "collapsed": false,
     "input": [
      "sorted(clusters, key = operator.itemgetter(1))"
     ],
     "language": "python",
     "metadata": {},
     "outputs": [
      {
       "ename": "TypeError",
       "evalue": "'int' object has no attribute '__getitem__'",
       "output_type": "pyerr",
       "traceback": [
        "\u001b[0;31m---------------------------------------------------------------------------\u001b[0m\n\u001b[0;31mTypeError\u001b[0m                                 Traceback (most recent call last)",
        "\u001b[0;32m<ipython-input-352-55f3fd840556>\u001b[0m in \u001b[0;36m<module>\u001b[0;34m()\u001b[0m\n\u001b[0;32m----> 1\u001b[0;31m \u001b[0msorted\u001b[0m\u001b[0;34m(\u001b[0m\u001b[0mclusters\u001b[0m\u001b[0;34m,\u001b[0m \u001b[0mkey\u001b[0m \u001b[0;34m=\u001b[0m \u001b[0moperator\u001b[0m\u001b[0;34m.\u001b[0m\u001b[0mitemgetter\u001b[0m\u001b[0;34m(\u001b[0m\u001b[0;36m1\u001b[0m\u001b[0;34m)\u001b[0m\u001b[0;34m)\u001b[0m\u001b[0;34m\u001b[0m\u001b[0m\n\u001b[0m",
        "\u001b[0;31mTypeError\u001b[0m: 'int' object has no attribute '__getitem__'"
       ]
      }
     ],
     "prompt_number": 352
    },
    {
     "cell_type": "code",
     "collapsed": false,
     "input": [],
     "language": "python",
     "metadata": {},
     "outputs": []
    }
   ],
   "metadata": {}
  }
 ]
}