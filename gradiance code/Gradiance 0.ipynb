{
 "metadata": {
  "name": "",
  "signature": "sha256:3b630f90199965e63a0a8b95c3844287cceee5cdc633a714570ef919c7eb524a"
 },
 "nbformat": 3,
 "nbformat_minor": 0,
 "worksheets": [
  {
   "cells": [
    {
     "cell_type": "code",
     "collapsed": false,
     "input": [
      "import numpy as np"
     ],
     "language": "python",
     "metadata": {},
     "outputs": [],
     "prompt_number": 1
    },
    {
     "cell_type": "heading",
     "level": 3,
     "metadata": {},
     "source": [
      "2.3.1"
     ]
    },
    {
     "cell_type": "code",
     "collapsed": false,
     "input": [
      "M = np.array([[1,2,3,4],[5,6,7,8],[9,10,11,12],[13,14,15,16]])"
     ],
     "language": "python",
     "metadata": {},
     "outputs": [],
     "prompt_number": 4
    },
    {
     "cell_type": "code",
     "collapsed": false,
     "input": [
      "V = np.array([1,2,3,4])"
     ],
     "language": "python",
     "metadata": {},
     "outputs": [],
     "prompt_number": 6
    },
    {
     "cell_type": "code",
     "collapsed": false,
     "input": [
      "it = np.nditer(M, flags=['multi_index'])"
     ],
     "language": "python",
     "metadata": {},
     "outputs": [],
     "prompt_number": 38
    },
    {
     "cell_type": "code",
     "collapsed": false,
     "input": [
      "while not it.finished:\n",
      "    row = it.multi_index[0]\n",
      "    col = it.multi_index[1]\n",
      "    prod = V[col] * it[0]\n",
      "    print \"%d %d\" % (row+1, prod)\n",
      "    it.iternext()"
     ],
     "language": "python",
     "metadata": {},
     "outputs": [
      {
       "output_type": "stream",
       "stream": "stdout",
       "text": [
        "1 1\n",
        "1 4\n",
        "1 9\n",
        "1 16\n",
        "2 5\n",
        "2 12\n",
        "2 21\n",
        "2 32\n",
        "3 9\n",
        "3 20\n",
        "3 33\n",
        "3 48\n",
        "4 13\n",
        "4 28\n",
        "4 45\n",
        "4 64\n"
       ]
      }
     ],
     "prompt_number": 39
    },
    {
     "cell_type": "heading",
     "level": 3,
     "metadata": {},
     "source": [
      "Prime Fac"
     ]
    },
    {
     "cell_type": "code",
     "collapsed": false,
     "input": [
      "def isPrime(pr):\n",
      "    if pr == 2:\n",
      "        return True\n",
      "    else:\n",
      "        for i in xrange(2,pr):\n",
      "            if pr%i == 0:\n",
      "                return False\n",
      "            \n",
      "        return True"
     ],
     "language": "python",
     "metadata": {},
     "outputs": [],
     "prompt_number": 58
    },
    {
     "cell_type": "code",
     "collapsed": false,
     "input": [
      "def getPrimesDevisorsTill(num):\n",
      "    for i in xrange(2,num):\n",
      "        if isPrime(i) and num%i==0:\n",
      "            yield i"
     ],
     "language": "python",
     "metadata": {},
     "outputs": [],
     "prompt_number": 83
    },
    {
     "cell_type": "code",
     "collapsed": false,
     "input": [
      "nums = np.array([15, 21, 24, 30, 49])"
     ],
     "language": "python",
     "metadata": {},
     "outputs": [],
     "prompt_number": 84
    },
    {
     "cell_type": "code",
     "collapsed": false,
     "input": [
      "counts = {}\n",
      "for x in np.nditer(nums):\n",
      "    for i in getPrimesDevisorsTill(x):\n",
      "        if i in counts:\n",
      "            counts[i] = counts[i]+x\n",
      "        else:\n",
      "            counts[i] = x"
     ],
     "language": "python",
     "metadata": {},
     "outputs": [],
     "prompt_number": 88
    },
    {
     "cell_type": "code",
     "collapsed": false,
     "input": [
      "counts"
     ],
     "language": "python",
     "metadata": {},
     "outputs": [
      {
       "metadata": {},
       "output_type": "pyout",
       "prompt_number": 90,
       "text": [
        "{2: 54, 3: 90, 5: 45, 7: 70}"
       ]
      }
     ],
     "prompt_number": 90
    },
    {
     "cell_type": "heading",
     "level": 3,
     "metadata": {},
     "source": [
      "2.3.7"
     ]
    },
    {
     "cell_type": "code",
     "collapsed": false,
     "input": [
      "Ra = [0,1,2]\n",
      "Rb = [1,2,3]\n",
      "\n",
      "Sb = [0,1,2]\n",
      "Sc = [1,2,3]"
     ],
     "language": "python",
     "metadata": {},
     "outputs": [],
     "prompt_number": 116
    },
    {
     "cell_type": "code",
     "collapsed": false,
     "input": [
      "pairs = {}\n",
      "\n",
      "for i in range(len(Rb)):\n",
      "    key = Rb[i]\n",
      "    if key in pairs:\n",
      "        pairs[key].append(\", <R, \" + str(Ra[i]) + \">\")\n",
      "    else:\n",
      "        pairs[key] = [\"<R, \" + str(Ra[i]) + \">\"]\n",
      "        \n",
      "for i in range(len(Sb)):\n",
      "    key = Sb[i]\n",
      "    if key in pairs:\n",
      "        pairs[key].append(\", <S, \" + str(Sc[i]) + \">\")\n",
      "    else:\n",
      "        pairs[key] = [\"<S, \" + str(Sc[i]) + \">\"]"
     ],
     "language": "python",
     "metadata": {},
     "outputs": [],
     "prompt_number": 117
    },
    {
     "cell_type": "code",
     "collapsed": false,
     "input": [
      "pairs"
     ],
     "language": "python",
     "metadata": {},
     "outputs": [
      {
       "metadata": {},
       "output_type": "pyout",
       "prompt_number": 118,
       "text": [
        "{0: ['<S, 1>'],\n",
        " 1: ['<R, 0>', ', <S, 2>'],\n",
        " 2: ['<R, 1>', ', <S, 3>'],\n",
        " 3: ['<R, 2>']}"
       ]
      }
     ],
     "prompt_number": 118
    },
    {
     "cell_type": "code",
     "collapsed": false,
     "input": [],
     "language": "python",
     "metadata": {},
     "outputs": [],
     "prompt_number": 0
    },
    {
     "cell_type": "code",
     "collapsed": false,
     "input": [],
     "language": "python",
     "metadata": {},
     "outputs": [],
     "prompt_number": 0
    },
    {
     "cell_type": "code",
     "collapsed": false,
     "input": [
      "import itertools"
     ],
     "language": "python",
     "metadata": {},
     "outputs": [],
     "prompt_number": 1
    },
    {
     "cell_type": "code",
     "collapsed": false,
     "input": [
      "a = ['A','B','C']"
     ],
     "language": "python",
     "metadata": {},
     "outputs": [],
     "prompt_number": 2
    },
    {
     "cell_type": "code",
     "collapsed": false,
     "input": [
      "for i in itertools.chain(itertools.combinations(a,2), itertools.combinations(range(3),2)):\n",
      "    print i"
     ],
     "language": "python",
     "metadata": {},
     "outputs": [
      {
       "output_type": "stream",
       "stream": "stdout",
       "text": [
        "('A', 'B')\n",
        "('A', 'C')\n",
        "('B', 'C')\n",
        "(0, 1)\n",
        "(0, 2)\n",
        "(1, 2)\n"
       ]
      }
     ],
     "prompt_number": 11
    },
    {
     "cell_type": "code",
     "collapsed": false,
     "input": [],
     "language": "python",
     "metadata": {},
     "outputs": []
    }
   ],
   "metadata": {}
  }
 ]
}