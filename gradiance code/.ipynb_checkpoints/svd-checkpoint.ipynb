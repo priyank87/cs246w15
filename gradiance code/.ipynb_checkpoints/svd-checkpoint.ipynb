{
 "metadata": {
  "name": "",
  "signature": "sha256:97a891d3118770432ac1da1c984ac0f195b245edea5d88e7bee92956e9d69332"
 },
 "nbformat": 3,
 "nbformat_minor": 0,
 "worksheets": [
  {
   "cells": [
    {
     "cell_type": "code",
     "collapsed": false,
     "input": [
      "import numpy as np\n",
      "from numpy import linalg as LA"
     ],
     "language": "python",
     "metadata": {},
     "outputs": [],
     "prompt_number": 1
    },
    {
     "cell_type": "code",
     "collapsed": false,
     "input": [
      "a = np.array([5,10])\n",
      "c = np.array([20,5])"
     ],
     "language": "python",
     "metadata": {},
     "outputs": [],
     "prompt_number": 2
    },
    {
     "cell_type": "code",
     "collapsed": false,
     "input": [
      "cand_a = [[12,8], [11,7], [12, 8], [12,12]]"
     ],
     "language": "python",
     "metadata": {},
     "outputs": [],
     "prompt_number": 6
    },
    {
     "cell_type": "code",
     "collapsed": false,
     "input": [
      "cand_c = [[13,4], [14,6], [15,10], [16,12]]"
     ],
     "language": "python",
     "metadata": {},
     "outputs": [],
     "prompt_number": 7
    },
    {
     "cell_type": "code",
     "collapsed": false,
     "input": [
      "for i in cand_a:\n",
      "    vec = np.array(i)\n",
      "    dist = LA.norm(a-vec)\n",
      "    print vec, dist"
     ],
     "language": "python",
     "metadata": {},
     "outputs": [
      {
       "output_type": "stream",
       "stream": "stdout",
       "text": [
        "[12  8] 7.28010988928\n",
        "[11  7] 6.7082039325\n",
        "[12  8] 7.28010988928\n",
        "[12 12] 7.28010988928\n"
       ]
      }
     ],
     "prompt_number": 10
    },
    {
     "cell_type": "code",
     "collapsed": false,
     "input": [
      "for i in cand_c:\n",
      "    vec = np.array(i)\n",
      "    dist = LA.norm(c-vec)\n",
      "    print vec, dist"
     ],
     "language": "python",
     "metadata": {},
     "outputs": [
      {
       "output_type": "stream",
       "stream": "stdout",
       "text": [
        "[13  4] 7.07106781187\n",
        "[14  6] 6.0827625303\n",
        "[15 10] 7.07106781187\n",
        "[16 12] 8.0622577483\n"
       ]
      }
     ],
     "prompt_number": 12
    },
    {
     "cell_type": "code",
     "collapsed": false,
     "input": [],
     "language": "python",
     "metadata": {},
     "outputs": [],
     "prompt_number": 12
    },
    {
     "cell_type": "code",
     "collapsed": false,
     "input": [],
     "language": "python",
     "metadata": {},
     "outputs": [],
     "prompt_number": 12
    },
    {
     "cell_type": "code",
     "collapsed": false,
     "input": [
      "added = [[0,0], [10,10]]"
     ],
     "language": "python",
     "metadata": {},
     "outputs": [],
     "prompt_number": 38
    },
    {
     "cell_type": "code",
     "collapsed": false,
     "input": [
      "toAdd = [[1,6], [3,7], [4,3], [7,7], [8,2], [9, 5]]"
     ],
     "language": "python",
     "metadata": {},
     "outputs": [],
     "prompt_number": 39
    },
    {
     "cell_type": "code",
     "collapsed": false,
     "input": [
      "for k in range(6):\n",
      "    dists = []\n",
      "    for i in toAdd:\n",
      "        mdis = []\n",
      "        for j in added:\n",
      "            d = LA.norm(np.array(j)-np.array(i))\n",
      "            mdis.append(d)\n",
      "        mind = np.min(mdis)\n",
      "        dists.append((mind, i))\n",
      "    \n",
      "    #print dists\n",
      "    srt = sorted(dists, key = lambda x: x[0], reverse=True)\n",
      "    el = srt[0]\n",
      "    added.append(el[1])\n",
      "    toAdd.remove(el[1])"
     ],
     "language": "python",
     "metadata": {},
     "outputs": [],
     "prompt_number": 40
    },
    {
     "cell_type": "code",
     "collapsed": false,
     "input": [
      "added"
     ],
     "language": "python",
     "metadata": {},
     "outputs": [
      {
       "metadata": {},
       "output_type": "pyout",
       "prompt_number": 41,
       "text": [
        "[[0, 0], [10, 10], [8, 2], [3, 7], [4, 3], [7, 7], [9, 5], [1, 6]]"
       ]
      }
     ],
     "prompt_number": 41
    },
    {
     "cell_type": "code",
     "collapsed": false,
     "input": [
      "toAdd"
     ],
     "language": "python",
     "metadata": {},
     "outputs": [
      {
       "metadata": {},
       "output_type": "pyout",
       "prompt_number": 31,
       "text": [
        "[]"
       ]
      }
     ],
     "prompt_number": 31
    },
    {
     "cell_type": "code",
     "collapsed": false,
     "input": [],
     "language": "python",
     "metadata": {},
     "outputs": [],
     "prompt_number": 13
    },
    {
     "cell_type": "code",
     "collapsed": false,
     "input": [
      "test1 = [6.23658084E8, 5.0986063E8, 4.85478413E8, 4.63994716E8, 4.60967022E8, 4.6053561E8, 4.60310797E8, 4.60001258E8, 4.59568241E8, 4.59018805E8, 4.5848837E8, 4.57941919E8, 4.5755567E8, 4.57287833E8, 4.57048292E8, 4.56889922E8, 4.56701323E8, 4.56401899E8, 4.56175503E8, 4.55984591E8]\n",
      "test2 = [4.38745437E8, 2.49801643E8, 1.94492505E8, 1.69802592E8, 1.56293459E8, 1.4909191E8, 1.42506236E8, 1.32301622E8, 1.17168711E8, 1.08545091E8, 1.02234922E8, 9.8275677E7, 9.5627978E7, 9.3791002E7, 9.2374815E7, 9.1539349E7, 9.1043261E7, 9.0749936E7, 9.0467844E7, 9.0214141E7]\n",
      "plt.plot(test1, label=\"c1.txt\")\n",
      "plt.plot(test2, label=\"c2.txt\")\n",
      "plt.legend()\n",
      "plt.xlabel(\"Iteration\")\n",
      "plt.ylabel(\"Error\")\n",
      "plt.title(\"Error vs Iteration\")"
     ],
     "language": "python",
     "metadata": {},
     "outputs": [
      {
       "metadata": {},
       "output_type": "pyout",
       "prompt_number": 1,
       "text": [
        "<matplotlib.text.Text at 0x108420d50>"
       ]
      },
      {
       "metadata": {},
       "output_type": "display_data",
       "png": "[encoded data removed]",
       "text": [
        "<matplotlib.figure.Figure at 0x107fabb90>"
       ]
      }
     ],
     "prompt_number": 1
    },
    {
     "cell_type": "code",
     "collapsed": false,
     "input": [
      "centStr = \"0.17496894409937883 0.26409937888198765 0.48478260869565226 0.4175776397515528 0.3142236024844721 0.15795031055900627 0.07546583850931678 0.21559006211180123 0.33819875776397507 0.6326086956521739 0.12447204968944099 0.7521118012422355 0.15298136645962745 0.12142857142857141 0.19863354037267086 0.249689440993789 0.16366459627329188 0.34677018633540374 1.7215527950310567 0.19913043478260872 1.37223602484472 0.3104968944099379 0.21465838509316768 0.193416149068323 0.41155279503105574 0.13223602484472052 0.02267080745341615 0.021304347826086957 0.007018633540372672 0.024472049689440997 0.014906832298136646 0.0011801242236024845 0.09024844720496894 0.002360248447204969 0.07192546583850934 0.02708074534161491 0.10708074534161494 0.007018633540372672 0.02372670807453416 0.025838509316770186 0.005962732919254659 0.04366459627329193 0.01173913043478261 0.0063975155279503105 0.04291925465838507 0.031242236024844716 0.0027950310559006213 0.01925465838509317 0.06939130434782607 0.13108074534161487 0.028931677018633542 0.6866832298136648 0.21185093167701857 0.06648447204968946 10.619267080745331 187.82608695652175 868.944099378882 0.7453416149068323\"\n",
      "cent = centStr.split()\n",
      "cent = map(double, cent)"
     ],
     "language": "python",
     "metadata": {},
     "outputs": [],
     "prompt_number": 27
    },
    {
     "cell_type": "code",
     "collapsed": false,
     "input": [
      "idx = (np.argsort(cent))[::-1]"
     ],
     "language": "python",
     "metadata": {},
     "outputs": [],
     "prompt_number": 38
    },
    {
     "cell_type": "code",
     "collapsed": false,
     "input": [
      "cd '/Users/prmathur/Documents/Pers/MMDS/Course/cs246/HW2/hw2-q4-kmeans'"
     ],
     "language": "python",
     "metadata": {},
     "outputs": [
      {
       "output_type": "stream",
       "stream": "stdout",
       "text": [
        "/Users/prmathur/Documents/Pers/MMDS/Course/cs246/HW2/hw2-q4-kmeans\n"
       ]
      }
     ],
     "prompt_number": 39
    },
    {
     "cell_type": "code",
     "collapsed": false,
     "input": [
      "vocab = open('vocab.txt').read()"
     ],
     "language": "python",
     "metadata": {},
     "outputs": [],
     "prompt_number": 40
    },
    {
     "cell_type": "code",
     "collapsed": false,
     "input": [
      "words = vocab.split(\"\\n\")"
     ],
     "language": "python",
     "metadata": {},
     "outputs": [],
     "prompt_number": 41
    },
    {
     "cell_type": "code",
     "collapsed": false,
     "input": [
      "cnt = 1\n",
      "for i in idx:\n",
      "    print words[i]\n",
      "    cnt += 1"
     ],
     "language": "python",
     "metadata": {},
     "outputs": [
      {
       "output_type": "stream",
       "stream": "stdout",
       "text": [
        "instillation\n",
        "methoxyfenozide\n",
        "sodium-sensitive\n",
        "post-infectious\n",
        "teleological\n",
        "neodymium\n",
        "anserine\n",
        "embl3\n",
        "spc\n",
        "alkalemia\n",
        "rhopalosiphum\n",
        "dimensionless\n",
        "epaxial\n",
        "cdase\n",
        "worksite\n",
        "fall-off\n",
        "decay-corrected\n",
        "0.5-mm\n",
        "rerouted\n",
        "membrane\n",
        "assumed\n",
        "chorioretinal\n",
        "masses\n",
        "beta-sandwich\n",
        "activator\n",
        "bacmid\n",
        "softer\n",
        "psycholinguistic\n",
        "lithium\n",
        "igf-1-induced\n",
        "derepresses\n",
        "semicrystalline\n",
        "re-oxidation\n",
        "chol-1\n",
        "mitomycin\n",
        "dental\n",
        "valuing\n",
        "ci-988\n",
        "dhu\n",
        "genes/protein\n",
        "space&quot\n",
        "lht\n",
        "ca2+-channel\n",
        "beta-carotene\n",
        "nth1\n",
        "fab'2\n",
        "atypically\n",
        "serous\n",
        "lhi\n",
        "elisa-negative\n",
        "alpha2-globulin\n",
        "trypanocidal\n",
        "gadus\n",
        "desensitizes\n",
        "littorea\n",
        "intravitreal\n",
        "pim-1\n",
        "54-fold\n"
       ]
      }
     ],
     "prompt_number": 47
    },
    {
     "cell_type": "code",
     "collapsed": false,
     "input": [],
     "language": "python",
     "metadata": {},
     "outputs": []
    }
   ],
   "metadata": {}
  }
 ]
}