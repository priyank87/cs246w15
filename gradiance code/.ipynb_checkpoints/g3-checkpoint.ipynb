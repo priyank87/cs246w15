{
 "metadata": {
  "name": "",
  "signature": "sha256:906d2e694d0bdcd52540b8a8007850b52543f8d25707f313dc3c862901dd90d4"
 },
 "nbformat": 3,
 "nbformat_minor": 0,
 "worksheets": [
  {
   "cells": [
    {
     "cell_type": "code",
     "collapsed": false,
     "input": [
      "import numpy as np\n",
      "from numpy import linalg as LA\n",
      "import math"
     ],
     "language": "python",
     "metadata": {},
     "outputs": [],
     "prompt_number": 68
    },
    {
     "cell_type": "code",
     "collapsed": false,
     "input": [
      "u = [1, 0.25, 0, 0, 0.5, 0] \n",
      "v = [0.75, 0, 0, 0.2, 0.4, 0] \n",
      "w = [0, 0.1, 0.75, 0, 0, 1]"
     ],
     "language": "python",
     "metadata": {},
     "outputs": [],
     "prompt_number": 155
    },
    {
     "cell_type": "code",
     "collapsed": false,
     "input": [
      "r1 = [1, -1, 1, -1, 1, -1] \n",
      "r2 = [-1, -1, 1, 1, -1, 1] \n",
      "r3 = [1, 1, 1, 1, 1, 1]"
     ],
     "language": "python",
     "metadata": {},
     "outputs": [],
     "prompt_number": 156
    },
    {
     "cell_type": "code",
     "collapsed": false,
     "input": [
      "au = np.array(u)\n",
      "av = np.array(v)\n",
      "aw = np.array(w)\n",
      "\n",
      "ar1 = np.array(r1)\n",
      "ar2 = np.array(r2)\n",
      "ar3 = np.array(r3)"
     ],
     "language": "python",
     "metadata": {},
     "outputs": [],
     "prompt_number": 157
    },
    {
     "cell_type": "code",
     "collapsed": false,
     "input": [
      "su = np.array([ar1.dot(au), ar2.dot(au), ar3.dot(au)])\n",
      "sv = np.array([ar1.dot(av), ar2.dot(av), ar3.dot(av)])\n",
      "sw = np.array([ar1.dot(aw), ar2.dot(aw), ar3.dot(aw)])\n",
      "\n",
      "su=np.where(su>0, 1, 0)\n",
      "sv=np.where(sv>0, 1, 0)\n",
      "sw=np.where(sw>0, 1, 0)"
     ],
     "language": "python",
     "metadata": {},
     "outputs": [],
     "prompt_number": 158
    },
    {
     "cell_type": "code",
     "collapsed": false,
     "input": [
      "d1 = math.pi*np.sum(np.logical_xor(su,sv))*1.0/3"
     ],
     "language": "python",
     "metadata": {},
     "outputs": [],
     "prompt_number": 166
    },
    {
     "cell_type": "code",
     "collapsed": false,
     "input": [
      "d2 = math.pi*np.sum(np.logical_xor(sv,sw))*1.0/3"
     ],
     "language": "python",
     "metadata": {},
     "outputs": [],
     "prompt_number": 167
    },
    {
     "cell_type": "code",
     "collapsed": false,
     "input": [
      "d3 = math.pi*np.sum(np.logical_xor(su,sw))*1.0/3"
     ],
     "language": "python",
     "metadata": {},
     "outputs": [],
     "prompt_number": 168
    },
    {
     "cell_type": "code",
     "collapsed": false,
     "input": [
      "math.cos(d1)"
     ],
     "language": "python",
     "metadata": {},
     "outputs": [
      {
       "metadata": {},
       "output_type": "pyout",
       "prompt_number": 169,
       "text": [
        "1.0"
       ]
      }
     ],
     "prompt_number": 169
    },
    {
     "cell_type": "code",
     "collapsed": false,
     "input": [
      "math.cos(d2)"
     ],
     "language": "python",
     "metadata": {},
     "outputs": [
      {
       "metadata": {},
       "output_type": "pyout",
       "prompt_number": 170,
       "text": [
        "-0.4999999999999998"
       ]
      }
     ],
     "prompt_number": 170
    },
    {
     "cell_type": "code",
     "collapsed": false,
     "input": [
      "math.cos(d3)"
     ],
     "language": "python",
     "metadata": {},
     "outputs": [
      {
       "metadata": {},
       "output_type": "pyout",
       "prompt_number": 171,
       "text": [
        "-0.4999999999999998"
       ]
      }
     ],
     "prompt_number": 171
    },
    {
     "cell_type": "code",
     "collapsed": false,
     "input": [
      "print su\n",
      "print sv\n",
      "print sw"
     ],
     "language": "python",
     "metadata": {},
     "outputs": [
      {
       "output_type": "stream",
       "stream": "stdout",
       "text": [
        "[1 0 1]\n",
        "[1 0 1]\n",
        "[0 1 1]\n"
       ]
      }
     ],
     "prompt_number": 150
    },
    {
     "cell_type": "code",
     "collapsed": false,
     "input": [
      "t = np.logical_xor(su,sw)\n",
      "t"
     ],
     "language": "python",
     "metadata": {},
     "outputs": [
      {
       "metadata": {},
       "output_type": "pyout",
       "prompt_number": 165,
       "text": [
        "array([ True,  True, False], dtype=bool)"
       ]
      }
     ],
     "prompt_number": 165
    },
    {
     "cell_type": "code",
     "collapsed": false,
     "input": [
      "np.sum(np.logical_xor(su,sw))*1.0/3"
     ],
     "language": "python",
     "metadata": {},
     "outputs": [
      {
       "metadata": {},
       "output_type": "pyout",
       "prompt_number": 107,
       "text": [
        "0.66666666666666663"
       ]
      }
     ],
     "prompt_number": 107
    },
    {
     "cell_type": "code",
     "collapsed": false,
     "input": [
      "for r in [1, 2, 3, 4, 6, 8, 12, 24]:\n",
      "    b = 24 / r\n",
      "    \n",
      "    p1 = 0.5\n",
      "    p2 = 0.2\n",
      "    p3 = 0\n",
      "    \n",
      "    n = 1\n",
      "    m = 1000 * n\n",
      "    \n",
      "    # False negatives\n",
      "    pr1 = ((1-(p1**r))**b)\n",
      "    pr2 = ((1-(p2**r))**b)\n",
      "    pr3 = ((1-(p3**r))**b)\n",
      "\n",
      "    # False positives\n",
      "    q1 = 1 - p1\n",
      "    q2 = 1 - p2\n",
      "    q3 = 1 - p3\n",
      "    \n",
      "    pr11 = ((1-(q1**r))**b)\n",
      "    pr22 = ((1-(q2**r))**b)\n",
      "    pr33 = ((1-(q3**r))**b)\n",
      "    \n",
      "    s1 = n*pr1 + n*pr11 + m*pr2 + m*pr22\n",
      "\n",
      "    print r, s1"
     ],
     "language": "python",
     "metadata": {},
     "outputs": [
      {
       "output_type": "stream",
       "stream": "stdout",
       "text": [
        "1 4.72236660208\n",
        "2 612.777848415\n",
        "3 941.667145723\n",
        "4 1034.14859304\n",
        "6 1298.02755673\n",
        "8 1578.37262048\n",
        "12 1869.28242838\n",
        "24 1997.2776334\n"
       ]
      }
     ],
     "prompt_number": 61
    },
    {
     "cell_type": "code",
     "collapsed": false,
     "input": [],
     "language": "python",
     "metadata": {},
     "outputs": [],
     "prompt_number": 59
    },
    {
     "cell_type": "code",
     "collapsed": false,
     "input": [
      "math.pi"
     ],
     "language": "python",
     "metadata": {},
     "outputs": [
      {
       "metadata": {},
       "output_type": "pyout",
       "prompt_number": 120,
       "text": [
        "3.141592653589793"
       ]
      }
     ],
     "prompt_number": 120
    },
    {
     "cell_type": "code",
     "collapsed": false,
     "input": [],
     "language": "python",
     "metadata": {},
     "outputs": []
    }
   ],
   "metadata": {}
  }
 ]
}